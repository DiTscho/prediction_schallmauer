{
 "cells": [
  {
   "cell_type": "code",
   "execution_count": 1,
   "metadata": {},
   "outputs": [
    {
     "name": "stderr",
     "output_type": "stream",
     "text": [
      "Warning message:\n",
      "“package ‘survival’ was built under R version 4.1.1”\n"
     ]
    }
   ],
   "source": [
    "#export \n",
    "suppressMessages(source(\"exp/nb_04.R\"))"
   ]
  },
  {
   "cell_type": "code",
   "execution_count": 3,
   "metadata": {},
   "outputs": [],
   "source": [
    "#export\n",
    "library(mboost)"
   ]
  },
  {
   "cell_type": "markdown",
   "metadata": {},
   "source": [
    "## Load data"
   ]
  },
  {
   "cell_type": "markdown",
   "metadata": {},
   "source": [
    "### Random data"
   ]
  },
  {
   "cell_type": "code",
   "execution_count": 4,
   "metadata": {},
   "outputs": [
    {
     "data": {
      "text/html": [
       "8"
      ],
      "text/latex": [
       "8"
      ],
      "text/markdown": [
       "8"
      ],
      "text/plain": [
       "[1] 8"
      ]
     },
     "metadata": {},
     "output_type": "display_data"
    }
   ],
   "source": [
    "dfs = readRDS(paste(data_path,\"dfs_random.rds\", sep=\"\"))\n",
    "length(dfs)"
   ]
  },
  {
   "cell_type": "markdown",
   "metadata": {},
   "source": [
    "## Meta-Learner"
   ]
  },
  {
   "cell_type": "code",
   "execution_count": 5,
   "metadata": {},
   "outputs": [],
   "source": [
    "#export\n",
    "learning_algs =   c(\"Cox_PH_model\",\n",
    "                    \"Ridge\",\n",
    "                    \"Elastic_Net\",\n",
    "                    \"Lasso\",\n",
    "                    \"Gradient_Boosting_tree_based\",\n",
    "                    \"Gradient_Boosting_linear_model_based\",\n",
    "                    \"Random_Survival_Forests\",\n",
    "                    \"Maximally_selected_rank_statistics_Random_Forests\",\n",
    "                    \"Survival_Tree\"\n",
    "                   )"
   ]
  },
  {
   "cell_type": "code",
   "execution_count": 6,
   "metadata": {},
   "outputs": [],
   "source": [
    "#export\n",
    "learners = list(makeLearner(\"surv.coxph\",           id = learning_algs[[1]]),\n",
    "                makeLearner(\"surv.cvglmnet\",        id = learning_algs[[2]], alpha = 0,   nfolds=5),\n",
    "                makeLearner(\"surv.cvglmnet\",        id = learning_algs[[3]], alpha = 0.5, nfolds=5),\n",
    "                makeLearner(\"surv.cvglmnet\",        id = learning_algs[[4]], alpha = 1,   nfolds=5),\n",
    "                makeLearner(\"surv.gamboost\",        id = learning_algs[[5]], baselearner = \"bols\" ),\n",
    "                makeLearner(\"surv.gamboost\",        id = learning_algs[[6]], baselearner = \"btree\"),\n",
    "                makeLearner(\"surv.randomForestSRC\", id = learning_algs[[7]]),\n",
    "                makeLearner(\"surv.ranger\",          id = learning_algs[[8]]),\n",
    "                makeLearner(\"surv.rpart\",           id = learning_algs[[9]])\n",
    "               )\n",
    "names(learners) = learning_algs"
   ]
  },
  {
   "cell_type": "code",
   "execution_count": 27,
   "metadata": {},
   "outputs": [],
   "source": [
    "#export\n",
    "MetaLearner = function(df, learners){\n",
    "    list(\n",
    "    task              = makeSurvTask(data = df, target = c(\"survival_time\", \"event\")),\n",
    "    resampler         = makeResampleDesc(\"CV\", iters = 5),\n",
    "    \n",
    "    train_models      = purrr::partial(mlr::train, task = task),\n",
    "    resample_learners = purrr::partial(mlr::resample, task = task, resampling = resampler, show.info = FALSE),\n",
    "    \n",
    "    #models           = map(learners, train_models)\n",
    "#     resamplers        = map(learners, resample_learners() )\n",
    "    resamplers        = map(learners, purrr::partial(mlr::resample, \n",
    "                                                     task = task, \n",
    "                                                     resampling = resampler, \n",
    "                                                     show.info = FALSE) )\n",
    "    )\n",
    "}"
   ]
  },
  {
   "cell_type": "code",
   "execution_count": 28,
   "metadata": {},
   "outputs": [],
   "source": [
    "#export\n",
    "MetaLearner = purrr::partial(MetaLearner, learners = learners)"
   ]
  },
  {
   "cell_type": "code",
   "execution_count": 29,
   "metadata": {},
   "outputs": [],
   "source": [
    "#export\n",
    "get_c_index = function(resampler){resampler$aggr[[1]]}"
   ]
  },
  {
   "cell_type": "code",
   "execution_count": 30,
   "metadata": {},
   "outputs": [],
   "source": [
    "#export\n",
    "get_c_index_for_algs = function(resampler){\n",
    "    l = map(resampler, get_c_index)\n",
    "    df = data.frame(matrix(unlist(l), ncol=length(l), byrow=FALSE),stringsAsFactors=FALSE)\n",
    "    names(df) = names(l)\n",
    "    df\n",
    "}"
   ]
  },
  {
   "cell_type": "markdown",
   "metadata": {},
   "source": [
    "### TMP"
   ]
  },
  {
   "cell_type": "code",
   "execution_count": 31,
   "metadata": {},
   "outputs": [
    {
     "ename": "ERROR",
     "evalue": "Error in checkClass(x, classes, ordered, null.ok): object 'task' not found\n",
     "output_type": "error",
     "traceback": [
      "Error in checkClass(x, classes, ordered, null.ok): object 'task' not found\nTraceback:\n",
      "1. map(dfs[[8]], MetaLearner)",
      "2. .f(.x[[i]], ...)",
      "3. eval_tidy(call, mask)",
      "4. (function (df, learners) \n . {\n .     list(task = makeSurvTask(data = df, target = c(\"survival_time\", \n .         \"event\")), resampler = makeResampleDesc(\"CV\", iters = 5), \n .         train_models = purrr::partial(mlr::train, task = task), \n .         resample_learners = purrr::partial(mlr::resample, task = task, \n .             resampling = resampler, show.info = FALSE), resamplers = map(learners, \n .             purrr::partial(mlr::resample, task = task, resampling = resampler, \n .                 show.info = FALSE)))\n . })(learners = learners, ...)",
      "5. map(learners, purrr::partial(mlr::resample, task = task, resampling = resampler, \n .     show.info = FALSE))   # at line 3-13 of file <text>",
      "6. .f(.x[[i]], ...)",
      "7. eval_tidy(call, mask)",
      "8. (function (learner, task, resampling, measures, weights = NULL, \n .     models = FALSE, extract, keep.pred = TRUE, ..., show.info = getMlrOption(\"show.info\")) \n . {\n .     learner = checkLearner(learner)\n .     learner = setHyperPars(learner, ...)\n .     assertClass(task, classes = \"Task\")\n .     n = getTaskSize(task)\n .     if (inherits(resampling, \"ResampleDesc\")) {\n .         resampling = makeResampleInstance(resampling, task = task)\n .     }\n .     assertClass(resampling, classes = \"ResampleInstance\")\n .     measures = checkMeasures(measures, task)\n .     if (!is.null(weights)) {\n .         assertNumeric(weights, len = n, any.missing = FALSE, \n .             lower = 0)\n .     }\n .     assertFlag(models)\n .     if (missing(extract)) {\n .         extract = function(model) {\n .         }\n .     }\n .     else {\n .         assertFunction(extract)\n .     }\n .     assertFlag(show.info)\n .     r = resampling$size\n .     if (n != r) {\n .         stop(stri_paste(\"Size of data set:\", n, \"and resampling instance:\", \n .             r, \"differ!\", sep = \" \"))\n .     }\n .     checkLearnerBeforeTrain(task, learner, weights)\n .     checkAggrsBeforeResample(measures, resampling$desc)\n .     rin = resampling\n .     more.args = list(learner = learner, task = task, rin = rin, \n .         weights = NULL, measures = measures, model = models, \n .         extract = extract, show.info = show.info)\n .     if (!is.null(weights)) {\n .         more.args$weights = weights\n .     }\n .     else if (!is.null(getTaskWeights(task))) {\n .         more.args$weights = getTaskWeights(task)\n .     }\n .     parallelLibrary(\"mlr\", master = FALSE, level = \"mlr.resample\", \n .         show.info = FALSE)\n .     exportMlrOptions(level = \"mlr.resample\")\n .     if (show.info) {\n .         messagef(\"Resampling: %s\", rin$desc$id)\n .         measure.lognames = extractSubList(measures, \"id\")\n .         if (rin$desc$predict == \"both\") {\n .             id.train = which(vlapply(measures, function(x) \"req.train\" %in% \n .                 x$aggr$properties))\n .             id.test = which(vlapply(measures, function(x) \"req.test\" %in% \n .                 x$aggr$properties))\n .             measure.lognames = c(stri_paste(measure.lognames[id.train], \n .                 \"train\", sep = \".\"), stri_paste(measure.lognames[id.test], \n .                 \"test\", sep = \".\"))\n .         }\n .         printResampleFormatLine(\"Measures:\", measure.lognames)\n .     }\n .     time1 = Sys.time()\n .     iter.results = parallelMap(doResampleIteration, seq_len(rin$desc$iters), \n .         level = \"mlr.resample\", more.args = more.args)\n .     time2 = Sys.time()\n .     runtime = as.numeric(difftime(time2, time1, units = \"secs\"))\n .     addClasses(mergeResampleResult(learner$id, task, iter.results, \n .         measures, rin, models, extract, keep.pred, show.info, \n .         runtime), \"ResampleResult\")\n . })(task = task, resampling = resampler, show.info = FALSE, ...)",
      "9. assertClass(task, classes = \"Task\")",
      "10. checkClass(x, classes, ordered, null.ok)"
     ]
    }
   ],
   "source": [
    "ml_cv = map(dfs[[8]], MetaLearner)"
   ]
  },
  {
   "cell_type": "code",
   "execution_count": null,
   "metadata": {},
   "outputs": [],
   "source": []
  },
  {
   "cell_type": "code",
   "execution_count": null,
   "metadata": {},
   "outputs": [],
   "source": []
  },
  {
   "cell_type": "code",
   "execution_count": null,
   "metadata": {},
   "outputs": [],
   "source": []
  },
  {
   "cell_type": "code",
   "execution_count": null,
   "metadata": {},
   "outputs": [],
   "source": []
  },
  {
   "cell_type": "markdown",
   "metadata": {},
   "source": [
    "### RUN"
   ]
  },
  {
   "cell_type": "code",
   "execution_count": 395,
   "metadata": {},
   "outputs": [],
   "source": [
    "metalearners_nki = map(dfs[[6]], MetaLearner)"
   ]
  },
  {
   "cell_type": "code",
   "execution_count": 396,
   "metadata": {},
   "outputs": [],
   "source": [
    "#saveRDS(metalearners_nki, paste(data_path,\"metalearners_random_\",names(dfs)[[6]],\".rds\", sep=\"\"))"
   ]
  },
  {
   "cell_type": "code",
   "execution_count": 262,
   "metadata": {},
   "outputs": [],
   "source": [
    "dfs_signatures =         readRDS(paste(data_path,\"dfs_signatures.rds\"))\n",
    "dfs_feature_selections = readRDS(paste(data_path,\"dfs_feature_selections.rds\"))\n",
    "dfs_npi                = readRDS(paste(data_path,\"dfs_npi.rds\"))"
   ]
  },
  {
   "cell_type": "code",
   "execution_count": 263,
   "metadata": {},
   "outputs": [
    {
     "name": "stdout",
     "output_type": "stream",
     "text": [
      "[1] 1\n",
      "[1] 2\n",
      "[1] 3\n",
      "[1] 4\n",
      "[1] 5\n",
      "[1] 6\n"
     ]
    },
    {
     "ename": "ERROR",
     "evalue": "Error in (function (cn, x) : Column 'FGD1' contains NaN values.\n",
     "output_type": "error",
     "traceback": [
      "Error in (function (cn, x) : Column 'FGD1' contains NaN values.\nTraceback:\n",
      "1. map(dfs[[i]], MetaLearner)",
      "2. .f(.x[[i]], ...)",
      "3. eval_tidy(call, mask)",
      "4. (function (df, learners) \n . {\n .     list(task = makeSurvTask(data = df, target = c(\"survival_time\", \n .         \"event\")), resampler = makeResampleDesc(\"CV\", iters = 5), \n .         train_models = purrr::partial(mlr::train, task = task), \n .         resample_learners = purrr::partial(resample, task = task, \n .             resampling = resampler, show.info = FALSE), resamplers = map(learners, \n .             resample_learners))\n . })(learners = learners, ...)",
      "5. makeSurvTask(data = df, target = c(\"survival_time\", \"event\"))   # at line 3-12 of file <text>",
      "6. makeSupervisedTask(\"surv\", data, target, weights, blocking, coordinates, \n .     fixup.data = fixup.data, check.data = check.data)",
      "7. checkTaskData(task$env$data, cols = setdiff(colnames(data), target))",
      "8. Map(fun, cn = cols, x = data[cols])",
      "9. mapply(FUN = f, ..., SIMPLIFY = FALSE)",
      "10. (function (cn, x) \n  . {\n  .     if (is.numeric(x)) {\n  .         if (anyInfinite(x)) {\n  .             stopf(\"Column '%s' contains infinite values.\", cn)\n  .         }\n  .         if (anyNaN(x)) {\n  .             stopf(\"Column '%s' contains NaN values.\", cn)\n  .         }\n  .     }\n  .     else if (is.factor(x)) {\n  .         if (hasEmptyLevels(x)) {\n  .             stopf(\"Column '%s' contains empty factor levels.\", \n  .                 cn)\n  .         }\n  .     }\n  .     else {\n  .         stopf(\"Unsupported feature type (%s) in column '%s'.\", \n  .             class(x)[1L], cn)\n  .     }\n  . })(cn = dots[[1L]][[1L]], x = dots[[2L]][[1L]])",
      "11. stopf(\"Column '%s' contains NaN values.\", cn)"
     ]
    }
   ],
   "source": [
    "for (i in 1:7){\n",
    "    print(i)\n",
    "    ML = map(dfs[[i]], MetaLearner)\n",
    "    saveRDS(ML, paste(data_path,\"metalearners_random_\",names(dfs)[[i]],\".rds\", sep=\"\"))\n",
    "}"
   ]
  },
  {
   "cell_type": "code",
   "execution_count": 265,
   "metadata": {},
   "outputs": [],
   "source": [
    "i = 8\n",
    "ML = map(dfs[[i]], MetaLearner)\n",
    "saveRDS(ML, paste(data_path,\"metalearners_random_\",names(dfs)[[i]],\".rds\", sep=\"\"))"
   ]
  },
  {
   "cell_type": "code",
   "execution_count": 264,
   "metadata": {},
   "outputs": [
    {
     "name": "stdout",
     "output_type": "stream",
     "text": [
      "[1] 1\n",
      "[1] 2\n",
      "[1] 3\n",
      "[1] 4\n",
      "[1] 5\n",
      "[1] 6\n"
     ]
    },
    {
     "ename": "ERROR",
     "evalue": "Error in (function (cn, x) : Column 'VPREB1' contains NaN values.\n",
     "output_type": "error",
     "traceback": [
      "Error in (function (cn, x) : Column 'VPREB1' contains NaN values.\nTraceback:\n",
      "1. map(dfs_signatures[[i]], MetaLearner)",
      "2. .f(.x[[i]], ...)",
      "3. eval_tidy(call, mask)",
      "4. (function (df, learners) \n . {\n .     list(task = makeSurvTask(data = df, target = c(\"survival_time\", \n .         \"event\")), resampler = makeResampleDesc(\"CV\", iters = 5), \n .         train_models = purrr::partial(mlr::train, task = task), \n .         resample_learners = purrr::partial(resample, task = task, \n .             resampling = resampler, show.info = FALSE), resamplers = map(learners, \n .             resample_learners))\n . })(learners = learners, ...)",
      "5. makeSurvTask(data = df, target = c(\"survival_time\", \"event\"))   # at line 3-12 of file <text>",
      "6. makeSupervisedTask(\"surv\", data, target, weights, blocking, coordinates, \n .     fixup.data = fixup.data, check.data = check.data)",
      "7. checkTaskData(task$env$data, cols = setdiff(colnames(data), target))",
      "8. Map(fun, cn = cols, x = data[cols])",
      "9. mapply(FUN = f, ..., SIMPLIFY = FALSE)",
      "10. (function (cn, x) \n  . {\n  .     if (is.numeric(x)) {\n  .         if (anyInfinite(x)) {\n  .             stopf(\"Column '%s' contains infinite values.\", cn)\n  .         }\n  .         if (anyNaN(x)) {\n  .             stopf(\"Column '%s' contains NaN values.\", cn)\n  .         }\n  .     }\n  .     else if (is.factor(x)) {\n  .         if (hasEmptyLevels(x)) {\n  .             stopf(\"Column '%s' contains empty factor levels.\", \n  .                 cn)\n  .         }\n  .     }\n  .     else {\n  .         stopf(\"Unsupported feature type (%s) in column '%s'.\", \n  .             class(x)[1L], cn)\n  .     }\n  . })(cn = dots[[1L]][[5L]], x = dots[[2L]][[5L]])",
      "11. stopf(\"Column '%s' contains NaN values.\", cn)"
     ]
    }
   ],
   "source": [
    "for (i in 1:8){\n",
    "    print(i)\n",
    "    ML = map(dfs_signatures[[i]], MetaLearner)\n",
    "    saveRDS(ML, paste(data_path,\"metalearners_signatures_\",names(dfs)[[i]],\".rds\", sep=\"\"))\n",
    "}"
   ]
  },
  {
   "cell_type": "code",
   "execution_count": 398,
   "metadata": {},
   "outputs": [],
   "source": [
    "dfs_signatures[[6]] = map(dfs_signatures[[6]], complete_df)"
   ]
  },
  {
   "cell_type": "code",
   "execution_count": 400,
   "metadata": {},
   "outputs": [],
   "source": [
    "i = 6\n",
    "ML = map(dfs_signatures[[i]], MetaLearner)\n",
    "saveRDS(ML, paste(data_path,\"metalearners_signatures_\",names(dfs)[[i]],\".rds\", sep=\"\"))"
   ]
  },
  {
   "cell_type": "code",
   "execution_count": 266,
   "metadata": {},
   "outputs": [],
   "source": [
    "i = 8\n",
    "ML = map(dfs_signatures[[i]], MetaLearner)\n",
    "saveRDS(ML, paste(data_path,\"metalearners_signatures_\",names(dfs)[[i]],\".rds\", sep=\"\"))"
   ]
  },
  {
   "cell_type": "code",
   "execution_count": 267,
   "metadata": {},
   "outputs": [
    {
     "name": "stdout",
     "output_type": "stream",
     "text": [
      "[1] 1\n",
      "[1] 2\n",
      "[1] 3\n",
      "[1] 4\n",
      "[1] 5\n",
      "[1] 6\n",
      "[1] 8\n"
     ]
    }
   ],
   "source": [
    "for (i in c(1,2,3,4,5,6,8)){\n",
    "    print(i)\n",
    "    ML = map(dfs_feature_selections[[i]], MetaLearner)\n",
    "    saveRDS(ML, paste(data_path,\"metalearners_feature_selections_\",names(dfs)[[i]],\".rds\", sep=\"\"))\n",
    "}"
   ]
  },
  {
   "cell_type": "code",
   "execution_count": 279,
   "metadata": {},
   "outputs": [
    {
     "name": "stdout",
     "output_type": "stream",
     "text": [
      "[1] 1\n",
      "[1] 2\n",
      "[1] 3\n",
      "[1] 4\n",
      "[1] 5\n",
      "[1] 6\n"
     ]
    },
    {
     "ename": "ERROR",
     "evalue": "Error in makeSurvTask(data = df, target = c(\"survival_time\", \"event\")): Assertion on 'target column time' failed: Contains missing values (element 175).\n",
     "output_type": "error",
     "traceback": [
      "Error in makeSurvTask(data = df, target = c(\"survival_time\", \"event\")): Assertion on 'target column time' failed: Contains missing values (element 175).\nTraceback:\n",
      "1. MetaLearner(df)",
      "2. eval_tidy(call, mask)",
      "3. (function (df, learners) \n . {\n .     list(task = makeSurvTask(data = df, target = c(\"survival_time\", \n .         \"event\")), resampler = makeResampleDesc(\"CV\", iters = 5), \n .         train_models = purrr::partial(mlr::train, task = task), \n .         resample_learners = purrr::partial(resample, task = task, \n .             resampling = resampler, show.info = FALSE), resamplers = map(learners, \n .             resample_learners))\n . })(learners = learners, ...)",
      "4. makeSurvTask(data = df, target = c(\"survival_time\", \"event\"))   # at line 3-12 of file <text>",
      "5. assertNumeric(time, lower = 0, finite = TRUE, any.missing = FALSE, \n .     .var.name = \"target column time\")",
      "6. makeAssertion(x, res, .var.name, add)",
      "7. mstop(\"Assertion on '%s' failed: %s.\", var.name, res, call. = sys.call(-2L))"
     ]
    }
   ],
   "source": [
    "for (i in c(1,2,3,4,5,6,8)){\n",
    "    print(i)\n",
    "    df = dfs_npi[[i]]\n",
    "    ML = MetaLearner(df)\n",
    "    saveRDS(ML, paste(data_path,\"metalearners_npi_\",names(dfs)[[i]],\".rds\", sep=\"\"))\n",
    "}"
   ]
  },
  {
   "cell_type": "code",
   "execution_count": 299,
   "metadata": {},
   "outputs": [],
   "source": [
    "i = 8\n",
    "df = dfs_npi[[i]]\n",
    "df = subset(df, is.na(df$survival_time)==FALSE)\n",
    "ML = MetaLearner(df)\n",
    "saveRDS(ML, paste(data_path,\"metalearners_npi_\",names(dfs)[[i]],\".rds\", sep=\"\"))"
   ]
  },
  {
   "cell_type": "markdown",
   "metadata": {},
   "source": [
    "### i = 7"
   ]
  },
  {
   "cell_type": "code",
   "execution_count": 384,
   "metadata": {},
   "outputs": [],
   "source": [
    "#export\n",
    "complete_df = function(df){df[complete.cases(df), ]}"
   ]
  },
  {
   "cell_type": "code",
   "execution_count": 322,
   "metadata": {},
   "outputs": [],
   "source": [
    "i = 7\n",
    "df_rand = dfs[[i]]\n",
    "df_sign = dfs_signatures[[i]]       \n",
    "df_feat = dfs_feature_selections[[i]]\n",
    "df_npi  = list(dfs_npi[[i]])               "
   ]
  },
  {
   "cell_type": "code",
   "execution_count": 317,
   "metadata": {},
   "outputs": [],
   "source": [
    "df = df_rand\n",
    "df = map(df, complete_df)\n",
    "ML = map(df, MetaLearner)\n",
    "saveRDS(ML, paste(data_path,\"metalearners_random_\",names(dfs)[[i]],\".rds\", sep=\"\"))"
   ]
  },
  {
   "cell_type": "code",
   "execution_count": 318,
   "metadata": {},
   "outputs": [],
   "source": [
    "df = df_sign\n",
    "df = map(df, complete_df)\n",
    "ML = map(df, MetaLearner)\n",
    "saveRDS(ML, paste(data_path,\"metalearners_signatures_\",names(dfs)[[i]],\".rds\", sep=\"\"))"
   ]
  },
  {
   "cell_type": "code",
   "execution_count": 319,
   "metadata": {},
   "outputs": [],
   "source": [
    "df = df_feat\n",
    "df = map(df, complete_df)\n",
    "ML = map(df, MetaLearner)\n",
    "saveRDS(ML, paste(data_path,\"metalearners_feature_selections_\",names(dfs)[[i]],\".rds\", sep=\"\"))"
   ]
  },
  {
   "cell_type": "markdown",
   "metadata": {},
   "source": [
    "#### TCGA does not have NPIs!"
   ]
  },
  {
   "cell_type": "markdown",
   "metadata": {},
   "source": [
    "## Plot some results"
   ]
  },
  {
   "cell_type": "code",
   "execution_count": 251,
   "metadata": {},
   "outputs": [],
   "source": [
    "c_indices = bind_rows(map(1:100, function(i) get_c_index_for_algs(metalearners_GSE4922[[i]]$resamplers)))"
   ]
  },
  {
   "cell_type": "code",
   "execution_count": 253,
   "metadata": {},
   "outputs": [],
   "source": [
    "c_df = c_indices %>% gather(key, value)"
   ]
  },
  {
   "cell_type": "code",
   "execution_count": 254,
   "metadata": {},
   "outputs": [
    {
     "data": {
      "text/html": [
       "<table class=\"dataframe\">\n",
       "<caption>A data.frame: 6 × 2</caption>\n",
       "<thead>\n",
       "\t<tr><th></th><th scope=col>key</th><th scope=col>value</th></tr>\n",
       "\t<tr><th></th><th scope=col>&lt;chr&gt;</th><th scope=col>&lt;dbl&gt;</th></tr>\n",
       "</thead>\n",
       "<tbody>\n",
       "\t<tr><th scope=row>1</th><td>Cox_PH_model</td><td>0.5475208</td></tr>\n",
       "\t<tr><th scope=row>2</th><td>Cox_PH_model</td><td>0.5247010</td></tr>\n",
       "\t<tr><th scope=row>3</th><td>Cox_PH_model</td><td>0.5490836</td></tr>\n",
       "\t<tr><th scope=row>4</th><td>Cox_PH_model</td><td>0.5619895</td></tr>\n",
       "\t<tr><th scope=row>5</th><td>Cox_PH_model</td><td>0.5507837</td></tr>\n",
       "\t<tr><th scope=row>6</th><td>Cox_PH_model</td><td>0.5519370</td></tr>\n",
       "</tbody>\n",
       "</table>\n"
      ],
      "text/latex": [
       "A data.frame: 6 × 2\n",
       "\\begin{tabular}{r|ll}\n",
       "  & key & value\\\\\n",
       "  & <chr> & <dbl>\\\\\n",
       "\\hline\n",
       "\t1 & Cox\\_PH\\_model & 0.5475208\\\\\n",
       "\t2 & Cox\\_PH\\_model & 0.5247010\\\\\n",
       "\t3 & Cox\\_PH\\_model & 0.5490836\\\\\n",
       "\t4 & Cox\\_PH\\_model & 0.5619895\\\\\n",
       "\t5 & Cox\\_PH\\_model & 0.5507837\\\\\n",
       "\t6 & Cox\\_PH\\_model & 0.5519370\\\\\n",
       "\\end{tabular}\n"
      ],
      "text/markdown": [
       "\n",
       "A data.frame: 6 × 2\n",
       "\n",
       "| <!--/--> | key &lt;chr&gt; | value &lt;dbl&gt; |\n",
       "|---|---|---|\n",
       "| 1 | Cox_PH_model | 0.5475208 |\n",
       "| 2 | Cox_PH_model | 0.5247010 |\n",
       "| 3 | Cox_PH_model | 0.5490836 |\n",
       "| 4 | Cox_PH_model | 0.5619895 |\n",
       "| 5 | Cox_PH_model | 0.5507837 |\n",
       "| 6 | Cox_PH_model | 0.5519370 |\n",
       "\n"
      ],
      "text/plain": [
       "  key          value    \n",
       "1 Cox_PH_model 0.5475208\n",
       "2 Cox_PH_model 0.5247010\n",
       "3 Cox_PH_model 0.5490836\n",
       "4 Cox_PH_model 0.5619895\n",
       "5 Cox_PH_model 0.5507837\n",
       "6 Cox_PH_model 0.5519370"
      ]
     },
     "metadata": {},
     "output_type": "display_data"
    }
   ],
   "source": [
    "head(c_df)"
   ]
  },
  {
   "cell_type": "code",
   "execution_count": 12,
   "metadata": {},
   "outputs": [],
   "source": [
    "#export\n",
    "library(ggridges)"
   ]
  },
  {
   "cell_type": "code",
   "execution_count": 258,
   "metadata": {},
   "outputs": [
    {
     "name": "stderr",
     "output_type": "stream",
     "text": [
      "Picking joint bandwidth of 0.00369\n",
      "\n"
     ]
    },
    {
     "data": {
      "image/png": "[encoded data removed]",
      "text/plain": [
       "plot without title"
      ]
     },
     "metadata": {
      "image/png": {
       "height": 600,
       "width": 840
      }
     },
     "output_type": "display_data"
    }
   ],
   "source": [
    "ggplot(c_df, aes(x = value, y = key, fill = key)) +\n",
    "  geom_density_ridges() +\n",
    "  theme_ridges() + \n",
    "  theme(legend.position = \"none\")"
   ]
  },
  {
   "cell_type": "markdown",
   "metadata": {},
   "source": [
    "###  Random"
   ]
  },
  {
   "cell_type": "code",
   "execution_count": 326,
   "metadata": {},
   "outputs": [],
   "source": [
    "type = \"random\"\n",
    "df_names = names(dfs)"
   ]
  },
  {
   "cell_type": "code",
   "execution_count": 365,
   "metadata": {},
   "outputs": [],
   "source": [
    "read_metalearners = function(type, df_names){\n",
    "    mls = vector(\"list\", length(df_names))\n",
    "    for (i in 1:length(df_names)){\n",
    "        filename = paste(data_path,\"metalearners_\",type,\"_\",df_names[[i]],\".rds\", sep=\"\")\n",
    "        print(filename)\n",
    "        mls[[i]] = readRDS(filename)\n",
    "    }\n",
    "    mls\n",
    "}"
   ]
  },
  {
   "cell_type": "code",
   "execution_count": 366,
   "metadata": {},
   "outputs": [
    {
     "name": "stdout",
     "output_type": "stream",
     "text": [
      "[1] \"../data/metalearners_random_METABRIC.rds\"\n",
      "[1] \"../data/metalearners_random_GSE11121.rds\"\n",
      "[1] \"../data/metalearners_random_GSE96058.rds\"\n",
      "[1] \"../data/metalearners_random_GSE7390.rds\"\n",
      "[1] \"../data/metalearners_random_GSE9893.rds\"\n",
      "[1] \"../data/metalearners_random_NKI.rds\"\n"
     ]
    },
    {
     "ename": "ERROR",
     "evalue": "Error in gzfile(file, \"rb\"): cannot open the connection\n",
     "output_type": "error",
     "traceback": [
      "Error in gzfile(file, \"rb\"): cannot open the connection\nTraceback:\n",
      "1. read_metalearners(type, df_names)",
      "2. readRDS(filename)   # at line 6 of file <text>",
      "3. gzfile(file, \"rb\")"
     ]
    }
   ],
   "source": [
    "MLS = read_metalearners(type, df_names)"
   ]
  },
  {
   "cell_type": "markdown",
   "metadata": {},
   "source": [
    "## Export code"
   ]
  },
  {
   "cell_type": "code",
   "execution_count": 13,
   "metadata": {},
   "outputs": [],
   "source": [
    "system(\"python3 notebook2script.py 05_ml.ipynb\")"
   ]
  },
  {
   "cell_type": "code",
   "execution_count": null,
   "metadata": {},
   "outputs": [],
   "source": []
  },
  {
   "cell_type": "code",
   "execution_count": null,
   "metadata": {},
   "outputs": [],
   "source": []
  },
  {
   "cell_type": "code",
   "execution_count": null,
   "metadata": {},
   "outputs": [],
   "source": []
  },
  {
   "cell_type": "code",
   "execution_count": null,
   "metadata": {},
   "outputs": [],
   "source": []
  },
  {
   "cell_type": "code",
   "execution_count": null,
   "metadata": {},
   "outputs": [],
   "source": []
  },
  {
   "cell_type": "code",
   "execution_count": null,
   "metadata": {},
   "outputs": [],
   "source": []
  }
 ],
 "metadata": {
  "kernelspec": {
   "display_name": "R",
   "language": "R",
   "name": "ir"
  },
  "language_info": {
   "codemirror_mode": "r",
   "file_extension": ".r",
   "mimetype": "text/x-r-source",
   "name": "R",
   "pygments_lexer": "r",
   "version": "4.0.3"
  }
 },
 "nbformat": 4,
 "nbformat_minor": 4
}
