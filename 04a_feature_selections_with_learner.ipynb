{
 "cells": [
  {
   "cell_type": "code",
   "execution_count": 1,
   "metadata": {},
   "outputs": [
    {
     "name": "stderr",
     "output_type": "stream",
     "text": [
      "Warning message:\n",
      "“package ‘survival’ was built under R version 4.1.1”\n"
     ]
    }
   ],
   "source": [
    "suppressMessages(source(\"exp/nb_04.R\"))"
   ]
  },
  {
   "cell_type": "markdown",
   "metadata": {},
   "source": [
    "### Load and prepare dataframes"
   ]
  },
  {
   "cell_type": "code",
   "execution_count": null,
   "metadata": {},
   "outputs": [],
   "source": [
    "dfs = readRDS(\"../data/dfs_filtered.rds\")"
   ]
  },
  {
   "cell_type": "code",
   "execution_count": null,
   "metadata": {},
   "outputs": [],
   "source": [
    "dfs = map(dfs, impute_and_clean)"
   ]
  },
  {
   "cell_type": "code",
   "execution_count": null,
   "metadata": {},
   "outputs": [],
   "source": [
    "sd_filter = function(df, thresh){\n",
    "    df_sd = sapply(df[3:ncol(df)], sd)\n",
    "    cols = names(df_sd[df_sd > thresh])\n",
    "    df[,c(\"survival_time\", \"event\",cols)]\n",
    "}"
   ]
  },
  {
   "cell_type": "code",
   "execution_count": null,
   "metadata": {},
   "outputs": [],
   "source": [
    "σ = purrr::partial(sd_filter, thresh=0.2)"
   ]
  },
  {
   "cell_type": "code",
   "execution_count": null,
   "metadata": {},
   "outputs": [],
   "source": [
    "dfs = map(dfs, σ)\n",
    "dfs[[3]] = sd_filter(dfs[[3]], thresh = 0.6)\n",
    "dfs[[7]] = sd_filter(dfs[[7]], thresh = 2.0)"
   ]
  },
  {
   "cell_type": "code",
   "execution_count": null,
   "metadata": {},
   "outputs": [],
   "source": [
    "#map(dfs, function(df) dim(df)[2])"
   ]
  },
  {
   "cell_type": "code",
   "execution_count": null,
   "metadata": {},
   "outputs": [],
   "source": [
    "saveRDS(dfs, file = \"../data/dfs_filtered_for_feature_selection.rds\")"
   ]
  },
  {
   "cell_type": "markdown",
   "metadata": {},
   "source": [
    "### Load"
   ]
  },
  {
   "cell_type": "code",
   "execution_count": 2,
   "metadata": {},
   "outputs": [],
   "source": [
    "dfs = readRDS(\"../data/dfs_filtered_for_feature_selection.rds\")"
   ]
  },
  {
   "cell_type": "markdown",
   "metadata": {},
   "source": [
    "### Learning algorithms"
   ]
  },
  {
   "cell_type": "code",
   "execution_count": 3,
   "metadata": {},
   "outputs": [],
   "source": [
    "#export\n",
    "learning_algs =   c(\"Cox_PH_model\",\n",
    "                    \"Ridge\",\n",
    "                    \"Elastic_Net\",\n",
    "                    \"Lasso\",\n",
    "                    \"Gradient_Boosting_tree_based\",\n",
    "                    \"Gradient_Boosting_linear_model_based\",\n",
    "                    \"Random_Survival_Forests\",\n",
    "                    \"Maximally_selected_rank_statistics_Random_Forests\",\n",
    "                    \"Survival_Tree\"\n",
    "                   )\n",
    "\n",
    "#export\n",
    "learners = list(makeLearner(\"surv.coxph\",           id = learning_algs[[1]]),\n",
    "                makeLearner(\"surv.cvglmnet\",        id = learning_algs[[2]], alpha = 0,   nfolds=20),\n",
    "                makeLearner(\"surv.cvglmnet\",        id = learning_algs[[3]], alpha = 0.5, nfolds=20, s=\"lambda.min\"),\n",
    "                makeLearner(\"surv.cvglmnet\",        id = learning_algs[[4]], alpha = 1,   nfolds=20, s=\"lambda.min\"),\n",
    "                makeLearner(\"surv.gamboost\",        id = learning_algs[[5]], baselearner = \"bols\" ),\n",
    "                makeLearner(\"surv.gamboost\",        id = learning_algs[[6]], baselearner = \"btree\"),\n",
    "                makeLearner(\"surv.randomForestSRC\", id = learning_algs[[7]]),\n",
    "                makeLearner(\"surv.ranger\",          id = learning_algs[[8]]),\n",
    "                makeLearner(\"surv.rpart\",           id = learning_algs[[9]])\n",
    "               )\n",
    "names(learners) = learning_algs"
   ]
  },
  {
   "cell_type": "markdown",
   "metadata": {},
   "source": [
    "### Metalearner with feature selections"
   ]
  },
  {
   "cell_type": "code",
   "execution_count": 4,
   "metadata": {},
   "outputs": [],
   "source": [
    "#export\n",
    "metalearner = function(df, learner, feature_selector){\n",
    "    task  = makeSurvTask(data = df, target = c(\"survival_time\", \"event\"))\n",
    "    inner = makeResampleDesc(\"CV\", iters=5)\n",
    "    n = 20  # number of features\n",
    "    feature_selectors = c(\"univariate_model_score\", \"mrmr\", \"randomForestSRC_importance\",\n",
    "                          \"randomForestSRC_var_select_md\", \"randomForestSRC_var_select_vh\", \n",
    "                          \"party_cforest_importance\")\n",
    "    \n",
    "    if(!(feature_selector %in% feature_selectors)){\n",
    "       stop(\"feature_selector must be one of \", feature_selectors)   \n",
    "    }\n",
    "    \n",
    "    if (feature_selector == \"univariate_model_score\"){\n",
    "        lrn = makeFilterWrapper(learner = learner, fw.method=\"univariate.model.score\",    fw.abs = n, \n",
    "                                perf.learner=learner)\n",
    "    }\n",
    "    else if (feature_selector == \"mrmr\"){\n",
    "        lrn = makeFilterWrapper(learner = learner, fw.method=\"mrmr\",                        fw.abs = n)\n",
    "    }\n",
    "    else if (feature_selector == \"randomForestSRC_importance\"){\n",
    "        lrn  = makeFilterWrapper(learner = learner, fw.method=\"randomForestSRC_importance\", fw.abs = n)\n",
    "    }\n",
    "    else if (feature_selector == \"randomForestSRC_var_select_md\"){\n",
    "        lrn  = makeFilterWrapper(learner = learner, fw.method=\"randomForestSRC_var.select\", fw.abs = n, \n",
    "                         more.args = list(\"randomForestSRC_var.select\"=list(method=\"md\")))\n",
    "    }\n",
    "    else if (feature_selector == \"randomForestSRC_var_select_vh\"){\n",
    "        lrn  = makeFilterWrapper(learner = learner, fw.method=\"randomForestSRC_var.select\", fw.abs = n, \n",
    "                         more.args = list(\"randomForestSRC_var.select\"=list(method=\"vh\")))\n",
    "    }\n",
    "    else if (feature_selector == \"party_cforest_importance\"){\n",
    "        lrn  = makeFilterWrapper(learner = learner, fw.method=\"party_cforest.importance\",   fw.abs = n)\n",
    "    }\n",
    "    \n",
    "    res   = resample(learner = lrn, task = task, resampling=inner, models=TRUE, show.info  = FALSE)\n",
    "    return(res)\n",
    "}"
   ]
  },
  {
   "cell_type": "code",
   "execution_count": 5,
   "metadata": {},
   "outputs": [],
   "source": [
    "feature_selectors = c(\"univariate_model_score\", \"mrmr\", \"randomForestSRC_importance\",\n",
    "                          \"randomForestSRC_var_select_md\", \"randomForestSRC_var_select_vh\", \n",
    "                          \"party_cforest_importance\")"
   ]
  },
  {
   "cell_type": "code",
   "execution_count": 6,
   "metadata": {},
   "outputs": [],
   "source": [
    "data_path = \"../data/metalearners/metalearners_from_feature_selections/\""
   ]
  },
  {
   "cell_type": "code",
   "execution_count": 11,
   "metadata": {},
   "outputs": [],
   "source": [
    "d = 1\n",
    "l = 1\n",
    "f = 2\n",
    "filename = paste(data_path,\"ml_\",\n",
    "                               names(dfs)[[d]],\"_\",\n",
    "                               names(learners)[[l]], \"_\",\n",
    "                               feature_selectors[[f]],\n",
    "                               \".rds\", sep=\"\")"
   ]
  },
  {
   "cell_type": "markdown",
   "metadata": {},
   "source": [
    "## RUN"
   ]
  },
  {
   "cell_type": "code",
   "execution_count": null,
   "metadata": {},
   "outputs": [
    {
     "name": "stdout",
     "output_type": "stream",
     "text": [
      "[1] \"METABRIC\"\n",
      "  |=======================                                               |  33%"
     ]
    },
    {
     "name": "stderr",
     "output_type": "stream",
     "text": [
      "Loading required package: mboost\n",
      "\n",
      "Loading required package: stabs\n",
      "\n",
      "\n",
      "Attaching package: ‘stabs’\n",
      "\n",
      "\n",
      "The following object is masked from ‘package:randomForestSRC’:\n",
      "\n",
      "    subsample\n",
      "\n",
      "\n",
      "The following object is masked from ‘package:mlr’:\n",
      "\n",
      "    subsample\n",
      "\n",
      "\n",
      "\n",
      "Attaching package: ‘mboost’\n",
      "\n",
      "\n",
      "The following object is masked from ‘package:tidyr’:\n",
      "\n",
      "    extract\n",
      "\n",
      "\n",
      "The following object is masked from ‘package:ggplot2’:\n",
      "\n",
      "    %+%\n",
      "\n",
      "\n"
     ]
    },
    {
     "name": "stdout",
     "output_type": "stream",
     "text": [
      "  |===============================================                       |  67%\n",
      "Variable importance for survival forests; this feature is _experimental_\n",
      "\n",
      "\n",
      "Variable importance for survival forests; this feature is _experimental_\n",
      "\n",
      "\n",
      "Variable importance for survival forests; this feature is _experimental_\n",
      "\n",
      "\n",
      "Variable importance for survival forests; this feature is _experimental_\n",
      "\n",
      "\n",
      "Variable importance for survival forests; this feature is _experimental_\n",
      "\n",
      "  |=======================                                               |  33%"
     ]
    }
   ],
   "source": [
    "pb   = txtProgressBar(2, length(dfs), style=3)\n",
    "TIME = Sys.time()\n",
    "for (d in 1:length(dfs)){                          # dataframes\n",
    "    print(names(dfs)[[d]])\n",
    "    for (l in 1:length(learners)){                 # learners\n",
    "        for (f in 2:length(feature_selectors)){    # feature selections except univariate_model_score\n",
    "            setTxtProgressBar(pb, f)\n",
    "            \n",
    "            filename = paste(data_path,\"ml_\",\n",
    "                               names(dfs)[[d]],\"_\",\n",
    "                               names(learners)[[l]], \"_\",\n",
    "                               feature_selectors[[f]],\n",
    "                               \".rds\", sep=\"\")\n",
    "            \n",
    "            if (file.exists(filename)){next}\n",
    "            else {\n",
    "            \n",
    "            df               = dfs[[d]]\n",
    "            learner          = learners[[l]]\n",
    "            feature_selector = feature_selectors[[f]]\n",
    "            \n",
    "            res = metalearner(df, learner, feature_selector)\n",
    "            \n",
    "            saveRDS(res, filename)\n",
    "                \n",
    "            }\n",
    "        }\n",
    "    }\n",
    "    Sys.sleep(1/length(dfs))\n",
    "}"
   ]
  },
  {
   "cell_type": "code",
   "execution_count": null,
   "metadata": {},
   "outputs": [],
   "source": []
  },
  {
   "cell_type": "code",
   "execution_count": null,
   "metadata": {},
   "outputs": [],
   "source": []
  },
  {
   "cell_type": "code",
   "execution_count": null,
   "metadata": {},
   "outputs": [],
   "source": []
  },
  {
   "cell_type": "code",
   "execution_count": null,
   "metadata": {},
   "outputs": [],
   "source": []
  },
  {
   "cell_type": "code",
   "execution_count": null,
   "metadata": {},
   "outputs": [],
   "source": []
  },
  {
   "cell_type": "code",
   "execution_count": null,
   "metadata": {},
   "outputs": [],
   "source": []
  },
  {
   "cell_type": "code",
   "execution_count": null,
   "metadata": {},
   "outputs": [],
   "source": []
  },
  {
   "cell_type": "code",
   "execution_count": null,
   "metadata": {},
   "outputs": [],
   "source": []
  },
  {
   "cell_type": "code",
   "execution_count": null,
   "metadata": {},
   "outputs": [],
   "source": []
  },
  {
   "cell_type": "code",
   "execution_count": null,
   "metadata": {},
   "outputs": [],
   "source": []
  },
  {
   "cell_type": "markdown",
   "metadata": {},
   "source": [
    "## Tmp"
   ]
  },
  {
   "cell_type": "code",
   "execution_count": null,
   "metadata": {},
   "outputs": [],
   "source": [
    "#learners_ums = learners[-c(2,3,4,5,6)]\n",
    "#task = makeSurvTask(data = df, target = c(\"survival_time\", \"event\"))\n",
    "#model= learners_ums[[1]]\n",
    "#inner= makeResampleDesc(\"CV\", iters=5)\n",
    "#lrn  = makeFilterWrapper(learner = model, fw.method=\"univariate.model.score\", fw.abs=10, perf.learner=model)\n",
    "#res  = resample(learner = lrn, task = task, resampling=inner, models=TRUE)"
   ]
  },
  {
   "cell_type": "markdown",
   "metadata": {},
   "source": [
    "### MRMR"
   ]
  },
  {
   "cell_type": "code",
   "execution_count": null,
   "metadata": {},
   "outputs": [],
   "source": [
    "#k=1\n",
    "#task = makeSurvTask(data = df, target = c(\"survival_time\", \"event\"))\n",
    "#model= learners[[k]]\n",
    "#inner= makeResampleDesc(\"CV\", iters=5)\n",
    "#lrn  = makeFilterWrapper(learner = model, fw.method=\"mrmr\", fw.abs = 20)\n",
    "#res  = resample(learner = lrn, task = task, resampling=inner, models=TRUE)"
   ]
  },
  {
   "cell_type": "markdown",
   "metadata": {},
   "source": [
    "### randomForestSRC_importance"
   ]
  },
  {
   "cell_type": "code",
   "execution_count": null,
   "metadata": {},
   "outputs": [],
   "source": [
    "#k=9\n",
    "#task = makeSurvTask(data = df, target = c(\"survival_time\", \"event\"))\n",
    "#model= learners[[k]]\n",
    "#inner= makeResampleDesc(\"CV\", iters=5)\n",
    "#lrn  = makeFilterWrapper(learner = model, fw.method=\"randomForestSRC_importance\", fw.abs = 20)\n",
    "#res  = resample(learner = lrn, task = task, resampling=inner, models=TRUE)"
   ]
  },
  {
   "cell_type": "code",
   "execution_count": null,
   "metadata": {},
   "outputs": [],
   "source": [
    "#for (k in 1:length(learners)){\n",
    "#task = makeSurvTask(data = df, target = c(\"survival_time\", \"event\"))\n",
    "#model= learners[[k]]\n",
    "#inner= makeResampleDesc(\"CV\", iters=5)\n",
    "#lrn  = makeFilterWrapper(learner = model, fw.method=\"randomForestSRC_var.select\", fw.abs = 20, \n",
    "#                         more.args = list(\"randomForestSRC_var.select\"=list(method=\"md\")))\n",
    "#res  = resample(learner = lrn, task = task, resampling=inner, models=TRUE)\n",
    "#    }"
   ]
  },
  {
   "cell_type": "code",
   "execution_count": null,
   "metadata": {},
   "outputs": [],
   "source": [
    "#for (k in 1:length(learners)){\n",
    "#task = makeSurvTask(data = df, target = c(\"survival_time\", \"event\"))\n",
    "#model= learners[[k]]\n",
    "#inner= makeResampleDesc(\"CV\", iters=5)\n",
    "#lrn  = makeFilterWrapper(learner = model, fw.method=\"randomForestSRC_var.select\", fw.abs = 20, \n",
    "#                         more.args = list(\"randomForestSRC_var.select\"=list(method=\"vh\")))\n",
    "#res  = resample(learner = lrn, task = task, resampling=inner, models=TRUE)\n",
    "#    }"
   ]
  },
  {
   "cell_type": "code",
   "execution_count": null,
   "metadata": {},
   "outputs": [],
   "source": [
    "#for (k in c(1,2,5,7,8,9)){\n",
    "#task = makeSurvTask(data = df, target = c(\"survival_time\", \"event\"))\n",
    "#model= learners[[k]]\n",
    "#inner= makeResampleDesc(\"CV\", iters=5)\n",
    "#lrn  = makeFilterWrapper(learner = model, fw.method=\"party_cforest.importance\", fw.abs = 20)\n",
    "#res  = resample(learner = lrn, task = task, resampling=inner, models=TRUE, show.info  = FALSE)\n",
    "#    }"
   ]
  }
 ],
 "metadata": {
  "kernelspec": {
   "display_name": "R",
   "language": "R",
   "name": "ir"
  },
  "language_info": {
   "codemirror_mode": "r",
   "file_extension": ".r",
   "mimetype": "text/x-r-source",
   "name": "R",
   "pygments_lexer": "r",
   "version": "4.0.3"
  }
 },
 "nbformat": 4,
 "nbformat_minor": 4
}
