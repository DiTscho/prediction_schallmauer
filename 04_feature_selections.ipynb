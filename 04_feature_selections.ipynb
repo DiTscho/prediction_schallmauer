{
 "cells": [
  {
   "cell_type": "code",
   "execution_count": 2,
   "metadata": {},
   "outputs": [],
   "source": [
    "#export \n",
    "source(\"exp/nb_03b.R\")"
   ]
  },
  {
   "cell_type": "code",
   "execution_count": 4,
   "metadata": {},
   "outputs": [],
   "source": [
    "#export\n",
    "library(mlr)\n",
    "library(randomForestSRC)\n",
    "library(ranger)\n",
    "library(mRMRe)\n",
    "library(caret)\n",
    "library(pec)\n",
    "require(survival)\n",
    "library(missMethods)\n",
    "library(MASS)\n",
    "library(SIS)"
   ]
  },
  {
   "cell_type": "markdown",
   "metadata": {},
   "source": [
    "## Helper functions"
   ]
  },
  {
   "cell_type": "markdown",
   "metadata": {},
   "source": [
    "## Load data"
   ]
  },
  {
   "cell_type": "code",
   "execution_count": 5,
   "metadata": {},
   "outputs": [],
   "source": [
    "dfs = readRDS(paste(data_path,\"dfs_filtered.rds\"))"
   ]
  },
  {
   "cell_type": "markdown",
   "metadata": {},
   "source": [
    "### Prepare data"
   ]
  },
  {
   "cell_type": "code",
   "execution_count": 6,
   "metadata": {},
   "outputs": [],
   "source": [
    "#export\n",
    "clean_df = function(df){\n",
    "    if(!is.data.frame(df)) stop(\"df must be data frame!\")\n",
    "    ind_st = which(\"survival_time\" == colnames(df))\n",
    "    ind_e  = which(\"event\"         == colnames(df))\n",
    "    i = first_expr_col(df)\n",
    "    e = dim(df)[2]\n",
    "    df[,c(ind_st, ind_e, i:e)]\n",
    "}"
   ]
  },
  {
   "cell_type": "code",
   "execution_count": 7,
   "metadata": {},
   "outputs": [],
   "source": [
    "#export\n",
    "impute_df = purrr::partial(apply_imputation, FUN=median)"
   ]
  },
  {
   "cell_type": "code",
   "execution_count": 8,
   "metadata": {},
   "outputs": [],
   "source": [
    "#export\n",
    "impute_and_clean = purrr::compose(impute_df, clean_df)"
   ]
  },
  {
   "cell_type": "code",
   "execution_count": 9,
   "metadata": {},
   "outputs": [],
   "source": [
    "dfs = map(dfs, impute_and_clean)"
   ]
  },
  {
   "cell_type": "markdown",
   "metadata": {},
   "source": [
    "## Feature Selection Methods "
   ]
  },
  {
   "cell_type": "code",
   "execution_count": 46,
   "metadata": {},
   "outputs": [],
   "source": [
    "#export\n",
    "rsf_fi = function(df, method){\n",
    "    φ = as.formula(Surv(survival_time, event)~.)\n",
    "    m = rfsrc(φ, data = df, \n",
    "              ntree=1000, \n",
    "              nsplit = 10, \n",
    "              mtry = sqrt((dim(df)[2]-2)), \n",
    "              nodesize = 3, \n",
    "              importance = T)\n",
    "    vars_selected  = var.select(object = m, method = method, verbose = F)\n",
    "    vars_selected$topvars\n",
    "}"
   ]
  },
  {
   "cell_type": "markdown",
   "metadata": {},
   "source": [
    "### 1) Random Survival Forests (RSF) variable importance"
   ]
  },
  {
   "cell_type": "code",
   "execution_count": 25,
   "metadata": {},
   "outputs": [],
   "source": [
    "df = clean_df(dfs[[1]])"
   ]
  },
  {
   "cell_type": "code",
   "execution_count": 26,
   "metadata": {},
   "outputs": [
    {
     "data": {
      "text/html": [
       "<style>\n",
       ".list-inline {list-style: none; margin:0; padding: 0}\n",
       ".list-inline>li {display: inline-block}\n",
       ".list-inline>li:not(:last-child)::after {content: \"\\00b7\"; padding: 0 .5ex}\n",
       "</style>\n",
       "<ol class=list-inline><li>'CCNE2'</li><li>'GAPDH'</li><li>'EFCAB1'</li></ol>\n"
      ],
      "text/latex": [
       "\\begin{enumerate*}\n",
       "\\item 'CCNE2'\n",
       "\\item 'GAPDH'\n",
       "\\item 'EFCAB1'\n",
       "\\end{enumerate*}\n"
      ],
      "text/markdown": [
       "1. 'CCNE2'\n",
       "2. 'GAPDH'\n",
       "3. 'EFCAB1'\n",
       "\n",
       "\n"
      ],
      "text/plain": [
       "[1] \"CCNE2\"  \"GAPDH\"  \"EFCAB1\""
      ]
     },
     "metadata": {},
     "output_type": "display_data"
    }
   ],
   "source": [
    "rsf_fi(df[,1:20], method = \"vh.vimp\")"
   ]
  },
  {
   "cell_type": "markdown",
   "metadata": {},
   "source": [
    "### 2) RSF minimal depth"
   ]
  },
  {
   "cell_type": "code",
   "execution_count": 27,
   "metadata": {},
   "outputs": [
    {
     "data": {
      "text/html": [
       "<style>\n",
       ".list-inline {list-style: none; margin:0; padding: 0}\n",
       ".list-inline>li {display: inline-block}\n",
       ".list-inline>li:not(:last-child)::after {content: \"\\00b7\"; padding: 0 .5ex}\n",
       "</style>\n",
       "<ol class=list-inline><li>'CCNE2'</li><li>'HNRNPAB'</li><li>'GAPDH'</li><li>'EEF1A1'</li><li>'CDT1'</li><li>'IPO13'</li><li>'EFCAB1'</li><li>'BORCS5'</li><li>'AFAP1'</li><li>'RPS28'</li><li>'PDE4DIP'</li><li>'FAM86FP'</li><li>'SLC35E2A'</li><li>'LPP'</li><li>'TRPV1'</li><li>'UGP2'</li><li>'PRSS41'</li><li>'WIPF3'</li></ol>\n"
      ],
      "text/latex": [
       "\\begin{enumerate*}\n",
       "\\item 'CCNE2'\n",
       "\\item 'HNRNPAB'\n",
       "\\item 'GAPDH'\n",
       "\\item 'EEF1A1'\n",
       "\\item 'CDT1'\n",
       "\\item 'IPO13'\n",
       "\\item 'EFCAB1'\n",
       "\\item 'BORCS5'\n",
       "\\item 'AFAP1'\n",
       "\\item 'RPS28'\n",
       "\\item 'PDE4DIP'\n",
       "\\item 'FAM86FP'\n",
       "\\item 'SLC35E2A'\n",
       "\\item 'LPP'\n",
       "\\item 'TRPV1'\n",
       "\\item 'UGP2'\n",
       "\\item 'PRSS41'\n",
       "\\item 'WIPF3'\n",
       "\\end{enumerate*}\n"
      ],
      "text/markdown": [
       "1. 'CCNE2'\n",
       "2. 'HNRNPAB'\n",
       "3. 'GAPDH'\n",
       "4. 'EEF1A1'\n",
       "5. 'CDT1'\n",
       "6. 'IPO13'\n",
       "7. 'EFCAB1'\n",
       "8. 'BORCS5'\n",
       "9. 'AFAP1'\n",
       "10. 'RPS28'\n",
       "11. 'PDE4DIP'\n",
       "12. 'FAM86FP'\n",
       "13. 'SLC35E2A'\n",
       "14. 'LPP'\n",
       "15. 'TRPV1'\n",
       "16. 'UGP2'\n",
       "17. 'PRSS41'\n",
       "18. 'WIPF3'\n",
       "\n",
       "\n"
      ],
      "text/plain": [
       " [1] \"CCNE2\"    \"HNRNPAB\"  \"GAPDH\"    \"EEF1A1\"   \"CDT1\"     \"IPO13\"   \n",
       " [7] \"EFCAB1\"   \"BORCS5\"   \"AFAP1\"    \"RPS28\"    \"PDE4DIP\"  \"FAM86FP\" \n",
       "[13] \"SLC35E2A\" \"LPP\"      \"TRPV1\"    \"UGP2\"     \"PRSS41\"   \"WIPF3\"   "
      ]
     },
     "metadata": {},
     "output_type": "display_data"
    }
   ],
   "source": [
    "rsf_fi[df[,1:20], method = \"md\")"
   ]
  },
  {
   "cell_type": "markdown",
   "metadata": {},
   "source": [
    "### 3) RSF variable hunting"
   ]
  },
  {
   "cell_type": "code",
   "execution_count": 28,
   "metadata": {},
   "outputs": [
    {
     "data": {
      "text/html": [
       "<style>\n",
       ".list-inline {list-style: none; margin:0; padding: 0}\n",
       ".list-inline>li {display: inline-block}\n",
       ".list-inline>li:not(:last-child)::after {content: \"\\00b7\"; padding: 0 .5ex}\n",
       "</style>\n",
       "<ol class=list-inline><li>'CDT1'</li><li>'PRSS41'</li><li>'HNRNPAB'</li><li>'PDE4DIP'</li></ol>\n"
      ],
      "text/latex": [
       "\\begin{enumerate*}\n",
       "\\item 'CDT1'\n",
       "\\item 'PRSS41'\n",
       "\\item 'HNRNPAB'\n",
       "\\item 'PDE4DIP'\n",
       "\\end{enumerate*}\n"
      ],
      "text/markdown": [
       "1. 'CDT1'\n",
       "2. 'PRSS41'\n",
       "3. 'HNRNPAB'\n",
       "4. 'PDE4DIP'\n",
       "\n",
       "\n"
      ],
      "text/plain": [
       "[1] \"CDT1\"    \"PRSS41\"  \"HNRNPAB\" \"PDE4DIP\""
      ]
     },
     "metadata": {},
     "output_type": "display_data"
    }
   ],
   "source": [
    "rsf_fi(df[,1:20], method = \"vh\")"
   ]
  },
  {
   "cell_type": "markdown",
   "metadata": {},
   "source": [
    "### 4) Maximally selected rank statistics Random Forests (MSRS RF) variable importance"
   ]
  },
  {
   "cell_type": "code",
   "execution_count": 87,
   "metadata": {},
   "outputs": [],
   "source": [
    "#export\n",
    "msrs_rf_fi = function(df, save = FALSE){\n",
    "    m = ranger(x = df[,-c(1,2)],\n",
    "           y= Surv(df[,1], df[,2]),\n",
    "           data = df, \n",
    "           splitrule = \"maxstat\",\n",
    "           importance = \"permutation\",\n",
    "           num.trees = 1000,\n",
    "           verbose = FALSE\n",
    "          )\n",
    "    var_imps = sort(m$variable.importance, decreasing = T)\n",
    "    if (save==TRUE){\n",
    "        saveRDS(object = var_imps, file = paste(data_path,\"msrs_rf_variable_importances.rds\"))\n",
    "        }\n",
    "    var_imps[1:200]\n",
    "}"
   ]
  },
  {
   "cell_type": "code",
   "execution_count": 209,
   "metadata": {},
   "outputs": [
    {
     "data": {
      "image/png": "[encoded data removed]",
      "text/plain": [
       "plot without title"
      ]
     },
     "metadata": {
      "image/png": {
       "height": 600,
       "width": 840
      }
     },
     "output_type": "display_data"
    }
   ],
   "source": [
    "plot(var_imps[1:1000])"
   ]
  },
  {
   "cell_type": "markdown",
   "metadata": {},
   "source": [
    "### 5) The Minimum Redundancy Maximum Relevance (mRMR) filter"
   ]
  },
  {
   "cell_type": "code",
   "execution_count": 108,
   "metadata": {},
   "outputs": [],
   "source": [
    "df = dfs[[1]]\n",
    "df = df[,1:1000]"
   ]
  },
  {
   "cell_type": "code",
   "execution_count": 78,
   "metadata": {},
   "outputs": [],
   "source": [
    "#export\n",
    "mrmr_fi = function(df){\n",
    "    tmp = cbind(Surv(df[,1], df[,2]), df[,-c(1,2)])\n",
    "    colnames(tmp) = c(\"Surv\", colnames(df)[-c(1,2)])\n",
    "    data = mRMR.data(tmp)\n",
    "    m = mRMR.classic(data = data, target_indices = c(1),feature_count = 20)\n",
    "    data@feature_names[solutions(m)[[1]]]\n",
    "    }"
   ]
  },
  {
   "cell_type": "code",
   "execution_count": 109,
   "metadata": {},
   "outputs": [
    {
     "data": {
      "text/html": [
       "<style>\n",
       ".list-inline {list-style: none; margin:0; padding: 0}\n",
       ".list-inline>li {display: inline-block}\n",
       ".list-inline>li:not(:last-child)::after {content: \"\\00b7\"; padding: 0 .5ex}\n",
       "</style>\n",
       "<ol class=list-inline><li>'CCNE2'</li><li>'COL4A1'</li><li>'HMGCR'</li><li>'ZMYND12'</li><li>'GAPDH'</li><li>'ABCC5'</li><li>'PDE6B'</li><li>'GPRIN1'</li><li>'DNAI3'</li><li>'SLC41A1'</li><li>'HSPA1L'</li><li>'KMT5A'</li><li>'ATP10D'</li><li>'PPEF1'</li><li>'GSTM4'</li><li>'HNRNPAB'</li><li>'RDH16'</li><li>'MLYCD'</li><li>'TTC8'</li><li>'PTPRS'</li></ol>\n"
      ],
      "text/latex": [
       "\\begin{enumerate*}\n",
       "\\item 'CCNE2'\n",
       "\\item 'COL4A1'\n",
       "\\item 'HMGCR'\n",
       "\\item 'ZMYND12'\n",
       "\\item 'GAPDH'\n",
       "\\item 'ABCC5'\n",
       "\\item 'PDE6B'\n",
       "\\item 'GPRIN1'\n",
       "\\item 'DNAI3'\n",
       "\\item 'SLC41A1'\n",
       "\\item 'HSPA1L'\n",
       "\\item 'KMT5A'\n",
       "\\item 'ATP10D'\n",
       "\\item 'PPEF1'\n",
       "\\item 'GSTM4'\n",
       "\\item 'HNRNPAB'\n",
       "\\item 'RDH16'\n",
       "\\item 'MLYCD'\n",
       "\\item 'TTC8'\n",
       "\\item 'PTPRS'\n",
       "\\end{enumerate*}\n"
      ],
      "text/markdown": [
       "1. 'CCNE2'\n",
       "2. 'COL4A1'\n",
       "3. 'HMGCR'\n",
       "4. 'ZMYND12'\n",
       "5. 'GAPDH'\n",
       "6. 'ABCC5'\n",
       "7. 'PDE6B'\n",
       "8. 'GPRIN1'\n",
       "9. 'DNAI3'\n",
       "10. 'SLC41A1'\n",
       "11. 'HSPA1L'\n",
       "12. 'KMT5A'\n",
       "13. 'ATP10D'\n",
       "14. 'PPEF1'\n",
       "15. 'GSTM4'\n",
       "16. 'HNRNPAB'\n",
       "17. 'RDH16'\n",
       "18. 'MLYCD'\n",
       "19. 'TTC8'\n",
       "20. 'PTPRS'\n",
       "\n",
       "\n"
      ],
      "text/plain": [
       " [1] \"CCNE2\"   \"COL4A1\"  \"HMGCR\"   \"ZMYND12\" \"GAPDH\"   \"ABCC5\"   \"PDE6B\"  \n",
       " [8] \"GPRIN1\"  \"DNAI3\"   \"SLC41A1\" \"HSPA1L\"  \"KMT5A\"   \"ATP10D\"  \"PPEF1\"  \n",
       "[15] \"GSTM4\"   \"HNRNPAB\" \"RDH16\"   \"MLYCD\"   \"TTC8\"    \"PTPRS\"  "
      ]
     },
     "metadata": {},
     "output_type": "display_data"
    }
   ],
   "source": [
    "mrmr_fi(df)"
   ]
  },
  {
   "cell_type": "markdown",
   "metadata": {},
   "source": [
    "### 6) Sequential forward and backward selection"
   ]
  },
  {
   "cell_type": "code",
   "execution_count": 15,
   "metadata": {},
   "outputs": [],
   "source": [
    "#export\n",
    "numbers_only = function(x) !grepl(\"\\\\D\", x)"
   ]
  },
  {
   "cell_type": "code",
   "execution_count": 213,
   "metadata": {},
   "outputs": [
    {
     "data": {
      "text/html": [
       "<style>\n",
       ".list-inline {list-style: none; margin:0; padding: 0}\n",
       ".list-inline>li {display: inline-block}\n",
       ".list-inline>li:not(:last-child)::after {content: \"\\00b7\"; padding: 0 .5ex}\n",
       "</style>\n",
       "<ol class=list-inline><li>'survival_time'</li><li>'event'</li><li>'GREM2'</li><li>'SUHW2'</li><li>'39'</li><li>'FGB'</li><li>'SCARA5'</li><li>'NA1'</li><li>'RAC1'</li><li>'NA2'</li></ol>\n"
      ],
      "text/latex": [
       "\\begin{enumerate*}\n",
       "\\item 'survival\\_time'\n",
       "\\item 'event'\n",
       "\\item 'GREM2'\n",
       "\\item 'SUHW2'\n",
       "\\item '39'\n",
       "\\item 'FGB'\n",
       "\\item 'SCARA5'\n",
       "\\item 'NA1'\n",
       "\\item 'RAC1'\n",
       "\\item 'NA2'\n",
       "\\end{enumerate*}\n"
      ],
      "text/markdown": [
       "1. 'survival_time'\n",
       "2. 'event'\n",
       "3. 'GREM2'\n",
       "4. 'SUHW2'\n",
       "5. '39'\n",
       "6. 'FGB'\n",
       "7. 'SCARA5'\n",
       "8. 'NA1'\n",
       "9. 'RAC1'\n",
       "10. 'NA2'\n",
       "\n",
       "\n"
      ],
      "text/plain": [
       " [1] \"survival_time\" \"event\"         \"GREM2\"         \"SUHW2\"        \n",
       " [5] \"39\"            \"FGB\"           \"SCARA5\"        \"NA1\"          \n",
       " [9] \"RAC1\"          \"NA2\"          "
      ]
     },
     "metadata": {},
     "output_type": "display_data"
    }
   ],
   "source": [
    "colnames(dfs[[6]])[1:10]"
   ]
  },
  {
   "cell_type": "code",
   "execution_count": 214,
   "metadata": {},
   "outputs": [
    {
     "data": {
      "text/html": [
       "<style>\n",
       ".list-inline {list-style: none; margin:0; padding: 0}\n",
       ".list-inline>li {display: inline-block}\n",
       ".list-inline>li:not(:last-child)::after {content: \"\\00b7\"; padding: 0 .5ex}\n",
       "</style>\n",
       "<ol class=list-inline><li>FALSE</li><li>FALSE</li><li>FALSE</li><li>FALSE</li><li>TRUE</li><li>FALSE</li><li>FALSE</li><li>FALSE</li><li>FALSE</li><li>FALSE</li></ol>\n"
      ],
      "text/latex": [
       "\\begin{enumerate*}\n",
       "\\item FALSE\n",
       "\\item FALSE\n",
       "\\item FALSE\n",
       "\\item FALSE\n",
       "\\item TRUE\n",
       "\\item FALSE\n",
       "\\item FALSE\n",
       "\\item FALSE\n",
       "\\item FALSE\n",
       "\\item FALSE\n",
       "\\end{enumerate*}\n"
      ],
      "text/markdown": [
       "1. FALSE\n",
       "2. FALSE\n",
       "3. FALSE\n",
       "4. FALSE\n",
       "5. TRUE\n",
       "6. FALSE\n",
       "7. FALSE\n",
       "8. FALSE\n",
       "9. FALSE\n",
       "10. FALSE\n",
       "\n",
       "\n"
      ],
      "text/plain": [
       " [1] FALSE FALSE FALSE FALSE  TRUE FALSE FALSE FALSE FALSE FALSE"
      ]
     },
     "metadata": {},
     "output_type": "display_data"
    }
   ],
   "source": [
    "numbers_only(colnames(dfs[[6]])[1:10])"
   ]
  },
  {
   "cell_type": "code",
   "execution_count": 43,
   "metadata": {},
   "outputs": [],
   "source": [
    "#export\n",
    "sfbs_fi = function(df, save = FALSE){\n",
    "    cols = colnames(df)\n",
    "    df = df[,cols[numbers_only(cols)==FALSE]]\n",
    "    φ = as.formula(paste(\"Surv(survival_time, event) ~ \", paste(colnames(df)[-c(1,2)], collapse= \"+\")))\n",
    "    m = stepAIC(coxph(formula = φ, data = df), direction=\"backward\", trace=FALSE0)\n",
    "    if (save==TRUE){\n",
    "        saveRDS(object = m, file = paste(data_path,\"sequential_selection_model.rds\"))\n",
    "        }\n",
    "    names(m$coefficients)\n",
    "    }"
   ]
  },
  {
   "cell_type": "code",
   "execution_count": 48,
   "metadata": {},
   "outputs": [],
   "source": [
    "library(h2o)"
   ]
  },
  {
   "cell_type": "code",
   "execution_count": 44,
   "metadata": {},
   "outputs": [],
   "source": [
    "df = dfs[[1]]"
   ]
  },
  {
   "cell_type": "code",
   "execution_count": 45,
   "metadata": {},
   "outputs": [
    {
     "ename": "ERROR",
     "evalue": "Error: protect(): protection stack overflow\n",
     "output_type": "error",
     "traceback": [
      "Error: protect(): protection stack overflow\nTraceback:\n",
      "1. sfbs_fi(df)",
      "2. stepAIC(coxph(formula = φ, data = df), direction = \"backward\", \n .     trace = FALSE0)   # at line 6 of file <text>",
      "3. terms(object)",
      "4. coxph(formula = φ, data = df)",
      "5. terms(formula, specials = ss, data = data)",
      "6. terms.formula(formula, specials = ss, data = data)"
     ]
    }
   ],
   "source": [
    "sfbs_fi(df)"
   ]
  },
  {
   "cell_type": "code",
   "execution_count": 222,
   "metadata": {},
   "outputs": [],
   "source": [
    "df = dfs[[6]]\n",
    "df = df[, 1:100]"
   ]
  },
  {
   "cell_type": "code",
   "execution_count": 223,
   "metadata": {},
   "outputs": [
    {
     "data": {
      "text/html": [
       "<style>\n",
       ".list-inline {list-style: none; margin:0; padding: 0}\n",
       ".list-inline>li {display: inline-block}\n",
       ".list-inline>li:not(:last-child)::after {content: \"\\00b7\"; padding: 0 .5ex}\n",
       "</style>\n",
       "<ol class=list-inline><li>'GREM2'</li><li>'FGB'</li><li>'NA1'</li><li>'NA2'</li><li>'NA3'</li><li>'NA4'</li><li>'NA5'</li><li>'NA6'</li><li>'GPM6A'</li><li>'C11orf38'</li><li>'NA7'</li><li>'NA9'</li><li>'NA10'</li><li>'STAC2'</li><li>'JMJD1A'</li><li>'NA11'</li><li>'ZNF148'</li><li>'NA13'</li><li>'NA14'</li><li>'SLC15A2'</li><li>'NA15'</li><li>'SAMD9L'</li><li>'NA16'</li><li>'SPRY3'</li><li>'KCMF1'</li><li>'NA19'</li><li>'NA20'</li><li>'NA21'</li><li>'NA22'</li><li>'THSD4'</li><li>'FAM122B'</li><li>'ACBD4'</li><li>'NA23'</li><li>'NA25'</li><li>'NA26'</li><li>'CRTC2'</li><li>'NA28'</li><li>'NA29'</li><li>'TTYH1'</li><li>'NA30'</li><li>'NA31'</li><li>'CKAP2L'</li><li>'NA32'</li><li>'NA33'</li><li>'NA34'</li><li>'MS4A1'</li><li>'NA36'</li><li>'NA37'</li><li>'NA38'</li><li>'NA39'</li><li>'NA40'</li><li>'NA42'</li><li>'NA43'</li><li>'NA44'</li><li>'NA46'</li><li>'NA47'</li><li>'RGS5'</li><li>'MRPL19'</li><li>'NA50'</li><li>'IKZF2'</li><li>'LONRF2'</li><li>'C14orf173'</li><li>'RAB3GAP1'</li><li>'SLC39A14'</li><li>'NDRG4'</li><li>'NA52'</li><li>'EPHB2'</li><li>'MMD2'</li><li>'NA54'</li><li>'NA56'</li><li>'KIAA1189'</li></ol>\n"
      ],
      "text/latex": [
       "\\begin{enumerate*}\n",
       "\\item 'GREM2'\n",
       "\\item 'FGB'\n",
       "\\item 'NA1'\n",
       "\\item 'NA2'\n",
       "\\item 'NA3'\n",
       "\\item 'NA4'\n",
       "\\item 'NA5'\n",
       "\\item 'NA6'\n",
       "\\item 'GPM6A'\n",
       "\\item 'C11orf38'\n",
       "\\item 'NA7'\n",
       "\\item 'NA9'\n",
       "\\item 'NA10'\n",
       "\\item 'STAC2'\n",
       "\\item 'JMJD1A'\n",
       "\\item 'NA11'\n",
       "\\item 'ZNF148'\n",
       "\\item 'NA13'\n",
       "\\item 'NA14'\n",
       "\\item 'SLC15A2'\n",
       "\\item 'NA15'\n",
       "\\item 'SAMD9L'\n",
       "\\item 'NA16'\n",
       "\\item 'SPRY3'\n",
       "\\item 'KCMF1'\n",
       "\\item 'NA19'\n",
       "\\item 'NA20'\n",
       "\\item 'NA21'\n",
       "\\item 'NA22'\n",
       "\\item 'THSD4'\n",
       "\\item 'FAM122B'\n",
       "\\item 'ACBD4'\n",
       "\\item 'NA23'\n",
       "\\item 'NA25'\n",
       "\\item 'NA26'\n",
       "\\item 'CRTC2'\n",
       "\\item 'NA28'\n",
       "\\item 'NA29'\n",
       "\\item 'TTYH1'\n",
       "\\item 'NA30'\n",
       "\\item 'NA31'\n",
       "\\item 'CKAP2L'\n",
       "\\item 'NA32'\n",
       "\\item 'NA33'\n",
       "\\item 'NA34'\n",
       "\\item 'MS4A1'\n",
       "\\item 'NA36'\n",
       "\\item 'NA37'\n",
       "\\item 'NA38'\n",
       "\\item 'NA39'\n",
       "\\item 'NA40'\n",
       "\\item 'NA42'\n",
       "\\item 'NA43'\n",
       "\\item 'NA44'\n",
       "\\item 'NA46'\n",
       "\\item 'NA47'\n",
       "\\item 'RGS5'\n",
       "\\item 'MRPL19'\n",
       "\\item 'NA50'\n",
       "\\item 'IKZF2'\n",
       "\\item 'LONRF2'\n",
       "\\item 'C14orf173'\n",
       "\\item 'RAB3GAP1'\n",
       "\\item 'SLC39A14'\n",
       "\\item 'NDRG4'\n",
       "\\item 'NA52'\n",
       "\\item 'EPHB2'\n",
       "\\item 'MMD2'\n",
       "\\item 'NA54'\n",
       "\\item 'NA56'\n",
       "\\item 'KIAA1189'\n",
       "\\end{enumerate*}\n"
      ],
      "text/markdown": [
       "1. 'GREM2'\n",
       "2. 'FGB'\n",
       "3. 'NA1'\n",
       "4. 'NA2'\n",
       "5. 'NA3'\n",
       "6. 'NA4'\n",
       "7. 'NA5'\n",
       "8. 'NA6'\n",
       "9. 'GPM6A'\n",
       "10. 'C11orf38'\n",
       "11. 'NA7'\n",
       "12. 'NA9'\n",
       "13. 'NA10'\n",
       "14. 'STAC2'\n",
       "15. 'JMJD1A'\n",
       "16. 'NA11'\n",
       "17. 'ZNF148'\n",
       "18. 'NA13'\n",
       "19. 'NA14'\n",
       "20. 'SLC15A2'\n",
       "21. 'NA15'\n",
       "22. 'SAMD9L'\n",
       "23. 'NA16'\n",
       "24. 'SPRY3'\n",
       "25. 'KCMF1'\n",
       "26. 'NA19'\n",
       "27. 'NA20'\n",
       "28. 'NA21'\n",
       "29. 'NA22'\n",
       "30. 'THSD4'\n",
       "31. 'FAM122B'\n",
       "32. 'ACBD4'\n",
       "33. 'NA23'\n",
       "34. 'NA25'\n",
       "35. 'NA26'\n",
       "36. 'CRTC2'\n",
       "37. 'NA28'\n",
       "38. 'NA29'\n",
       "39. 'TTYH1'\n",
       "40. 'NA30'\n",
       "41. 'NA31'\n",
       "42. 'CKAP2L'\n",
       "43. 'NA32'\n",
       "44. 'NA33'\n",
       "45. 'NA34'\n",
       "46. 'MS4A1'\n",
       "47. 'NA36'\n",
       "48. 'NA37'\n",
       "49. 'NA38'\n",
       "50. 'NA39'\n",
       "51. 'NA40'\n",
       "52. 'NA42'\n",
       "53. 'NA43'\n",
       "54. 'NA44'\n",
       "55. 'NA46'\n",
       "56. 'NA47'\n",
       "57. 'RGS5'\n",
       "58. 'MRPL19'\n",
       "59. 'NA50'\n",
       "60. 'IKZF2'\n",
       "61. 'LONRF2'\n",
       "62. 'C14orf173'\n",
       "63. 'RAB3GAP1'\n",
       "64. 'SLC39A14'\n",
       "65. 'NDRG4'\n",
       "66. 'NA52'\n",
       "67. 'EPHB2'\n",
       "68. 'MMD2'\n",
       "69. 'NA54'\n",
       "70. 'NA56'\n",
       "71. 'KIAA1189'\n",
       "\n",
       "\n"
      ],
      "text/plain": [
       " [1] \"GREM2\"     \"FGB\"       \"NA1\"       \"NA2\"       \"NA3\"       \"NA4\"      \n",
       " [7] \"NA5\"       \"NA6\"       \"GPM6A\"     \"C11orf38\"  \"NA7\"       \"NA9\"      \n",
       "[13] \"NA10\"      \"STAC2\"     \"JMJD1A\"    \"NA11\"      \"ZNF148\"    \"NA13\"     \n",
       "[19] \"NA14\"      \"SLC15A2\"   \"NA15\"      \"SAMD9L\"    \"NA16\"      \"SPRY3\"    \n",
       "[25] \"KCMF1\"     \"NA19\"      \"NA20\"      \"NA21\"      \"NA22\"      \"THSD4\"    \n",
       "[31] \"FAM122B\"   \"ACBD4\"     \"NA23\"      \"NA25\"      \"NA26\"      \"CRTC2\"    \n",
       "[37] \"NA28\"      \"NA29\"      \"TTYH1\"     \"NA30\"      \"NA31\"      \"CKAP2L\"   \n",
       "[43] \"NA32\"      \"NA33\"      \"NA34\"      \"MS4A1\"     \"NA36\"      \"NA37\"     \n",
       "[49] \"NA38\"      \"NA39\"      \"NA40\"      \"NA42\"      \"NA43\"      \"NA44\"     \n",
       "[55] \"NA46\"      \"NA47\"      \"RGS5\"      \"MRPL19\"    \"NA50\"      \"IKZF2\"    \n",
       "[61] \"LONRF2\"    \"C14orf173\" \"RAB3GAP1\"  \"SLC39A14\"  \"NDRG4\"     \"NA52\"     \n",
       "[67] \"EPHB2\"     \"MMD2\"      \"NA54\"      \"NA56\"      \"KIAA1189\" "
      ]
     },
     "metadata": {},
     "output_type": "display_data"
    }
   ],
   "source": [
    "sfbs_fi(df)"
   ]
  },
  {
   "cell_type": "markdown",
   "metadata": {},
   "source": [
    "### 7) SIS"
   ]
  },
  {
   "cell_type": "code",
   "execution_count": 139,
   "metadata": {},
   "outputs": [
    {
     "data": {
      "text/html": [
       "<style>\n",
       ".list-inline {list-style: none; margin:0; padding: 0}\n",
       ".list-inline>li {display: inline-block}\n",
       ".list-inline>li:not(:last-child)::after {content: \"\\00b7\"; padding: 0 .5ex}\n",
       "</style>\n",
       "<ol class=list-inline><li>'METABRIC'</li><li>'GSE11121'</li><li>'GSE96058'</li><li>'GSE7390'</li><li>'GSE9893'</li><li>'NKI'</li><li>'TCGA'</li><li>'GSE4922'</li></ol>\n"
      ],
      "text/latex": [
       "\\begin{enumerate*}\n",
       "\\item 'METABRIC'\n",
       "\\item 'GSE11121'\n",
       "\\item 'GSE96058'\n",
       "\\item 'GSE7390'\n",
       "\\item 'GSE9893'\n",
       "\\item 'NKI'\n",
       "\\item 'TCGA'\n",
       "\\item 'GSE4922'\n",
       "\\end{enumerate*}\n"
      ],
      "text/markdown": [
       "1. 'METABRIC'\n",
       "2. 'GSE11121'\n",
       "3. 'GSE96058'\n",
       "4. 'GSE7390'\n",
       "5. 'GSE9893'\n",
       "6. 'NKI'\n",
       "7. 'TCGA'\n",
       "8. 'GSE4922'\n",
       "\n",
       "\n"
      ],
      "text/plain": [
       "[1] \"METABRIC\" \"GSE11121\" \"GSE96058\" \"GSE7390\"  \"GSE9893\"  \"NKI\"      \"TCGA\"    \n",
       "[8] \"GSE4922\" "
      ]
     },
     "metadata": {},
     "output_type": "display_data"
    }
   ],
   "source": [
    "names(dfs)"
   ]
  },
  {
   "cell_type": "code",
   "execution_count": 13,
   "metadata": {},
   "outputs": [],
   "source": [
    "fi_sis = vector(\"list\", 7)"
   ]
  },
  {
   "cell_type": "code",
   "execution_count": 145,
   "metadata": {},
   "outputs": [],
   "source": [
    "saveRDS(object = fi_sis, file = \"../data/fi_sis.rds\")"
   ]
  },
  {
   "cell_type": "code",
   "execution_count": 25,
   "metadata": {},
   "outputs": [],
   "source": [
    "#export\n",
    "sis_fi = function(df){ \n",
    "    sis = SIS(as.matrix(df[,-c(1,2)]), \n",
    "          Surv(df[,1], df[,2]), \n",
    "          family = \"cox\", \n",
    "          penalty = \"lasso\", \n",
    "          tune=\"aic\",\n",
    "          varISIS='cons',\n",
    "          standardize = TRUE,\n",
    "          greedy = TRUE\n",
    "             )\n",
    "    colnames(df[,-c(1,2)])[sis$ix]\n",
    "    }"
   ]
  },
  {
   "cell_type": "markdown",
   "metadata": {},
   "source": [
    "#### SIS for GSE96058 separately"
   ]
  },
  {
   "cell_type": "code",
   "execution_count": 26,
   "metadata": {},
   "outputs": [
    {
     "data": {
      "text/html": [
       "<style>\n",
       ".list-inline {list-style: none; margin:0; padding: 0}\n",
       ".list-inline>li {display: inline-block}\n",
       ".list-inline>li:not(:last-child)::after {content: \"\\00b7\"; padding: 0 .5ex}\n",
       "</style>\n",
       "<ol class=list-inline><li>1102</li><li>30862</li></ol>\n"
      ],
      "text/latex": [
       "\\begin{enumerate*}\n",
       "\\item 1102\n",
       "\\item 30862\n",
       "\\end{enumerate*}\n"
      ],
      "text/markdown": [
       "1. 1102\n",
       "2. 30862\n",
       "\n",
       "\n"
      ],
      "text/plain": [
       "[1]  1102 30862"
      ]
     },
     "metadata": {},
     "output_type": "display_data"
    }
   ],
   "source": [
    "df = dfs[[3]]\n",
    "dim(df)"
   ]
  },
  {
   "cell_type": "code",
   "execution_count": 10,
   "metadata": {},
   "outputs": [],
   "source": [
    "df_var = sapply(df[3:ncol(df)], var)"
   ]
  },
  {
   "cell_type": "code",
   "execution_count": 12,
   "metadata": {},
   "outputs": [
    {
     "data": {
      "text/html": [
       "30860"
      ],
      "text/latex": [
       "30860"
      ],
      "text/markdown": [
       "30860"
      ],
      "text/plain": [
       "[1] 30860"
      ]
     },
     "metadata": {},
     "output_type": "display_data"
    }
   ],
   "source": [
    "length(df_var)"
   ]
  },
  {
   "cell_type": "code",
   "execution_count": 19,
   "metadata": {},
   "outputs": [
    {
     "data": {
      "text/html": [
       "6189"
      ],
      "text/latex": [
       "6189"
      ],
      "text/markdown": [
       "6189"
      ],
      "text/plain": [
       "[1] 6189"
      ]
     },
     "metadata": {},
     "output_type": "display_data"
    }
   ],
   "source": [
    "cols = names(df_var[df_var > 0.75])\n",
    "length(cols)"
   ]
  },
  {
   "cell_type": "code",
   "execution_count": 27,
   "metadata": {},
   "outputs": [
    {
     "data": {
      "text/html": [
       "<style>\n",
       ".list-inline {list-style: none; margin:0; padding: 0}\n",
       ".list-inline>li {display: inline-block}\n",
       ".list-inline>li:not(:last-child)::after {content: \"\\00b7\"; padding: 0 .5ex}\n",
       "</style>\n",
       "<ol class=list-inline><li>1102</li><li>6191</li></ol>\n"
      ],
      "text/latex": [
       "\\begin{enumerate*}\n",
       "\\item 1102\n",
       "\\item 6191\n",
       "\\end{enumerate*}\n"
      ],
      "text/markdown": [
       "1. 1102\n",
       "2. 6191\n",
       "\n",
       "\n"
      ],
      "text/plain": [
       "[1] 1102 6191"
      ]
     },
     "metadata": {},
     "output_type": "display_data"
    }
   ],
   "source": [
    "df = df[,c(\"survival_time\", \"event\",cols)]\n",
    "dim(df)"
   ]
  },
  {
   "cell_type": "code",
   "execution_count": 28,
   "metadata": {},
   "outputs": [
    {
     "name": "stdout",
     "output_type": "stream",
     "text": [
      "Iter 1 , screening:  10 166 172 231 233 299 507 538 629 666 703 1094 1256 2547 2551 3221 4771 4775 4876 4878 4924 4949 5348 5430 5962 6113 \n",
      "Iter 1 , selection:  166 172 538 2547 4775 5962 6113 \n",
      "Iter 1 , conditional-screening:  1573 1713 1801 2856 2862 2883 3493 3503 3520 3531 3534 3553 3608 3633 3654 3727 3776 3786 3833 3856 3887 3889 3947 3961 3964 4815 5222 5308 5341 5374 5415 6092 \n",
      "Iter 2 , screening:  166 172 538 1573 1713 1801 2547 2856 2862 2883 3493 3503 3520 3531 3534 3553 3608 3633 3654 3727 3776 3786 3833 3856 3887 3889 3947 3961 3964 4775 4815 5222 5308 5341 5374 5415 5962 6092 6113 \n",
      "Sample splitting attempt:  1 \n",
      "Iter 1 , screening:  10 166 170 229 231 233 257 266 290 299 301 507 538 629 631 666 686 703 1094 1256 2512 2539 2551 2552 3328 4483 \n",
      "Iter 1 , selection:  166 229 290 301 538 686 2512 \n",
      "Iter 1 , conditional-screening:  1741 1756 1792 1796 1799 1810 2856 3488 3566 3610 3611 3635 3668 3673 3712 3724 3730 3739 3745 3780 3806 3809 3839 3851 3942 3945 3949 3957 4810 5251 5317 5325 \n",
      "Iter 2 , screening:  166 229 290 301 538 686 1741 1756 1792 1796 1799 1810 2512 2856 3488 3566 3610 3611 3635 3668 3673 3712 3724 3730 3739 3745 3780 3806 3809 3839 3851 3942 3945 3949 3957 4810 5251 5317 5325 \n",
      "Iter 2 , selection:  166 290 1741 2512 3809 \n",
      "Iter 2 , conditional-screening:  1640 1672 1709 1729 1739 1759 1769 1791 2855 3497 3547 3550 3566 3610 3626 3647 3656 3676 3685 3695 3740 3743 3778 3780 3786 3805 3824 3836 3856 3891 3907 3916 3945 4809 \n",
      "Iter 3 , screening:  166 290 1640 1672 1709 1729 1739 1741 1759 1769 1791 2512 2855 3497 3547 3550 3566 3610 3626 3647 3656 3676 3685 3695 3740 3743 3778 3780 3786 3805 3809 3824 3836 3856 3891 3907 3916 3945 4809 \n",
      "Iter 3 , selection:  166 290 1741 2512 3647 3805 3809 3836 3856 \n",
      "Iter 3 , conditional-screening:  1640 1729 1759 1769 2855 3497 3547 3566 3610 3646 3656 3695 3743 3778 3780 3786 3804 3824 3835 3855 3891 3892 3908 3927 3942 3945 3954 4810 5224 5325 \n",
      "Iter 4 , screening:  166 290 1640 1729 1741 1759 1769 2512 2855 3497 3547 3566 3610 3646 3647 3656 3695 3743 3778 3780 3786 3804 3805 3809 3824 3835 3836 3855 3856 3891 3892 3908 3927 3942 3945 3954 4810 5224 5325 \n",
      "Iter 4 , selection:  166 290 1741 2512 3646 3647 3805 3809 3836 3856 \n",
      "Iter 4 , conditional-screening:  1640 1729 1759 1769 2855 3497 3547 3566 3610 3645 3656 3695 3743 3778 3780 3786 3804 3824 3835 3855 3891 3892 3908 3927 3942 3945 3954 5224 5325 \n",
      "Iter 5 , screening:  166 290 1640 1729 1741 1759 1769 2512 2855 3497 3547 3566 3610 3645 3646 3647 3656 3695 3743 3778 3780 3786 3804 3805 3809 3824 3835 3836 3855 3856 3891 3892 3908 3927 3942 3945 3954 5224 5325 \n",
      "Iter 5 , selection:  166 290 1741 2512 3646 3647 3805 3809 3836 3856 \n",
      "Model already selected \n"
     ]
    }
   ],
   "source": [
    "fi = sis_fi(df)"
   ]
  },
  {
   "cell_type": "code",
   "execution_count": 29,
   "metadata": {},
   "outputs": [
    {
     "data": {
      "text/html": [
       "<style>\n",
       ".list-inline {list-style: none; margin:0; padding: 0}\n",
       ".list-inline>li {display: inline-block}\n",
       ".list-inline>li:not(:last-child)::after {content: \"\\00b7\"; padding: 0 .5ex}\n",
       "</style>\n",
       "<ol class=list-inline><li>'AF086346'</li><li>'AK128525'</li><li>'DQ588543'</li><li>'HIPK2'</li><li>'MIR4461'</li><li>'MIR4466'</li><li>'MIR632'</li><li>'MIR637'</li><li>'MIR6736'</li><li>'MIR6762'</li></ol>\n"
      ],
      "text/latex": [
       "\\begin{enumerate*}\n",
       "\\item 'AF086346'\n",
       "\\item 'AK128525'\n",
       "\\item 'DQ588543'\n",
       "\\item 'HIPK2'\n",
       "\\item 'MIR4461'\n",
       "\\item 'MIR4466'\n",
       "\\item 'MIR632'\n",
       "\\item 'MIR637'\n",
       "\\item 'MIR6736'\n",
       "\\item 'MIR6762'\n",
       "\\end{enumerate*}\n"
      ],
      "text/markdown": [
       "1. 'AF086346'\n",
       "2. 'AK128525'\n",
       "3. 'DQ588543'\n",
       "4. 'HIPK2'\n",
       "5. 'MIR4461'\n",
       "6. 'MIR4466'\n",
       "7. 'MIR632'\n",
       "8. 'MIR637'\n",
       "9. 'MIR6736'\n",
       "10. 'MIR6762'\n",
       "\n",
       "\n"
      ],
      "text/plain": [
       " [1] \"AF086346\" \"AK128525\" \"DQ588543\" \"HIPK2\"    \"MIR4461\"  \"MIR4466\" \n",
       " [7] \"MIR632\"   \"MIR637\"   \"MIR6736\"  \"MIR6762\" "
      ]
     },
     "metadata": {},
     "output_type": "display_data"
    }
   ],
   "source": [
    "fi"
   ]
  },
  {
   "cell_type": "code",
   "execution_count": 45,
   "metadata": {},
   "outputs": [],
   "source": [
    "fis = readRDS(\"../data/fi_sis.rds\")"
   ]
  },
  {
   "cell_type": "code",
   "execution_count": 47,
   "metadata": {},
   "outputs": [],
   "source": [
    "fis[[2]] = fi"
   ]
  },
  {
   "cell_type": "code",
   "execution_count": 48,
   "metadata": {},
   "outputs": [
    {
     "data": {
      "text/html": [
       "<ol>\n",
       "\t<li><style>\n",
       ".list-inline {list-style: none; margin:0; padding: 0}\n",
       ".list-inline>li {display: inline-block}\n",
       ".list-inline>li:not(:last-child)::after {content: \"\\00b7\"; padding: 0 .5ex}\n",
       "</style>\n",
       "<ol class=list-inline><li>'CYP7A1'</li><li>'DNMT3A'</li><li>'KCMF1'</li><li>'RAB9BP1'</li><li>'RSRC1'</li></ol>\n",
       "</li>\n",
       "\t<li><style>\n",
       ".list-inline {list-style: none; margin:0; padding: 0}\n",
       ".list-inline>li {display: inline-block}\n",
       ".list-inline>li:not(:last-child)::after {content: \"\\00b7\"; padding: 0 .5ex}\n",
       "</style>\n",
       "<ol class=list-inline><li>'AF086346'</li><li>'AK128525'</li><li>'DQ588543'</li><li>'HIPK2'</li><li>'MIR4461'</li><li>'MIR4466'</li><li>'MIR632'</li><li>'MIR637'</li><li>'MIR6736'</li><li>'MIR6762'</li></ol>\n",
       "</li>\n",
       "\t<li><style>\n",
       ".list-inline {list-style: none; margin:0; padding: 0}\n",
       ".list-inline>li {display: inline-block}\n",
       ".list-inline>li:not(:last-child)::after {content: \"\\00b7\"; padding: 0 .5ex}\n",
       "</style>\n",
       "<ol class=list-inline><li>'ARL6IP5'</li><li>'ESM1'</li><li>'SMPX'</li><li>'TMEM156'</li><li>'TUBG1'</li><li>'UGT2B4'</li></ol>\n",
       "</li>\n",
       "\t<li><style>\n",
       ".list-inline {list-style: none; margin:0; padding: 0}\n",
       ".list-inline>li {display: inline-block}\n",
       ".list-inline>li:not(:last-child)::after {content: \"\\00b7\"; padding: 0 .5ex}\n",
       "</style>\n",
       "<ol class=list-inline><li>'MAP4K5'</li><li>'CADPS'</li><li>'DIO2'</li><li>'FOXF2'</li></ol>\n",
       "</li>\n",
       "\t<li><style>\n",
       ".list-inline {list-style: none; margin:0; padding: 0}\n",
       ".list-inline>li {display: inline-block}\n",
       ".list-inline>li:not(:last-child)::after {content: \"\\00b7\"; padding: 0 .5ex}\n",
       "</style>\n",
       "<ol class=list-inline><li>'UGCGL1'</li><li>'SEMA5B'</li><li>'RPL41'</li><li>'ZNF533'</li><li>'C1RL'</li><li>'NXN'</li><li>'STARD13'</li><li>'C20orf24'</li></ol>\n",
       "</li>\n",
       "\t<li><style>\n",
       ".list-inline {list-style: none; margin:0; padding: 0}\n",
       ".list-inline>li {display: inline-block}\n",
       ".list-inline>li:not(:last-child)::after {content: \"\\00b7\"; padding: 0 .5ex}\n",
       "</style>\n",
       "<ol class=list-inline><li>'STOML3'</li><li>'AC1041171'</li><li>'SFTA3'</li><li>'AC0112871'</li><li>'LCE1F'</li><li>'AC1081591'</li><li>'RNU61161P'</li><li>'RNA5SP101'</li></ol>\n",
       "</li>\n",
       "\t<li><style>\n",
       ".list-inline {list-style: none; margin:0; padding: 0}\n",
       ".list-inline>li {display: inline-block}\n",
       ".list-inline>li:not(:last-child)::after {content: \"\\00b7\"; padding: 0 .5ex}\n",
       "</style>\n",
       "<ol class=list-inline><li>'C19orf53'</li><li>'CXCL5'</li><li>'POLR2I'</li><li>'PRR16'</li></ol>\n",
       "</li>\n",
       "</ol>\n"
      ],
      "text/latex": [
       "\\begin{enumerate}\n",
       "\\item \\begin{enumerate*}\n",
       "\\item 'CYP7A1'\n",
       "\\item 'DNMT3A'\n",
       "\\item 'KCMF1'\n",
       "\\item 'RAB9BP1'\n",
       "\\item 'RSRC1'\n",
       "\\end{enumerate*}\n",
       "\n",
       "\\item \\begin{enumerate*}\n",
       "\\item 'AF086346'\n",
       "\\item 'AK128525'\n",
       "\\item 'DQ588543'\n",
       "\\item 'HIPK2'\n",
       "\\item 'MIR4461'\n",
       "\\item 'MIR4466'\n",
       "\\item 'MIR632'\n",
       "\\item 'MIR637'\n",
       "\\item 'MIR6736'\n",
       "\\item 'MIR6762'\n",
       "\\end{enumerate*}\n",
       "\n",
       "\\item \\begin{enumerate*}\n",
       "\\item 'ARL6IP5'\n",
       "\\item 'ESM1'\n",
       "\\item 'SMPX'\n",
       "\\item 'TMEM156'\n",
       "\\item 'TUBG1'\n",
       "\\item 'UGT2B4'\n",
       "\\end{enumerate*}\n",
       "\n",
       "\\item \\begin{enumerate*}\n",
       "\\item 'MAP4K5'\n",
       "\\item 'CADPS'\n",
       "\\item 'DIO2'\n",
       "\\item 'FOXF2'\n",
       "\\end{enumerate*}\n",
       "\n",
       "\\item \\begin{enumerate*}\n",
       "\\item 'UGCGL1'\n",
       "\\item 'SEMA5B'\n",
       "\\item 'RPL41'\n",
       "\\item 'ZNF533'\n",
       "\\item 'C1RL'\n",
       "\\item 'NXN'\n",
       "\\item 'STARD13'\n",
       "\\item 'C20orf24'\n",
       "\\end{enumerate*}\n",
       "\n",
       "\\item \\begin{enumerate*}\n",
       "\\item 'STOML3'\n",
       "\\item 'AC1041171'\n",
       "\\item 'SFTA3'\n",
       "\\item 'AC0112871'\n",
       "\\item 'LCE1F'\n",
       "\\item 'AC1081591'\n",
       "\\item 'RNU61161P'\n",
       "\\item 'RNA5SP101'\n",
       "\\end{enumerate*}\n",
       "\n",
       "\\item \\begin{enumerate*}\n",
       "\\item 'C19orf53'\n",
       "\\item 'CXCL5'\n",
       "\\item 'POLR2I'\n",
       "\\item 'PRR16'\n",
       "\\end{enumerate*}\n",
       "\n",
       "\\end{enumerate}\n"
      ],
      "text/markdown": [
       "1. 1. 'CYP7A1'\n",
       "2. 'DNMT3A'\n",
       "3. 'KCMF1'\n",
       "4. 'RAB9BP1'\n",
       "5. 'RSRC1'\n",
       "\n",
       "\n",
       "\n",
       "2. 1. 'AF086346'\n",
       "2. 'AK128525'\n",
       "3. 'DQ588543'\n",
       "4. 'HIPK2'\n",
       "5. 'MIR4461'\n",
       "6. 'MIR4466'\n",
       "7. 'MIR632'\n",
       "8. 'MIR637'\n",
       "9. 'MIR6736'\n",
       "10. 'MIR6762'\n",
       "\n",
       "\n",
       "\n",
       "3. 1. 'ARL6IP5'\n",
       "2. 'ESM1'\n",
       "3. 'SMPX'\n",
       "4. 'TMEM156'\n",
       "5. 'TUBG1'\n",
       "6. 'UGT2B4'\n",
       "\n",
       "\n",
       "\n",
       "4. 1. 'MAP4K5'\n",
       "2. 'CADPS'\n",
       "3. 'DIO2'\n",
       "4. 'FOXF2'\n",
       "\n",
       "\n",
       "\n",
       "5. 1. 'UGCGL1'\n",
       "2. 'SEMA5B'\n",
       "3. 'RPL41'\n",
       "4. 'ZNF533'\n",
       "5. 'C1RL'\n",
       "6. 'NXN'\n",
       "7. 'STARD13'\n",
       "8. 'C20orf24'\n",
       "\n",
       "\n",
       "\n",
       "6. 1. 'STOML3'\n",
       "2. 'AC1041171'\n",
       "3. 'SFTA3'\n",
       "4. 'AC0112871'\n",
       "5. 'LCE1F'\n",
       "6. 'AC1081591'\n",
       "7. 'RNU61161P'\n",
       "8. 'RNA5SP101'\n",
       "\n",
       "\n",
       "\n",
       "7. 1. 'C19orf53'\n",
       "2. 'CXCL5'\n",
       "3. 'POLR2I'\n",
       "4. 'PRR16'\n",
       "\n",
       "\n",
       "\n",
       "\n",
       "\n"
      ],
      "text/plain": [
       "[[1]]\n",
       "[1] \"CYP7A1\"  \"DNMT3A\"  \"KCMF1\"   \"RAB9BP1\" \"RSRC1\"  \n",
       "\n",
       "[[2]]\n",
       " [1] \"AF086346\" \"AK128525\" \"DQ588543\" \"HIPK2\"    \"MIR4461\"  \"MIR4466\" \n",
       " [7] \"MIR632\"   \"MIR637\"   \"MIR6736\"  \"MIR6762\" \n",
       "\n",
       "[[3]]\n",
       "[1] \"ARL6IP5\" \"ESM1\"    \"SMPX\"    \"TMEM156\" \"TUBG1\"   \"UGT2B4\" \n",
       "\n",
       "[[4]]\n",
       "[1] \"MAP4K5\" \"CADPS\"  \"DIO2\"   \"FOXF2\" \n",
       "\n",
       "[[5]]\n",
       "[1] \"UGCGL1\"   \"SEMA5B\"   \"RPL41\"    \"ZNF533\"   \"C1RL\"     \"NXN\"      \"STARD13\" \n",
       "[8] \"C20orf24\"\n",
       "\n",
       "[[6]]\n",
       "[1] \"STOML3\"    \"AC1041171\" \"SFTA3\"     \"AC0112871\" \"LCE1F\"     \"AC1081591\"\n",
       "[7] \"RNU61161P\" \"RNA5SP101\"\n",
       "\n",
       "[[7]]\n",
       "[1] \"C19orf53\" \"CXCL5\"    \"POLR2I\"   \"PRR16\"   \n"
      ]
     },
     "metadata": {},
     "output_type": "display_data"
    }
   ],
   "source": [
    "fis"
   ]
  },
  {
   "cell_type": "code",
   "execution_count": 49,
   "metadata": {},
   "outputs": [],
   "source": [
    "saveRDS(object = fis, file = \"../data/fi_sis.rds\")"
   ]
  },
  {
   "cell_type": "markdown",
   "metadata": {},
   "source": [
    "### 8) Baseline: univariable Cox"
   ]
  },
  {
   "cell_type": "code",
   "execution_count": 199,
   "metadata": {},
   "outputs": [],
   "source": [
    "#export\n",
    "get_formula = function(x) {as.formula(paste('Surv(survival_time, event)~',x))}"
   ]
  },
  {
   "cell_type": "code",
   "execution_count": 200,
   "metadata": {},
   "outputs": [],
   "source": [
    "#export\n",
    "get_cox = function(φ){\n",
    "    m = try(coxph(φ, data = df), silent = TRUE)\n",
    "    if (class(m) == \"try-error\") {\n",
    "        coxph(as.formula('Surv(survival_time, event)~NA1'), data = df)}\n",
    "    else{\n",
    "        coxph(φ, data = df)\n",
    "    }\n",
    "}"
   ]
  },
  {
   "cell_type": "code",
   "execution_count": 201,
   "metadata": {},
   "outputs": [],
   "source": [
    "#export\n",
    "get_p_val = function(m){summary(m)$coefficients[[5]]}"
   ]
  },
  {
   "cell_type": "code",
   "execution_count": 202,
   "metadata": {},
   "outputs": [],
   "source": [
    "#export\n",
    "cox_fi = function(df){\n",
    "    φs = sapply(colnames(df[3:ncol(df)]), get_formula)\n",
    "    ms = lapply(φs, get_cox)\n",
    "    πs = lapply(ms, get_p_val)\n",
    "    πs_adjusted = sort(p.adjust(p = πs, method = \"bonferroni\"))\n",
    "    πs_adjusted[πs_adjusted < 0.05]\n",
    "    }"
   ]
  },
  {
   "cell_type": "code",
   "execution_count": 203,
   "metadata": {},
   "outputs": [],
   "source": [
    "df = dfs[[6]]"
   ]
  },
  {
   "cell_type": "code",
   "execution_count": 205,
   "metadata": {},
   "outputs": [
    {
     "data": {
      "text/html": [
       "<style>\n",
       ".dl-inline {width: auto; margin:0; padding: 0}\n",
       ".dl-inline>dt, .dl-inline>dd {float: none; width: auto; display: inline-block}\n",
       ".dl-inline>dt::after {content: \":\\0020\"; padding-right: .5ex}\n",
       ".dl-inline>dt:not(:first-of-type) {padding-left: .5ex}\n",
       "</style><dl class=dl-inline><dt>NA45</dt><dd>0.000544340563874581</dd><dt>NDRG4</dt><dd>0.000661911506124024</dd></dl>\n"
      ],
      "text/latex": [
       "\\begin{description*}\n",
       "\\item[NA45] 0.000544340563874581\n",
       "\\item[NDRG4] 0.000661911506124024\n",
       "\\end{description*}\n"
      ],
      "text/markdown": [
       "NA45\n",
       ":   0.000544340563874581NDRG4\n",
       ":   0.000661911506124024\n",
       "\n"
      ],
      "text/plain": [
       "        NA45        NDRG4 \n",
       "0.0005443406 0.0006619115 "
      ]
     },
     "metadata": {},
     "output_type": "display_data"
    }
   ],
   "source": [
    "cox_fi(df[,1:100])"
   ]
  },
  {
   "cell_type": "markdown",
   "metadata": {},
   "source": [
    "### Feature selection for all methods and all datasets"
   ]
  },
  {
   "cell_type": "markdown",
   "metadata": {},
   "source": [
    "#### For NKI and TCGA, for mrmr_fi, pre-filtering with variance threshold = 0.75 was done."
   ]
  },
  {
   "cell_type": "code",
   "execution_count": 38,
   "metadata": {},
   "outputs": [],
   "source": [
    "var_filter = function(df, thresh){\n",
    "    df_var = sapply(df[3:ncol(df)], var)\n",
    "    cols = names(df_var[df_var > thresh])\n",
    "    df[,c(\"survival_time\", \"event\",cols)]\n",
    "}"
   ]
  },
  {
   "cell_type": "code",
   "execution_count": 12,
   "metadata": {},
   "outputs": [
    {
     "data": {
      "text/html": [
       "<style>\n",
       ".list-inline {list-style: none; margin:0; padding: 0}\n",
       ".list-inline>li {display: inline-block}\n",
       ".list-inline>li:not(:last-child)::after {content: \"\\00b7\"; padding: 0 .5ex}\n",
       "</style>\n",
       "<ol class=list-inline><li>'METABRIC'</li><li>'GSE11121'</li><li>'GSE96058'</li><li>'GSE7390'</li><li>'GSE9893'</li><li>'NKI'</li><li>'TCGA'</li><li>'GSE4922'</li></ol>\n"
      ],
      "text/latex": [
       "\\begin{enumerate*}\n",
       "\\item 'METABRIC'\n",
       "\\item 'GSE11121'\n",
       "\\item 'GSE96058'\n",
       "\\item 'GSE7390'\n",
       "\\item 'GSE9893'\n",
       "\\item 'NKI'\n",
       "\\item 'TCGA'\n",
       "\\item 'GSE4922'\n",
       "\\end{enumerate*}\n"
      ],
      "text/markdown": [
       "1. 'METABRIC'\n",
       "2. 'GSE11121'\n",
       "3. 'GSE96058'\n",
       "4. 'GSE7390'\n",
       "5. 'GSE9893'\n",
       "6. 'NKI'\n",
       "7. 'TCGA'\n",
       "8. 'GSE4922'\n",
       "\n",
       "\n"
      ],
      "text/plain": [
       "[1] \"METABRIC\" \"GSE11121\" \"GSE96058\" \"GSE7390\"  \"GSE9893\"  \"NKI\"      \"TCGA\"    \n",
       "[8] \"GSE4922\" "
      ]
     },
     "metadata": {},
     "output_type": "display_data"
    }
   ],
   "source": [
    "names(dfs)"
   ]
  },
  {
   "cell_type": "code",
   "execution_count": 10,
   "metadata": {},
   "outputs": [],
   "source": [
    "feature_selections = readRDS(\"../data/feature_selections.rds\")"
   ]
  },
  {
   "cell_type": "code",
   "execution_count": 21,
   "metadata": {},
   "outputs": [],
   "source": [
    "df = dfs[[7]]"
   ]
  },
  {
   "cell_type": "code",
   "execution_count": 22,
   "metadata": {},
   "outputs": [
    {
     "data": {
      "text/html": [
       "<style>\n",
       ".list-inline {list-style: none; margin:0; padding: 0}\n",
       ".list-inline>li {display: inline-block}\n",
       ".list-inline>li:not(:last-child)::after {content: \"\\00b7\"; padding: 0 .5ex}\n",
       "</style>\n",
       "<ol class=list-inline><li>169</li><li>38141</li></ol>\n"
      ],
      "text/latex": [
       "\\begin{enumerate*}\n",
       "\\item 169\n",
       "\\item 38141\n",
       "\\end{enumerate*}\n"
      ],
      "text/markdown": [
       "1. 169\n",
       "2. 38141\n",
       "\n",
       "\n"
      ],
      "text/plain": [
       "[1]   169 38141"
      ]
     },
     "metadata": {},
     "output_type": "display_data"
    }
   ],
   "source": [
    "dim(df)"
   ]
  },
  {
   "cell_type": "code",
   "execution_count": 39,
   "metadata": {},
   "outputs": [
    {
     "data": {
      "text/html": [
       "<style>\n",
       ".list-inline {list-style: none; margin:0; padding: 0}\n",
       ".list-inline>li {display: inline-block}\n",
       ".list-inline>li:not(:last-child)::after {content: \"\\00b7\"; padding: 0 .5ex}\n",
       "</style>\n",
       "<ol class=list-inline><li>169</li><li>27357</li></ol>\n"
      ],
      "text/latex": [
       "\\begin{enumerate*}\n",
       "\\item 169\n",
       "\\item 27357\n",
       "\\end{enumerate*}\n"
      ],
      "text/markdown": [
       "1. 169\n",
       "2. 27357\n",
       "\n",
       "\n"
      ],
      "text/plain": [
       "[1]   169 27357"
      ]
     },
     "metadata": {},
     "output_type": "display_data"
    }
   ],
   "source": [
    "df = var_filter(dfs[[7]], 0.75)\n",
    "dim(df)"
   ]
  },
  {
   "cell_type": "code",
   "execution_count": 40,
   "metadata": {},
   "outputs": [],
   "source": [
    "fs = mrmr_fi(df)"
   ]
  },
  {
   "cell_type": "code",
   "execution_count": 41,
   "metadata": {},
   "outputs": [
    {
     "data": {
      "text/html": [
       "<style>\n",
       ".list-inline {list-style: none; margin:0; padding: 0}\n",
       ".list-inline>li {display: inline-block}\n",
       ".list-inline>li:not(:last-child)::after {content: \"\\00b7\"; padding: 0 .5ex}\n",
       "</style>\n",
       "<ol class=list-inline><li>'TRPV3'</li><li>'GALNTL6'</li><li>'TMEM225B'</li><li>'TUSC8'</li><li>'AC1048251'</li><li>'ITIH6'</li><li>'LRRC37A6P'</li><li>'RF0001930'</li><li>'TCERG1L'</li><li>'GALNT16'</li><li>'ADAMTS3'</li><li>'SLC7A4'</li><li>'C1QL1'</li><li>'CEP170P1'</li><li>'AL1617161'</li><li>'AC0237902'</li><li>'AC0055321'</li><li>'BRINP1'</li><li>'TRAJ7'</li><li>'ENPP3'</li></ol>\n"
      ],
      "text/latex": [
       "\\begin{enumerate*}\n",
       "\\item 'TRPV3'\n",
       "\\item 'GALNTL6'\n",
       "\\item 'TMEM225B'\n",
       "\\item 'TUSC8'\n",
       "\\item 'AC1048251'\n",
       "\\item 'ITIH6'\n",
       "\\item 'LRRC37A6P'\n",
       "\\item 'RF0001930'\n",
       "\\item 'TCERG1L'\n",
       "\\item 'GALNT16'\n",
       "\\item 'ADAMTS3'\n",
       "\\item 'SLC7A4'\n",
       "\\item 'C1QL1'\n",
       "\\item 'CEP170P1'\n",
       "\\item 'AL1617161'\n",
       "\\item 'AC0237902'\n",
       "\\item 'AC0055321'\n",
       "\\item 'BRINP1'\n",
       "\\item 'TRAJ7'\n",
       "\\item 'ENPP3'\n",
       "\\end{enumerate*}\n"
      ],
      "text/markdown": [
       "1. 'TRPV3'\n",
       "2. 'GALNTL6'\n",
       "3. 'TMEM225B'\n",
       "4. 'TUSC8'\n",
       "5. 'AC1048251'\n",
       "6. 'ITIH6'\n",
       "7. 'LRRC37A6P'\n",
       "8. 'RF0001930'\n",
       "9. 'TCERG1L'\n",
       "10. 'GALNT16'\n",
       "11. 'ADAMTS3'\n",
       "12. 'SLC7A4'\n",
       "13. 'C1QL1'\n",
       "14. 'CEP170P1'\n",
       "15. 'AL1617161'\n",
       "16. 'AC0237902'\n",
       "17. 'AC0055321'\n",
       "18. 'BRINP1'\n",
       "19. 'TRAJ7'\n",
       "20. 'ENPP3'\n",
       "\n",
       "\n"
      ],
      "text/plain": [
       " [1] \"TRPV3\"     \"GALNTL6\"   \"TMEM225B\"  \"TUSC8\"     \"AC1048251\" \"ITIH6\"    \n",
       " [7] \"LRRC37A6P\" \"RF0001930\" \"TCERG1L\"   \"GALNT16\"   \"ADAMTS3\"   \"SLC7A4\"   \n",
       "[13] \"C1QL1\"     \"CEP170P1\"  \"AL1617161\" \"AC0237902\" \"AC0055321\" \"BRINP1\"   \n",
       "[19] \"TRAJ7\"     \"ENPP3\"    "
      ]
     },
     "metadata": {},
     "output_type": "display_data"
    }
   ],
   "source": [
    "fs"
   ]
  },
  {
   "cell_type": "code",
   "execution_count": 42,
   "metadata": {},
   "outputs": [],
   "source": [
    "feature_selections[[6,7]] = list(fs)"
   ]
  },
  {
   "cell_type": "code",
   "execution_count": 43,
   "metadata": {},
   "outputs": [],
   "source": [
    "saveRDS(feature_selections, file = \"../data/feature_selections.rds\")"
   ]
  },
  {
   "cell_type": "markdown",
   "metadata": {},
   "source": [
    "#### rfsrc separately "
   ]
  },
  {
   "cell_type": "code",
   "execution_count": 279,
   "metadata": {},
   "outputs": [],
   "source": [
    "feature_selections = readRDS(\"../data/feature_selections.rds\")"
   ]
  },
  {
   "cell_type": "markdown",
   "metadata": {},
   "source": [
    "#### GSE11121, 'GSE7390', 'GSE9893', 'NKI', 'TCGA', 'GSE4922':\n",
    "    m = rfsrc(φ, data = df, \n",
    "              ntree=10, \n",
    "              nsplit = 10, \n",
    "              mtry = sqrt((dim(df)[2]-2)), \n",
    "              nodesize = 3,\n",
    "              conservative = \"low\",#c(\"medium\", \"low\", \"high\"),\n",
    "              importance = T)"
   ]
  },
  {
   "cell_type": "code",
   "execution_count": 255,
   "metadata": {},
   "outputs": [],
   "source": [
    "rsf_fi = function(df, method){\n",
    "    φ = as.formula(Surv(survival_time, event)~.)\n",
    "    m = rfsrc(φ, data = df, \n",
    "              ntree=1000, \n",
    "              nsplit = 10, \n",
    "              mtry = sqrt((dim(df)[2]-2)), \n",
    "              nodesize = 3,\n",
    "              conservative = \"low\",#c(\"medium\", \"low\", \"high\")\n",
    "              importance = \"permute\")\n",
    "    vars_selected  = var.select(object = m, method = method, verbose = F,\n",
    "                               fast=TRUE)\n",
    "    vars_selected$topvars\n",
    "}"
   ]
  },
  {
   "cell_type": "code",
   "execution_count": 262,
   "metadata": {},
   "outputs": [
    {
     "name": "stdout",
     "output_type": "stream",
     "text": [
      "[1] 683 620\n",
      "[1] 1\n",
      "[1] 120 487\n",
      "[1] 1\n",
      "[1] 1102 6191\n",
      "[1] 1\n",
      "[1] 134 798\n",
      "[1] 1\n",
      "[1]   86 3489\n",
      "[1] 1\n",
      "[1] 179   2\n"
     ]
    },
    {
     "ename": "ERROR",
     "evalue": "Error in rfsrc(φ, data = df, ntree = 1000, nsplit = 10, mtry = sqrt((dim(df)[2] - : something seems wrong: your formula did not define any x-variables\n",
     "output_type": "error",
     "traceback": [
      "Error in rfsrc(φ, data = df, ntree = 1000, nsplit = 10, mtry = sqrt((dim(df)[2] - : something seems wrong: your formula did not define any x-variables\nTraceback:\n",
      "1. rsf_fi(df, method = \"vh\")",
      "2. rfsrc(φ, data = df, ntree = 1000, nsplit = 10, mtry = sqrt((dim(df)[2] - \n .     2)), nodesize = 3, conservative = \"low\", importance = \"permute\")   # at line 3-9 of file <text>",
      "3. stop(\"something seems wrong: your formula did not define any x-variables\")"
     ]
    }
   ],
   "source": [
    "for (i in 1:8){\n",
    "    df = var_filter(dfs[[i]], 0.75)\n",
    "    print(dim(df))\n",
    "    feature_selections[[4,i]] = list(rsf_fi(df, method = \"vh\"))\n",
    "    saveRDS(feature_selections, file = \"../data/feature_selections.rds\")\n",
    "    print(length(feature_selections[[4,i]]))\n",
    "}"
   ]
  },
  {
   "cell_type": "code",
   "execution_count": 281,
   "metadata": {},
   "outputs": [],
   "source": [
    "saveRDS(feature_selections, file = \"../data/feature_selections.rds\")"
   ]
  },
  {
   "cell_type": "code",
   "execution_count": 249,
   "metadata": {},
   "outputs": [],
   "source": [
    "#export\n",
    "rsf_vi_fi = purrr::partial(rsf_fi, method = \"vh.vimp\")\n",
    "rsf_md_fi = purrr::partial(rsf_fi, method = \"md\")     \n",
    "rsf_vh_fi = purrr::partial(rsf_fi, method = \"vh\")     "
   ]
  },
  {
   "cell_type": "code",
   "execution_count": 255,
   "metadata": {},
   "outputs": [],
   "source": [
    "#export\n",
    "FI = list(\n",
    "    cox_fi     = cox_fi     ,\n",
    "    rsf_vi_fi  = rsf_vi_fi  ,\n",
    "    rsf_md_fi  = rsf_md_fi  ,\n",
    "    rsf_vh_fi  = rsf_vh_fi  ,\n",
    "    msrs_rf_fi = msrs_rf_fi ,\n",
    "    mrmr_fi    = mrmr_fi    ,\n",
    "    sfbs_fi    = sfbs_fi    ,\n",
    "    sis_fi     = sis_fi     \n",
    ")"
   ]
  },
  {
   "cell_type": "code",
   "execution_count": 256,
   "metadata": {},
   "outputs": [],
   "source": [
    "df = dfs[[1]]\n",
    "df = df[,1:100]"
   ]
  },
  {
   "cell_type": "code",
   "execution_count": 257,
   "metadata": {
    "scrolled": true
   },
   "outputs": [
    {
     "data": {
      "text/html": [
       "<style>\n",
       ".dl-inline {width: auto; margin:0; padding: 0}\n",
       ".dl-inline>dt, .dl-inline>dd {float: none; width: auto; display: inline-block}\n",
       ".dl-inline>dt::after {content: \":\\0020\"; padding-right: .5ex}\n",
       ".dl-inline>dt:not(:first-of-type) {padding-left: .5ex}\n",
       "</style><dl class=dl-inline><dt>CCNE2</dt><dd>1.00889846962927e-08</dd><dt>GAPDH</dt><dd>7.27932935644705e-07</dd><dt>HNRNPAB</dt><dd>1.51930325528549e-06</dd><dt>CDT1</dt><dd>1.8669405695861e-05</dd><dt>AUP1</dt><dd>0.00366006485582966</dd><dt>COL17A1</dt><dd>0.00381312111075631</dd><dt>EEF1A1</dt><dd>0.0173267609294218</dd><dt>IPO13</dt><dd>0.0392746474300918</dd></dl>\n"
      ],
      "text/latex": [
       "\\begin{description*}\n",
       "\\item[CCNE2] 1.00889846962927e-08\n",
       "\\item[GAPDH] 7.27932935644705e-07\n",
       "\\item[HNRNPAB] 1.51930325528549e-06\n",
       "\\item[CDT1] 1.8669405695861e-05\n",
       "\\item[AUP1] 0.00366006485582966\n",
       "\\item[COL17A1] 0.00381312111075631\n",
       "\\item[EEF1A1] 0.0173267609294218\n",
       "\\item[IPO13] 0.0392746474300918\n",
       "\\end{description*}\n"
      ],
      "text/markdown": [
       "CCNE2\n",
       ":   1.00889846962927e-08GAPDH\n",
       ":   7.27932935644705e-07HNRNPAB\n",
       ":   1.51930325528549e-06CDT1\n",
       ":   1.8669405695861e-05AUP1\n",
       ":   0.00366006485582966COL17A1\n",
       ":   0.00381312111075631EEF1A1\n",
       ":   0.0173267609294218IPO13\n",
       ":   0.0392746474300918\n",
       "\n"
      ],
      "text/plain": [
       "       CCNE2        GAPDH      HNRNPAB         CDT1         AUP1      COL17A1 \n",
       "1.008898e-08 7.279329e-07 1.519303e-06 1.866941e-05 3.660065e-03 3.813121e-03 \n",
       "      EEF1A1        IPO13 \n",
       "1.732676e-02 3.927465e-02 "
      ]
     },
     "metadata": {},
     "output_type": "display_data"
    }
   ],
   "source": [
    "FI[[1]](df)"
   ]
  },
  {
   "cell_type": "markdown",
   "metadata": {},
   "source": [
    "#### Main loop"
   ]
  },
  {
   "cell_type": "code",
   "execution_count": 68,
   "metadata": {},
   "outputs": [],
   "source": [
    "methods =  c(\"Univariable_cox_filter\",\n",
    "             \"RSF_variable_importance\", \"RSF_minimal_depth\", \"RSF_variable_hunting\",\n",
    "             \"MSRS_RF_variable_importance\", \"mRMR\", \"Sequential_selection\", \"SIS\"\n",
    "            )"
   ]
  },
  {
   "cell_type": "code",
   "execution_count": 231,
   "metadata": {},
   "outputs": [],
   "source": [
    "feature_selections = tibble(\n",
    "    METABRIC = list(NA,NA,NA,NA,NA,NA,NA,NA,NA),\n",
    "    GSE11121 = list(NA,NA,NA,NA,NA,NA,NA,NA,NA),\n",
    "    GSE96058 = list(NA,NA,NA,NA,NA,NA,NA,NA,NA),\n",
    "    GSE7390  = list(NA,NA,NA,NA,NA,NA,NA,NA,NA),\n",
    "    GSE9893  = list(NA,NA,NA,NA,NA,NA,NA,NA,NA),\n",
    "    NKI      = list(NA,NA,NA,NA,NA,NA,NA,NA,NA),\n",
    "    TCGA     = list(NA,NA,NA,NA,NA,NA,NA,NA,NA),\n",
    "    GSE4922  = list(NA,NA,NA,NA,NA,NA,NA,NA,NA)\n",
    ")\n",
    "rownames(feature_selections) = methods"
   ]
  },
  {
   "cell_type": "code",
   "execution_count": 232,
   "metadata": {},
   "outputs": [
    {
     "name": "stdout",
     "output_type": "stream",
     "text": [
      "Processing METABRIC\r"
     ]
    },
    {
     "ename": "ERROR",
     "evalue": "Error: Subsetting can not be done on a ‘list’; only to an environment: ‘feature_selections[[1, i]]’\n",
     "output_type": "error",
     "traceback": [
      "Error: Subsetting can not be done on a ‘list’; only to an environment: ‘feature_selections[[1, i]]’\nTraceback:\n",
      "1. feature_selections[[1, i]] %<-% list(cox_fi(df))",
      "2. futureAssignInternal(target, expr, envir = envir, substitute = FALSE)",
      "3. parse_env_subset(target, envir = envir, substitute = substitute)",
      "4. stopf(\"Subsetting can not be done on a %s; only to an environment: %s\", \n .     sQuote(mode(obj)), sQuote(code), call. = FALSE)",
      "5. stop(sprintf(fmt, ...), call. = call., domain = domain)"
     ]
    }
   ],
   "source": [
    "for (i in 1:length(dfs)){\n",
    "    df = dfs[[i]]\n",
    "    df = df[,1:10]\n",
    "\n",
    "    cat(paste0('Processing ', names(dfs)[i],'\\r'))\n",
    "    \n",
    "    feature_selections[[1,i]] = list(cox_fi(df)                    )\n",
    "    feature_selections[[2,i]] = list(rsf_fi(df, method = \"vh.vimp\"))\n",
    "    feature_selections[[3,i]] = list(rsf_fi(df, method = \"md\")     ) \n",
    "    feature_selections[[4,i]] = list(rsf_fi(df, method = \"vh\")     ) \n",
    "    feature_selections[[5,i]] = list(msrs_rf_fi(df)                ) \n",
    "    feature_selections[[6,i]] = list(mrmr_fi(df)                   )\n",
    "    feature_selections[[7,i]] = list(sfbs_fi(df)                   )\n",
    "    feature_selections[[8,i]] = list(sis_fi(df)                    )\n",
    "}"
   ]
  },
  {
   "cell_type": "code",
   "execution_count": 228,
   "metadata": {},
   "outputs": [
    {
     "data": {
      "text/html": [
       "<table class=\"dataframe\">\n",
       "<caption>A tibble: 9 × 8</caption>\n",
       "<thead>\n",
       "\t<tr><th scope=col>METABRIC</th><th scope=col>GSE11121</th><th scope=col>GSE96058</th><th scope=col>GSE7390</th><th scope=col>GSE9893</th><th scope=col>NKI</th><th scope=col>TCGA</th><th scope=col>GSE4922</th></tr>\n",
       "\t<tr><th scope=col>&lt;list&gt;</th><th scope=col>&lt;list&gt;</th><th scope=col>&lt;list&gt;</th><th scope=col>&lt;list&gt;</th><th scope=col>&lt;list&gt;</th><th scope=col>&lt;list&gt;</th><th scope=col>&lt;list&gt;</th><th scope=col>&lt;list&gt;</th></tr>\n",
       "</thead>\n",
       "<tbody>\n",
       "\t<tr><td>5.942310e-08, 1.414429e-03, 3.206094e-03, 6.507428e-03, 1.635911e-02</td><td></td><td></td><td></td><td></td><td>0.02044616</td><td></td><td></td></tr>\n",
       "\t<tr><td>EEF1A1, RPS28 </td><td>AAAS, A2M </td><td>A1BG, A1CF</td><td>AAAS , AAGAB</td><td>RRM1, SLK </td><td>GREM2, SUHW2</td><td>C1orf112, TSPAN6  </td><td>A2M   , A4GALT</td></tr>\n",
       "\t<tr><td>GAPDH   , EEF1A1  , RPS28   , EFCAB1  , IPO13   , FAM86FP , SLC35E2A, PRSS41  </td><td>A4GALT, AAAS  , A2M   , AAGAB , AADAC , A1CF  </td><td>A2MAS1 , A2ML1  , A2M    , A1BG   , A3GALT2, A1BGAS1, A2MP1  , A1CF   </td><td>AAAS  , A4GNT , A2M   , AAGAB , A4GALT, AADAC , A1CF  </td><td>SLK   , GZMK  , UBN1  , RRM1  , MAGEE1, FRK   </td><td>SCARA5, GREM2 , SUHW2 , FGB   , NA2   , RAC1  , 39    , NA1   </td><td>CFH     , TSPAN6  , FGR     , C1orf112, DPM1    , FUCA2   </td><td>AACS  , A4GALT, A4GNT , AAAS  </td></tr>\n",
       "\t<tr><td>SLC35E2A, EFCAB1  </td><td>AADAC, AAAS </td><td>A2MP1  , A1BGAS1</td><td>A2M  , A4GNT</td><td>FRK , RRM1</td><td>39    , SCARA5</td><td>SCYL3   , C1orf112</td><td>A4GNT , A4GALT</td></tr>\n",
       "\t<tr><td>0.0284710795, 0.0103151630, 0.0079912261, 0.0066661709, 0.0017185105, 0.0006626312, -0.0008261443, -0.0016522565, NA, NA, NA, NA, NA, NA, NA, NA, NA, NA, NA, NA, NA, NA, NA, NA, NA, NA, NA, NA, NA, NA, NA, NA, NA, NA, NA, NA, NA, NA, NA, NA, NA, NA, NA, NA, NA, NA, NA, NA, NA, NA, NA, NA, NA, NA, NA, NA, NA, NA, NA, NA, NA, NA, NA, NA, NA, NA, NA, NA, NA, NA, NA, NA, NA, NA, NA, NA, NA, NA, NA, NA, NA, NA, NA, NA, NA, NA, NA, NA, NA, NA, NA, NA, NA, NA, NA, NA, NA, NA, NA, NA, NA, NA, NA, NA, NA, NA, NA, NA, NA, NA, NA, NA, NA, NA, NA, NA, NA, NA, NA, NA, NA, NA, NA, NA, NA, NA, NA, NA, NA, NA, NA, NA, NA, NA, NA, NA, NA, NA, NA, NA, NA, NA, NA, NA, NA, NA, NA, NA, NA, NA, NA, NA, NA, NA, NA, NA, NA, NA, NA, NA, NA, NA, NA, NA, NA, NA, NA, NA, NA, NA, NA, NA, NA, NA, NA, NA, NA, NA, NA, NA, NA, NA, NA, NA, NA, NA, NA, NA, NA, NA, NA, NA, NA, NA, NA, NA, NA, NA, NA, NA</td><td>1.917200e-02, 6.442290e-03, 3.527713e-03, 1.862265e-03, 6.000563e-04, -1.683833e-05, -4.799272e-03, -5.081845e-03, NA, NA, NA, NA, NA, NA, NA, NA, NA, NA, NA, NA, NA, NA, NA, NA, NA, NA, NA, NA, NA, NA, NA, NA, NA, NA, NA, NA, NA, NA, NA, NA, NA, NA, NA, NA, NA, NA, NA, NA, NA, NA, NA, NA, NA, NA, NA, NA, NA, NA, NA, NA, NA, NA, NA, NA, NA, NA, NA, NA, NA, NA, NA, NA, NA, NA, NA, NA, NA, NA, NA, NA, NA, NA, NA, NA, NA, NA, NA, NA, NA, NA, NA, NA, NA, NA, NA, NA, NA, NA, NA, NA, NA, NA, NA, NA, NA, NA, NA, NA, NA, NA, NA, NA, NA, NA, NA, NA, NA, NA, NA, NA, NA, NA, NA, NA, NA, NA, NA, NA, NA, NA, NA, NA, NA, NA, NA, NA, NA, NA, NA, NA, NA, NA, NA, NA, NA, NA, NA, NA, NA, NA, NA, NA, NA, NA, NA, NA, NA, NA, NA, NA, NA, NA, NA, NA, NA, NA, NA, NA, NA, NA, NA, NA, NA, NA, NA, NA, NA, NA, NA, NA, NA, NA, NA, NA, NA, NA, NA, NA, NA, NA, NA, NA, NA, NA, NA, NA, NA, NA, NA, NA</td><td>0.0171934695, 0.0067665393, 0.0018198010, 0.0013261353, 0.0007693522, -0.0007945677, -0.0021641382, -0.0042535108, NA, NA, NA, NA, NA, NA, NA, NA, NA, NA, NA, NA, NA, NA, NA, NA, NA, NA, NA, NA, NA, NA, NA, NA, NA, NA, NA, NA, NA, NA, NA, NA, NA, NA, NA, NA, NA, NA, NA, NA, NA, NA, NA, NA, NA, NA, NA, NA, NA, NA, NA, NA, NA, NA, NA, NA, NA, NA, NA, NA, NA, NA, NA, NA, NA, NA, NA, NA, NA, NA, NA, NA, NA, NA, NA, NA, NA, NA, NA, NA, NA, NA, NA, NA, NA, NA, NA, NA, NA, NA, NA, NA, NA, NA, NA, NA, NA, NA, NA, NA, NA, NA, NA, NA, NA, NA, NA, NA, NA, NA, NA, NA, NA, NA, NA, NA, NA, NA, NA, NA, NA, NA, NA, NA, NA, NA, NA, NA, NA, NA, NA, NA, NA, NA, NA, NA, NA, NA, NA, NA, NA, NA, NA, NA, NA, NA, NA, NA, NA, NA, NA, NA, NA, NA, NA, NA, NA, NA, NA, NA, NA, NA, NA, NA, NA, NA, NA, NA, NA, NA, NA, NA, NA, NA, NA, NA, NA, NA, NA, NA, NA, NA, NA, NA, NA, NA, NA, NA, NA, NA, NA, NA</td><td>0.0061383549, 0.0053188327, 0.0030106810, 0.0023756392, -0.0001742927, -0.0006423078, -0.0010880361, -0.0016418240, NA, NA, NA, NA, NA, NA, NA, NA, NA, NA, NA, NA, NA, NA, NA, NA, NA, NA, NA, NA, NA, NA, NA, NA, NA, NA, NA, NA, NA, NA, NA, NA, NA, NA, NA, NA, NA, NA, NA, NA, NA, NA, NA, NA, NA, NA, NA, NA, NA, NA, NA, NA, NA, NA, NA, NA, NA, NA, NA, NA, NA, NA, NA, NA, NA, NA, NA, NA, NA, NA, NA, NA, NA, NA, NA, NA, NA, NA, NA, NA, NA, NA, NA, NA, NA, NA, NA, NA, NA, NA, NA, NA, NA, NA, NA, NA, NA, NA, NA, NA, NA, NA, NA, NA, NA, NA, NA, NA, NA, NA, NA, NA, NA, NA, NA, NA, NA, NA, NA, NA, NA, NA, NA, NA, NA, NA, NA, NA, NA, NA, NA, NA, NA, NA, NA, NA, NA, NA, NA, NA, NA, NA, NA, NA, NA, NA, NA, NA, NA, NA, NA, NA, NA, NA, NA, NA, NA, NA, NA, NA, NA, NA, NA, NA, NA, NA, NA, NA, NA, NA, NA, NA, NA, NA, NA, NA, NA, NA, NA, NA, NA, NA, NA, NA, NA, NA, NA, NA, NA, NA, NA, NA</td><td>0.0064663478, 0.0031084321, 0.0023449380, 0.0001446229, -0.0003021753, -0.0009966839, -0.0024012935, -0.0036003214, NA, NA, NA, NA, NA, NA, NA, NA, NA, NA, NA, NA, NA, NA, NA, NA, NA, NA, NA, NA, NA, NA, NA, NA, NA, NA, NA, NA, NA, NA, NA, NA, NA, NA, NA, NA, NA, NA, NA, NA, NA, NA, NA, NA, NA, NA, NA, NA, NA, NA, NA, NA, NA, NA, NA, NA, NA, NA, NA, NA, NA, NA, NA, NA, NA, NA, NA, NA, NA, NA, NA, NA, NA, NA, NA, NA, NA, NA, NA, NA, NA, NA, NA, NA, NA, NA, NA, NA, NA, NA, NA, NA, NA, NA, NA, NA, NA, NA, NA, NA, NA, NA, NA, NA, NA, NA, NA, NA, NA, NA, NA, NA, NA, NA, NA, NA, NA, NA, NA, NA, NA, NA, NA, NA, NA, NA, NA, NA, NA, NA, NA, NA, NA, NA, NA, NA, NA, NA, NA, NA, NA, NA, NA, NA, NA, NA, NA, NA, NA, NA, NA, NA, NA, NA, NA, NA, NA, NA, NA, NA, NA, NA, NA, NA, NA, NA, NA, NA, NA, NA, NA, NA, NA, NA, NA, NA, NA, NA, NA, NA, NA, NA, NA, NA, NA, NA, NA, NA, NA, NA, NA, NA</td><td>0.0280879035, 0.0088925282, 0.0035696601, 0.0026808322, 0.0004405421, -0.0010105883, -0.0017142906, -0.0028388344, NA, NA, NA, NA, NA, NA, NA, NA, NA, NA, NA, NA, NA, NA, NA, NA, NA, NA, NA, NA, NA, NA, NA, NA, NA, NA, NA, NA, NA, NA, NA, NA, NA, NA, NA, NA, NA, NA, NA, NA, NA, NA, NA, NA, NA, NA, NA, NA, NA, NA, NA, NA, NA, NA, NA, NA, NA, NA, NA, NA, NA, NA, NA, NA, NA, NA, NA, NA, NA, NA, NA, NA, NA, NA, NA, NA, NA, NA, NA, NA, NA, NA, NA, NA, NA, NA, NA, NA, NA, NA, NA, NA, NA, NA, NA, NA, NA, NA, NA, NA, NA, NA, NA, NA, NA, NA, NA, NA, NA, NA, NA, NA, NA, NA, NA, NA, NA, NA, NA, NA, NA, NA, NA, NA, NA, NA, NA, NA, NA, NA, NA, NA, NA, NA, NA, NA, NA, NA, NA, NA, NA, NA, NA, NA, NA, NA, NA, NA, NA, NA, NA, NA, NA, NA, NA, NA, NA, NA, NA, NA, NA, NA, NA, NA, NA, NA, NA, NA, NA, NA, NA, NA, NA, NA, NA, NA, NA, NA, NA, NA, NA, NA, NA, NA, NA, NA, NA, NA, NA, NA, NA, NA</td><td>1.386722e-03, -3.169497e-05, -1.454768e-03, -1.981580e-03, -2.382248e-03, -2.796863e-03, -3.029928e-03, -3.161323e-03, NA, NA, NA, NA, NA, NA, NA, NA, NA, NA, NA, NA, NA, NA, NA, NA, NA, NA, NA, NA, NA, NA, NA, NA, NA, NA, NA, NA, NA, NA, NA, NA, NA, NA, NA, NA, NA, NA, NA, NA, NA, NA, NA, NA, NA, NA, NA, NA, NA, NA, NA, NA, NA, NA, NA, NA, NA, NA, NA, NA, NA, NA, NA, NA, NA, NA, NA, NA, NA, NA, NA, NA, NA, NA, NA, NA, NA, NA, NA, NA, NA, NA, NA, NA, NA, NA, NA, NA, NA, NA, NA, NA, NA, NA, NA, NA, NA, NA, NA, NA, NA, NA, NA, NA, NA, NA, NA, NA, NA, NA, NA, NA, NA, NA, NA, NA, NA, NA, NA, NA, NA, NA, NA, NA, NA, NA, NA, NA, NA, NA, NA, NA, NA, NA, NA, NA, NA, NA, NA, NA, NA, NA, NA, NA, NA, NA, NA, NA, NA, NA, NA, NA, NA, NA, NA, NA, NA, NA, NA, NA, NA, NA, NA, NA, NA, NA, NA, NA, NA, NA, NA, NA, NA, NA, NA, NA, NA, NA, NA, NA, NA, NA, NA, NA, NA, NA, NA, NA, NA, NA, NA, NA</td><td>2.085775e-02, 7.497833e-03, 3.860348e-03, -2.488722e-05, -9.904943e-04, -2.336990e-03, -2.746563e-03, -6.452683e-03, NA, NA, NA, NA, NA, NA, NA, NA, NA, NA, NA, NA, NA, NA, NA, NA, NA, NA, NA, NA, NA, NA, NA, NA, NA, NA, NA, NA, NA, NA, NA, NA, NA, NA, NA, NA, NA, NA, NA, NA, NA, NA, NA, NA, NA, NA, NA, NA, NA, NA, NA, NA, NA, NA, NA, NA, NA, NA, NA, NA, NA, NA, NA, NA, NA, NA, NA, NA, NA, NA, NA, NA, NA, NA, NA, NA, NA, NA, NA, NA, NA, NA, NA, NA, NA, NA, NA, NA, NA, NA, NA, NA, NA, NA, NA, NA, NA, NA, NA, NA, NA, NA, NA, NA, NA, NA, NA, NA, NA, NA, NA, NA, NA, NA, NA, NA, NA, NA, NA, NA, NA, NA, NA, NA, NA, NA, NA, NA, NA, NA, NA, NA, NA, NA, NA, NA, NA, NA, NA, NA, NA, NA, NA, NA, NA, NA, NA, NA, NA, NA, NA, NA, NA, NA, NA, NA, NA, NA, NA, NA, NA, NA, NA, NA, NA, NA, NA, NA, NA, NA, NA, NA, NA, NA, NA, NA, NA, NA, NA, NA, NA, NA, NA, NA, NA, NA, NA, NA, NA, NA, NA, NA</td></tr>\n",
       "\t<tr><td>GAPDH   , EEF1A1  , EFCAB1  , FAM86FP , PRSS41  , RPS28   , SLC35E2A, IPO13   , Surv    , Surv    , Surv    , Surv    , Surv    , Surv    , Surv    , Surv    , Surv    , Surv    , Surv    , Surv    </td><td>A2M   , A4GALT, AADAC , AAAS  , A4GNT , AAGAB , AACS  , A1CF  , Surv  , Surv  , Surv  , Surv  , Surv  , Surv  , Surv  , Surv  , Surv  , Surv  , Surv  , Surv  </td><td>A3GALT2, A2MP1  , A1CF   , A2MAS1 , A1BG   , A2ML1  , A2M    , A1BGAS1, Surv   , Surv   , Surv   , Surv   , Surv   , Surv   , Surv   , Surv   , Surv   , Surv   , Surv   , Surv   </td><td>A2M   , A4GNT , AAAS  , AACS  , AADAC , A4GALT, AAGAB , A1CF  , Surv  , Surv  , Surv  , Surv  , Surv  , Surv  , Surv  , Surv  , Surv  , Surv  , Surv  , Surv  </td><td>UBN1  , GZMK  , AOC3  , RRM1  , OR3A3 , FRK   , MAGEE1, SLK   , Surv  , Surv  , Surv  , Surv  , Surv  , Surv  , Surv  , Surv  , Surv  , Surv  , Surv  , Surv  </td><td>SCARA5, SUHW2 , RAC1  , FGB   , NA2   , GREM2 , 39    , NA1   , Surv  , Surv  , Surv  , Surv  , Surv  , Surv  , Surv  , Surv  , Surv  , Surv  , Surv  , Surv  </td><td>TSPAN6  , C1orf112, CFH     , FUCA2   , TNMD    , SCYL3   , FGR     , DPM1    , Surv    , Surv    , Surv    , Surv    , Surv    , Surv    , Surv    , Surv    , Surv    , Surv    , Surv    , Surv    </td><td>AACS   , A4GALT , A1CF82 , A2M    , AADAC  , AAAS   , AAGAB89, A4GNT  , Surv   , Surv   , Surv   , Surv   , Surv   , Surv   , Surv   , Surv   , Surv   , Surv   , Surv   , Surv   </td></tr>\n",
       "\t<tr><td>GAPDH  , EFCAB1 , RPS28  , IPO13  , FAM86FP</td><td>A2M   , A4GALT, AAAS  , AADAC </td><td>A2M   , A2MAS1, A2ML1 </td><td>A4GNT, AAAS </td><td>NULL</td><td>SCARA5</td><td>TSPAN6  , C1orf112, CFH     </td><td>AACS</td></tr>\n",
       "\t<tr><td>EEF1A1  , GAPDH   , SLC35E2A, EFCAB1  , RPS28   , IPO13   , FAM86FP </td><td>A2M   , A4GALT, AAAS  , AADAC </td><td>A2M   , A2MAS1, A2ML1 </td><td></td><td></td><td>SCARA5</td><td>TSPAN6  , C1orf112, CFH     </td><td></td></tr>\n",
       "\t<tr><td>NA</td><td>NA</td><td>NA</td><td>NA</td><td>NA</td><td>NA</td><td>NA</td><td>NA</td></tr>\n",
       "</tbody>\n",
       "</table>\n"
      ],
      "text/latex": [
       "A tibble: 9 × 8\n",
       "\\begin{tabular}{llllllll}\n",
       " METABRIC & GSE11121 & GSE96058 & GSE7390 & GSE9893 & NKI & TCGA & GSE4922\\\\\n",
       " <list> & <list> & <list> & <list> & <list> & <list> & <list> & <list>\\\\\n",
       "\\hline\n",
       "\t 5.942310e-08, 1.414429e-03, 3.206094e-03, 6.507428e-03, 1.635911e-02 &  &  &  &  & 0.02044616 &  & \\\\\n",
       "\t EEF1A1, RPS28  & AAAS, A2M  & A1BG, A1CF & AAAS , AAGAB & RRM1, SLK  & GREM2, SUHW2 & C1orf112, TSPAN6   & A2M   , A4GALT\\\\\n",
       "\t GAPDH   , EEF1A1  , RPS28   , EFCAB1  , IPO13   , FAM86FP , SLC35E2A, PRSS41   & A4GALT, AAAS  , A2M   , AAGAB , AADAC , A1CF   & A2MAS1 , A2ML1  , A2M    , A1BG   , A3GALT2, A1BGAS1, A2MP1  , A1CF    & AAAS  , A4GNT , A2M   , AAGAB , A4GALT, AADAC , A1CF   & SLK   , GZMK  , UBN1  , RRM1  , MAGEE1, FRK    & SCARA5, GREM2 , SUHW2 , FGB   , NA2   , RAC1  , 39    , NA1    & CFH     , TSPAN6  , FGR     , C1orf112, DPM1    , FUCA2    & AACS  , A4GALT, A4GNT , AAAS  \\\\\n",
       "\t SLC35E2A, EFCAB1   & AADAC, AAAS  & A2MP1  , A1BGAS1 & A2M  , A4GNT & FRK , RRM1 & 39    , SCARA5 & SCYL3   , C1orf112 & A4GNT , A4GALT\\\\\n",
       "\t 0.0284710795, 0.0103151630, 0.0079912261, 0.0066661709, 0.0017185105, 0.0006626312, -0.0008261443, -0.0016522565, NA, NA, NA, NA, NA, NA, NA, NA, NA, NA, NA, NA, NA, NA, NA, NA, NA, NA, NA, NA, NA, NA, NA, NA, NA, NA, NA, NA, NA, NA, NA, NA, NA, NA, NA, NA, NA, NA, NA, NA, NA, NA, NA, NA, NA, NA, NA, NA, NA, NA, NA, NA, NA, NA, NA, NA, NA, NA, NA, NA, NA, NA, NA, NA, NA, NA, NA, NA, NA, NA, NA, NA, NA, NA, NA, NA, NA, NA, NA, NA, NA, NA, NA, NA, NA, NA, NA, NA, NA, NA, NA, NA, NA, NA, NA, NA, NA, NA, NA, NA, NA, NA, NA, NA, NA, NA, NA, NA, NA, NA, NA, NA, NA, NA, NA, NA, NA, NA, NA, NA, NA, NA, NA, NA, NA, NA, NA, NA, NA, NA, NA, NA, NA, NA, NA, NA, NA, NA, NA, NA, NA, NA, NA, NA, NA, NA, NA, NA, NA, NA, NA, NA, NA, NA, NA, NA, NA, NA, NA, NA, NA, NA, NA, NA, NA, NA, NA, NA, NA, NA, NA, NA, NA, NA, NA, NA, NA, NA, NA, NA, NA, NA, NA, NA, NA, NA, NA, NA, NA, NA, NA, NA & 1.917200e-02, 6.442290e-03, 3.527713e-03, 1.862265e-03, 6.000563e-04, -1.683833e-05, -4.799272e-03, -5.081845e-03, NA, NA, NA, NA, NA, NA, NA, NA, NA, NA, NA, NA, NA, NA, NA, NA, NA, NA, NA, NA, NA, NA, NA, NA, NA, NA, NA, NA, NA, NA, NA, NA, NA, NA, NA, NA, NA, NA, NA, NA, NA, NA, NA, NA, NA, NA, NA, NA, NA, NA, NA, NA, NA, NA, NA, NA, NA, NA, NA, NA, NA, NA, NA, NA, NA, NA, NA, NA, NA, NA, NA, NA, NA, NA, NA, NA, NA, NA, NA, NA, NA, NA, NA, NA, NA, NA, NA, NA, NA, NA, NA, NA, NA, NA, NA, NA, NA, NA, NA, NA, NA, NA, NA, NA, NA, NA, NA, NA, NA, NA, NA, NA, NA, NA, NA, NA, NA, NA, NA, NA, NA, NA, NA, NA, NA, NA, NA, NA, NA, NA, NA, NA, NA, NA, NA, NA, NA, NA, NA, NA, NA, NA, NA, NA, NA, NA, NA, NA, NA, NA, NA, NA, NA, NA, NA, NA, NA, NA, NA, NA, NA, NA, NA, NA, NA, NA, NA, NA, NA, NA, NA, NA, NA, NA, NA, NA, NA, NA, NA, NA, NA, NA, NA, NA, NA, NA, NA, NA, NA, NA, NA, NA & 0.0171934695, 0.0067665393, 0.0018198010, 0.0013261353, 0.0007693522, -0.0007945677, -0.0021641382, -0.0042535108, NA, NA, NA, NA, NA, NA, NA, NA, NA, NA, NA, NA, NA, NA, NA, NA, NA, NA, NA, NA, NA, NA, NA, NA, NA, NA, NA, NA, NA, NA, NA, NA, NA, NA, NA, NA, NA, NA, NA, NA, NA, NA, NA, NA, NA, NA, NA, NA, NA, NA, NA, NA, NA, NA, NA, NA, NA, NA, NA, NA, NA, NA, NA, NA, NA, NA, NA, NA, NA, NA, NA, NA, NA, NA, NA, NA, NA, NA, NA, NA, NA, NA, NA, NA, NA, NA, NA, NA, NA, NA, NA, NA, NA, NA, NA, NA, NA, NA, NA, NA, NA, NA, NA, NA, NA, NA, NA, NA, NA, NA, NA, NA, NA, NA, NA, NA, NA, NA, NA, NA, NA, NA, NA, NA, NA, NA, NA, NA, NA, NA, NA, NA, NA, NA, NA, NA, NA, NA, NA, NA, NA, NA, NA, NA, NA, NA, NA, NA, NA, NA, NA, NA, NA, NA, NA, NA, NA, NA, NA, NA, NA, NA, NA, NA, NA, NA, NA, NA, NA, NA, NA, NA, NA, NA, NA, NA, NA, NA, NA, NA, NA, NA, NA, NA, NA, NA, NA, NA, NA, NA, NA, NA & 0.0061383549, 0.0053188327, 0.0030106810, 0.0023756392, -0.0001742927, -0.0006423078, -0.0010880361, -0.0016418240, NA, NA, NA, NA, NA, NA, NA, NA, NA, NA, NA, NA, NA, NA, NA, NA, NA, NA, NA, NA, NA, NA, NA, NA, NA, NA, NA, NA, NA, NA, NA, NA, NA, NA, NA, NA, NA, NA, NA, NA, NA, NA, NA, NA, NA, NA, NA, NA, NA, NA, NA, NA, NA, NA, NA, NA, NA, NA, NA, NA, NA, NA, NA, NA, NA, NA, NA, NA, NA, NA, NA, NA, NA, NA, NA, NA, NA, NA, NA, NA, NA, NA, NA, NA, NA, NA, NA, NA, NA, NA, NA, NA, NA, NA, NA, NA, NA, NA, NA, NA, NA, NA, NA, NA, NA, NA, NA, NA, NA, NA, NA, NA, NA, NA, NA, NA, NA, NA, NA, NA, NA, NA, NA, NA, NA, NA, NA, NA, NA, NA, NA, NA, NA, NA, NA, NA, NA, NA, NA, NA, NA, NA, NA, NA, NA, NA, NA, NA, NA, NA, NA, NA, NA, NA, NA, NA, NA, NA, NA, NA, NA, NA, NA, NA, NA, NA, NA, NA, NA, NA, NA, NA, NA, NA, NA, NA, NA, NA, NA, NA, NA, NA, NA, NA, NA, NA, NA, NA, NA, NA, NA, NA & 0.0064663478, 0.0031084321, 0.0023449380, 0.0001446229, -0.0003021753, -0.0009966839, -0.0024012935, -0.0036003214, NA, NA, NA, NA, NA, NA, NA, NA, NA, NA, NA, NA, NA, NA, NA, NA, NA, NA, NA, NA, NA, NA, NA, NA, NA, NA, NA, NA, NA, NA, NA, NA, NA, NA, NA, NA, NA, NA, NA, NA, NA, NA, NA, NA, NA, NA, NA, NA, NA, NA, NA, NA, NA, NA, NA, NA, NA, NA, NA, NA, NA, NA, NA, NA, NA, NA, NA, NA, NA, NA, NA, NA, NA, NA, NA, NA, NA, NA, NA, NA, NA, NA, NA, NA, NA, NA, NA, NA, NA, NA, NA, NA, NA, NA, NA, NA, NA, NA, NA, NA, NA, NA, NA, NA, NA, NA, NA, NA, NA, NA, NA, NA, NA, NA, NA, NA, NA, NA, NA, NA, NA, NA, NA, NA, NA, NA, NA, NA, NA, NA, NA, NA, NA, NA, NA, NA, NA, NA, NA, NA, NA, NA, NA, NA, NA, NA, NA, NA, NA, NA, NA, NA, NA, NA, NA, NA, NA, NA, NA, NA, NA, NA, NA, NA, NA, NA, NA, NA, NA, NA, NA, NA, NA, NA, NA, NA, NA, NA, NA, NA, NA, NA, NA, NA, NA, NA, NA, NA, NA, NA, NA, NA & 0.0280879035, 0.0088925282, 0.0035696601, 0.0026808322, 0.0004405421, -0.0010105883, -0.0017142906, -0.0028388344, NA, NA, NA, NA, NA, NA, NA, NA, NA, NA, NA, NA, NA, NA, NA, NA, NA, NA, NA, NA, NA, NA, NA, NA, NA, NA, NA, NA, NA, NA, NA, NA, NA, NA, NA, NA, NA, NA, NA, NA, NA, NA, NA, NA, NA, NA, NA, NA, NA, NA, NA, NA, NA, NA, NA, NA, NA, NA, NA, NA, NA, NA, NA, NA, NA, NA, NA, NA, NA, NA, NA, NA, NA, NA, NA, NA, NA, NA, NA, NA, NA, NA, NA, NA, NA, NA, NA, NA, NA, NA, NA, NA, NA, NA, NA, NA, NA, NA, NA, NA, NA, NA, NA, NA, NA, NA, NA, NA, NA, NA, NA, NA, NA, NA, NA, NA, NA, NA, NA, NA, NA, NA, NA, NA, NA, NA, NA, NA, NA, NA, NA, NA, NA, NA, NA, NA, NA, NA, NA, NA, NA, NA, NA, NA, NA, NA, NA, NA, NA, NA, NA, NA, NA, NA, NA, NA, NA, NA, NA, NA, NA, NA, NA, NA, NA, NA, NA, NA, NA, NA, NA, NA, NA, NA, NA, NA, NA, NA, NA, NA, NA, NA, NA, NA, NA, NA, NA, NA, NA, NA, NA, NA & 1.386722e-03, -3.169497e-05, -1.454768e-03, -1.981580e-03, -2.382248e-03, -2.796863e-03, -3.029928e-03, -3.161323e-03, NA, NA, NA, NA, NA, NA, NA, NA, NA, NA, NA, NA, NA, NA, NA, NA, NA, NA, NA, NA, NA, NA, NA, NA, NA, NA, NA, NA, NA, NA, NA, NA, NA, NA, NA, NA, NA, NA, NA, NA, NA, NA, NA, NA, NA, NA, NA, NA, NA, NA, NA, NA, NA, NA, NA, NA, NA, NA, NA, NA, NA, NA, NA, NA, NA, NA, NA, NA, NA, NA, NA, NA, NA, NA, NA, NA, NA, NA, NA, NA, NA, NA, NA, NA, NA, NA, NA, NA, NA, NA, NA, NA, NA, NA, NA, NA, NA, NA, NA, NA, NA, NA, NA, NA, NA, NA, NA, NA, NA, NA, NA, NA, NA, NA, NA, NA, NA, NA, NA, NA, NA, NA, NA, NA, NA, NA, NA, NA, NA, NA, NA, NA, NA, NA, NA, NA, NA, NA, NA, NA, NA, NA, NA, NA, NA, NA, NA, NA, NA, NA, NA, NA, NA, NA, NA, NA, NA, NA, NA, NA, NA, NA, NA, NA, NA, NA, NA, NA, NA, NA, NA, NA, NA, NA, NA, NA, NA, NA, NA, NA, NA, NA, NA, NA, NA, NA, NA, NA, NA, NA, NA, NA & 2.085775e-02, 7.497833e-03, 3.860348e-03, -2.488722e-05, -9.904943e-04, -2.336990e-03, -2.746563e-03, -6.452683e-03, NA, NA, NA, NA, NA, NA, NA, NA, NA, NA, NA, NA, NA, NA, NA, NA, NA, NA, NA, NA, NA, NA, NA, NA, NA, NA, NA, NA, NA, NA, NA, NA, NA, NA, NA, NA, NA, NA, NA, NA, NA, NA, NA, NA, NA, NA, NA, NA, NA, NA, NA, NA, NA, NA, NA, NA, NA, NA, NA, NA, NA, NA, NA, NA, NA, NA, NA, NA, NA, NA, NA, NA, NA, NA, NA, NA, NA, NA, NA, NA, NA, NA, NA, NA, NA, NA, NA, NA, NA, NA, NA, NA, NA, NA, NA, NA, NA, NA, NA, NA, NA, NA, NA, NA, NA, NA, NA, NA, NA, NA, NA, NA, NA, NA, NA, NA, NA, NA, NA, NA, NA, NA, NA, NA, NA, NA, NA, NA, NA, NA, NA, NA, NA, NA, NA, NA, NA, NA, NA, NA, NA, NA, NA, NA, NA, NA, NA, NA, NA, NA, NA, NA, NA, NA, NA, NA, NA, NA, NA, NA, NA, NA, NA, NA, NA, NA, NA, NA, NA, NA, NA, NA, NA, NA, NA, NA, NA, NA, NA, NA, NA, NA, NA, NA, NA, NA, NA, NA, NA, NA, NA, NA\\\\\n",
       "\t GAPDH   , EEF1A1  , EFCAB1  , FAM86FP , PRSS41  , RPS28   , SLC35E2A, IPO13   , Surv    , Surv    , Surv    , Surv    , Surv    , Surv    , Surv    , Surv    , Surv    , Surv    , Surv    , Surv     & A2M   , A4GALT, AADAC , AAAS  , A4GNT , AAGAB , AACS  , A1CF  , Surv  , Surv  , Surv  , Surv  , Surv  , Surv  , Surv  , Surv  , Surv  , Surv  , Surv  , Surv   & A3GALT2, A2MP1  , A1CF   , A2MAS1 , A1BG   , A2ML1  , A2M    , A1BGAS1, Surv   , Surv   , Surv   , Surv   , Surv   , Surv   , Surv   , Surv   , Surv   , Surv   , Surv   , Surv    & A2M   , A4GNT , AAAS  , AACS  , AADAC , A4GALT, AAGAB , A1CF  , Surv  , Surv  , Surv  , Surv  , Surv  , Surv  , Surv  , Surv  , Surv  , Surv  , Surv  , Surv   & UBN1  , GZMK  , AOC3  , RRM1  , OR3A3 , FRK   , MAGEE1, SLK   , Surv  , Surv  , Surv  , Surv  , Surv  , Surv  , Surv  , Surv  , Surv  , Surv  , Surv  , Surv   & SCARA5, SUHW2 , RAC1  , FGB   , NA2   , GREM2 , 39    , NA1   , Surv  , Surv  , Surv  , Surv  , Surv  , Surv  , Surv  , Surv  , Surv  , Surv  , Surv  , Surv   & TSPAN6  , C1orf112, CFH     , FUCA2   , TNMD    , SCYL3   , FGR     , DPM1    , Surv    , Surv    , Surv    , Surv    , Surv    , Surv    , Surv    , Surv    , Surv    , Surv    , Surv    , Surv     & AACS   , A4GALT , A1CF82 , A2M    , AADAC  , AAAS   , AAGAB89, A4GNT  , Surv   , Surv   , Surv   , Surv   , Surv   , Surv   , Surv   , Surv   , Surv   , Surv   , Surv   , Surv   \\\\\n",
       "\t GAPDH  , EFCAB1 , RPS28  , IPO13  , FAM86FP & A2M   , A4GALT, AAAS  , AADAC  & A2M   , A2MAS1, A2ML1  & A4GNT, AAAS  & NULL & SCARA5 & TSPAN6  , C1orf112, CFH      & AACS\\\\\n",
       "\t EEF1A1  , GAPDH   , SLC35E2A, EFCAB1  , RPS28   , IPO13   , FAM86FP  & A2M   , A4GALT, AAAS  , AADAC  & A2M   , A2MAS1, A2ML1  &  &  & SCARA5 & TSPAN6  , C1orf112, CFH      & \\\\\n",
       "\t NA & NA & NA & NA & NA & NA & NA & NA\\\\\n",
       "\\end{tabular}\n"
      ],
      "text/markdown": [
       "\n",
       "A tibble: 9 × 8\n",
       "\n",
       "| METABRIC &lt;list&gt; | GSE11121 &lt;list&gt; | GSE96058 &lt;list&gt; | GSE7390 &lt;list&gt; | GSE9893 &lt;list&gt; | NKI &lt;list&gt; | TCGA &lt;list&gt; | GSE4922 &lt;list&gt; |\n",
       "|---|---|---|---|---|---|---|---|\n",
       "| 5.942310e-08, 1.414429e-03, 3.206094e-03, 6.507428e-03, 1.635911e-02 | <!----> | <!----> | <!----> | <!----> | 0.02044616 | <!----> | <!----> |\n",
       "| EEF1A1, RPS28  | AAAS, A2M  | A1BG, A1CF | AAAS , AAGAB | RRM1, SLK  | GREM2, SUHW2 | C1orf112, TSPAN6   | A2M   , A4GALT |\n",
       "| GAPDH   , EEF1A1  , RPS28   , EFCAB1  , IPO13   , FAM86FP , SLC35E2A, PRSS41   | A4GALT, AAAS  , A2M   , AAGAB , AADAC , A1CF   | A2MAS1 , A2ML1  , A2M    , A1BG   , A3GALT2, A1BGAS1, A2MP1  , A1CF    | AAAS  , A4GNT , A2M   , AAGAB , A4GALT, AADAC , A1CF   | SLK   , GZMK  , UBN1  , RRM1  , MAGEE1, FRK    | SCARA5, GREM2 , SUHW2 , FGB   , NA2   , RAC1  , 39    , NA1    | CFH     , TSPAN6  , FGR     , C1orf112, DPM1    , FUCA2    | AACS  , A4GALT, A4GNT , AAAS   |\n",
       "| SLC35E2A, EFCAB1   | AADAC, AAAS  | A2MP1  , A1BGAS1 | A2M  , A4GNT | FRK , RRM1 | 39    , SCARA5 | SCYL3   , C1orf112 | A4GNT , A4GALT |\n",
       "| 0.0284710795, 0.0103151630, 0.0079912261, 0.0066661709, 0.0017185105, 0.0006626312, -0.0008261443, -0.0016522565, NA, NA, NA, NA, NA, NA, NA, NA, NA, NA, NA, NA, NA, NA, NA, NA, NA, NA, NA, NA, NA, NA, NA, NA, NA, NA, NA, NA, NA, NA, NA, NA, NA, NA, NA, NA, NA, NA, NA, NA, NA, NA, NA, NA, NA, NA, NA, NA, NA, NA, NA, NA, NA, NA, NA, NA, NA, NA, NA, NA, NA, NA, NA, NA, NA, NA, NA, NA, NA, NA, NA, NA, NA, NA, NA, NA, NA, NA, NA, NA, NA, NA, NA, NA, NA, NA, NA, NA, NA, NA, NA, NA, NA, NA, NA, NA, NA, NA, NA, NA, NA, NA, NA, NA, NA, NA, NA, NA, NA, NA, NA, NA, NA, NA, NA, NA, NA, NA, NA, NA, NA, NA, NA, NA, NA, NA, NA, NA, NA, NA, NA, NA, NA, NA, NA, NA, NA, NA, NA, NA, NA, NA, NA, NA, NA, NA, NA, NA, NA, NA, NA, NA, NA, NA, NA, NA, NA, NA, NA, NA, NA, NA, NA, NA, NA, NA, NA, NA, NA, NA, NA, NA, NA, NA, NA, NA, NA, NA, NA, NA, NA, NA, NA, NA, NA, NA, NA, NA, NA, NA, NA, NA | 1.917200e-02, 6.442290e-03, 3.527713e-03, 1.862265e-03, 6.000563e-04, -1.683833e-05, -4.799272e-03, -5.081845e-03, NA, NA, NA, NA, NA, NA, NA, NA, NA, NA, NA, NA, NA, NA, NA, NA, NA, NA, NA, NA, NA, NA, NA, NA, NA, NA, NA, NA, NA, NA, NA, NA, NA, NA, NA, NA, NA, NA, NA, NA, NA, NA, NA, NA, NA, NA, NA, NA, NA, NA, NA, NA, NA, NA, NA, NA, NA, NA, NA, NA, NA, NA, NA, NA, NA, NA, NA, NA, NA, NA, NA, NA, NA, NA, NA, NA, NA, NA, NA, NA, NA, NA, NA, NA, NA, NA, NA, NA, NA, NA, NA, NA, NA, NA, NA, NA, NA, NA, NA, NA, NA, NA, NA, NA, NA, NA, NA, NA, NA, NA, NA, NA, NA, NA, NA, NA, NA, NA, NA, NA, NA, NA, NA, NA, NA, NA, NA, NA, NA, NA, NA, NA, NA, NA, NA, NA, NA, NA, NA, NA, NA, NA, NA, NA, NA, NA, NA, NA, NA, NA, NA, NA, NA, NA, NA, NA, NA, NA, NA, NA, NA, NA, NA, NA, NA, NA, NA, NA, NA, NA, NA, NA, NA, NA, NA, NA, NA, NA, NA, NA, NA, NA, NA, NA, NA, NA, NA, NA, NA, NA, NA, NA | 0.0171934695, 0.0067665393, 0.0018198010, 0.0013261353, 0.0007693522, -0.0007945677, -0.0021641382, -0.0042535108, NA, NA, NA, NA, NA, NA, NA, NA, NA, NA, NA, NA, NA, NA, NA, NA, NA, NA, NA, NA, NA, NA, NA, NA, NA, NA, NA, NA, NA, NA, NA, NA, NA, NA, NA, NA, NA, NA, NA, NA, NA, NA, NA, NA, NA, NA, NA, NA, NA, NA, NA, NA, NA, NA, NA, NA, NA, NA, NA, NA, NA, NA, NA, NA, NA, NA, NA, NA, NA, NA, NA, NA, NA, NA, NA, NA, NA, NA, NA, NA, NA, NA, NA, NA, NA, NA, NA, NA, NA, NA, NA, NA, NA, NA, NA, NA, NA, NA, NA, NA, NA, NA, NA, NA, NA, NA, NA, NA, NA, NA, NA, NA, NA, NA, NA, NA, NA, NA, NA, NA, NA, NA, NA, NA, NA, NA, NA, NA, NA, NA, NA, NA, NA, NA, NA, NA, NA, NA, NA, NA, NA, NA, NA, NA, NA, NA, NA, NA, NA, NA, NA, NA, NA, NA, NA, NA, NA, NA, NA, NA, NA, NA, NA, NA, NA, NA, NA, NA, NA, NA, NA, NA, NA, NA, NA, NA, NA, NA, NA, NA, NA, NA, NA, NA, NA, NA, NA, NA, NA, NA, NA, NA | 0.0061383549, 0.0053188327, 0.0030106810, 0.0023756392, -0.0001742927, -0.0006423078, -0.0010880361, -0.0016418240, NA, NA, NA, NA, NA, NA, NA, NA, NA, NA, NA, NA, NA, NA, NA, NA, NA, NA, NA, NA, NA, NA, NA, NA, NA, NA, NA, NA, NA, NA, NA, NA, NA, NA, NA, NA, NA, NA, NA, NA, NA, NA, NA, NA, NA, NA, NA, NA, NA, NA, NA, NA, NA, NA, NA, NA, NA, NA, NA, NA, NA, NA, NA, NA, NA, NA, NA, NA, NA, NA, NA, NA, NA, NA, NA, NA, NA, NA, NA, NA, NA, NA, NA, NA, NA, NA, NA, NA, NA, NA, NA, NA, NA, NA, NA, NA, NA, NA, NA, NA, NA, NA, NA, NA, NA, NA, NA, NA, NA, NA, NA, NA, NA, NA, NA, NA, NA, NA, NA, NA, NA, NA, NA, NA, NA, NA, NA, NA, NA, NA, NA, NA, NA, NA, NA, NA, NA, NA, NA, NA, NA, NA, NA, NA, NA, NA, NA, NA, NA, NA, NA, NA, NA, NA, NA, NA, NA, NA, NA, NA, NA, NA, NA, NA, NA, NA, NA, NA, NA, NA, NA, NA, NA, NA, NA, NA, NA, NA, NA, NA, NA, NA, NA, NA, NA, NA, NA, NA, NA, NA, NA, NA | 0.0064663478, 0.0031084321, 0.0023449380, 0.0001446229, -0.0003021753, -0.0009966839, -0.0024012935, -0.0036003214, NA, NA, NA, NA, NA, NA, NA, NA, NA, NA, NA, NA, NA, NA, NA, NA, NA, NA, NA, NA, NA, NA, NA, NA, NA, NA, NA, NA, NA, NA, NA, NA, NA, NA, NA, NA, NA, NA, NA, NA, NA, NA, NA, NA, NA, NA, NA, NA, NA, NA, NA, NA, NA, NA, NA, NA, NA, NA, NA, NA, NA, NA, NA, NA, NA, NA, NA, NA, NA, NA, NA, NA, NA, NA, NA, NA, NA, NA, NA, NA, NA, NA, NA, NA, NA, NA, NA, NA, NA, NA, NA, NA, NA, NA, NA, NA, NA, NA, NA, NA, NA, NA, NA, NA, NA, NA, NA, NA, NA, NA, NA, NA, NA, NA, NA, NA, NA, NA, NA, NA, NA, NA, NA, NA, NA, NA, NA, NA, NA, NA, NA, NA, NA, NA, NA, NA, NA, NA, NA, NA, NA, NA, NA, NA, NA, NA, NA, NA, NA, NA, NA, NA, NA, NA, NA, NA, NA, NA, NA, NA, NA, NA, NA, NA, NA, NA, NA, NA, NA, NA, NA, NA, NA, NA, NA, NA, NA, NA, NA, NA, NA, NA, NA, NA, NA, NA, NA, NA, NA, NA, NA, NA | 0.0280879035, 0.0088925282, 0.0035696601, 0.0026808322, 0.0004405421, -0.0010105883, -0.0017142906, -0.0028388344, NA, NA, NA, NA, NA, NA, NA, NA, NA, NA, NA, NA, NA, NA, NA, NA, NA, NA, NA, NA, NA, NA, NA, NA, NA, NA, NA, NA, NA, NA, NA, NA, NA, NA, NA, NA, NA, NA, NA, NA, NA, NA, NA, NA, NA, NA, NA, NA, NA, NA, NA, NA, NA, NA, NA, NA, NA, NA, NA, NA, NA, NA, NA, NA, NA, NA, NA, NA, NA, NA, NA, NA, NA, NA, NA, NA, NA, NA, NA, NA, NA, NA, NA, NA, NA, NA, NA, NA, NA, NA, NA, NA, NA, NA, NA, NA, NA, NA, NA, NA, NA, NA, NA, NA, NA, NA, NA, NA, NA, NA, NA, NA, NA, NA, NA, NA, NA, NA, NA, NA, NA, NA, NA, NA, NA, NA, NA, NA, NA, NA, NA, NA, NA, NA, NA, NA, NA, NA, NA, NA, NA, NA, NA, NA, NA, NA, NA, NA, NA, NA, NA, NA, NA, NA, NA, NA, NA, NA, NA, NA, NA, NA, NA, NA, NA, NA, NA, NA, NA, NA, NA, NA, NA, NA, NA, NA, NA, NA, NA, NA, NA, NA, NA, NA, NA, NA, NA, NA, NA, NA, NA, NA | 1.386722e-03, -3.169497e-05, -1.454768e-03, -1.981580e-03, -2.382248e-03, -2.796863e-03, -3.029928e-03, -3.161323e-03, NA, NA, NA, NA, NA, NA, NA, NA, NA, NA, NA, NA, NA, NA, NA, NA, NA, NA, NA, NA, NA, NA, NA, NA, NA, NA, NA, NA, NA, NA, NA, NA, NA, NA, NA, NA, NA, NA, NA, NA, NA, NA, NA, NA, NA, NA, NA, NA, NA, NA, NA, NA, NA, NA, NA, NA, NA, NA, NA, NA, NA, NA, NA, NA, NA, NA, NA, NA, NA, NA, NA, NA, NA, NA, NA, NA, NA, NA, NA, NA, NA, NA, NA, NA, NA, NA, NA, NA, NA, NA, NA, NA, NA, NA, NA, NA, NA, NA, NA, NA, NA, NA, NA, NA, NA, NA, NA, NA, NA, NA, NA, NA, NA, NA, NA, NA, NA, NA, NA, NA, NA, NA, NA, NA, NA, NA, NA, NA, NA, NA, NA, NA, NA, NA, NA, NA, NA, NA, NA, NA, NA, NA, NA, NA, NA, NA, NA, NA, NA, NA, NA, NA, NA, NA, NA, NA, NA, NA, NA, NA, NA, NA, NA, NA, NA, NA, NA, NA, NA, NA, NA, NA, NA, NA, NA, NA, NA, NA, NA, NA, NA, NA, NA, NA, NA, NA, NA, NA, NA, NA, NA, NA | 2.085775e-02, 7.497833e-03, 3.860348e-03, -2.488722e-05, -9.904943e-04, -2.336990e-03, -2.746563e-03, -6.452683e-03, NA, NA, NA, NA, NA, NA, NA, NA, NA, NA, NA, NA, NA, NA, NA, NA, NA, NA, NA, NA, NA, NA, NA, NA, NA, NA, NA, NA, NA, NA, NA, NA, NA, NA, NA, NA, NA, NA, NA, NA, NA, NA, NA, NA, NA, NA, NA, NA, NA, NA, NA, NA, NA, NA, NA, NA, NA, NA, NA, NA, NA, NA, NA, NA, NA, NA, NA, NA, NA, NA, NA, NA, NA, NA, NA, NA, NA, NA, NA, NA, NA, NA, NA, NA, NA, NA, NA, NA, NA, NA, NA, NA, NA, NA, NA, NA, NA, NA, NA, NA, NA, NA, NA, NA, NA, NA, NA, NA, NA, NA, NA, NA, NA, NA, NA, NA, NA, NA, NA, NA, NA, NA, NA, NA, NA, NA, NA, NA, NA, NA, NA, NA, NA, NA, NA, NA, NA, NA, NA, NA, NA, NA, NA, NA, NA, NA, NA, NA, NA, NA, NA, NA, NA, NA, NA, NA, NA, NA, NA, NA, NA, NA, NA, NA, NA, NA, NA, NA, NA, NA, NA, NA, NA, NA, NA, NA, NA, NA, NA, NA, NA, NA, NA, NA, NA, NA, NA, NA, NA, NA, NA, NA |\n",
       "| GAPDH   , EEF1A1  , EFCAB1  , FAM86FP , PRSS41  , RPS28   , SLC35E2A, IPO13   , Surv    , Surv    , Surv    , Surv    , Surv    , Surv    , Surv    , Surv    , Surv    , Surv    , Surv    , Surv     | A2M   , A4GALT, AADAC , AAAS  , A4GNT , AAGAB , AACS  , A1CF  , Surv  , Surv  , Surv  , Surv  , Surv  , Surv  , Surv  , Surv  , Surv  , Surv  , Surv  , Surv   | A3GALT2, A2MP1  , A1CF   , A2MAS1 , A1BG   , A2ML1  , A2M    , A1BGAS1, Surv   , Surv   , Surv   , Surv   , Surv   , Surv   , Surv   , Surv   , Surv   , Surv   , Surv   , Surv    | A2M   , A4GNT , AAAS  , AACS  , AADAC , A4GALT, AAGAB , A1CF  , Surv  , Surv  , Surv  , Surv  , Surv  , Surv  , Surv  , Surv  , Surv  , Surv  , Surv  , Surv   | UBN1  , GZMK  , AOC3  , RRM1  , OR3A3 , FRK   , MAGEE1, SLK   , Surv  , Surv  , Surv  , Surv  , Surv  , Surv  , Surv  , Surv  , Surv  , Surv  , Surv  , Surv   | SCARA5, SUHW2 , RAC1  , FGB   , NA2   , GREM2 , 39    , NA1   , Surv  , Surv  , Surv  , Surv  , Surv  , Surv  , Surv  , Surv  , Surv  , Surv  , Surv  , Surv   | TSPAN6  , C1orf112, CFH     , FUCA2   , TNMD    , SCYL3   , FGR     , DPM1    , Surv    , Surv    , Surv    , Surv    , Surv    , Surv    , Surv    , Surv    , Surv    , Surv    , Surv    , Surv     | AACS   , A4GALT , A1CF82 , A2M    , AADAC  , AAAS   , AAGAB89, A4GNT  , Surv   , Surv   , Surv   , Surv   , Surv   , Surv   , Surv   , Surv   , Surv   , Surv   , Surv   , Surv    |\n",
       "| GAPDH  , EFCAB1 , RPS28  , IPO13  , FAM86FP | A2M   , A4GALT, AAAS  , AADAC  | A2M   , A2MAS1, A2ML1  | A4GNT, AAAS  | NULL | SCARA5 | TSPAN6  , C1orf112, CFH      | AACS |\n",
       "| EEF1A1  , GAPDH   , SLC35E2A, EFCAB1  , RPS28   , IPO13   , FAM86FP  | A2M   , A4GALT, AAAS  , AADAC  | A2M   , A2MAS1, A2ML1  | <!----> | <!----> | SCARA5 | TSPAN6  , C1orf112, CFH      | <!----> |\n",
       "| NA | NA | NA | NA | NA | NA | NA | NA |\n",
       "\n"
      ],
      "text/plain": [
       "  METABRIC                                                                                                                                                                                                                                                                                                                                                                                                                                                                                                                                                                                                                                                                                                                                                                                                                                                                                                        \n",
       "1 5.942310e-08, 1.414429e-03, 3.206094e-03, 6.507428e-03, 1.635911e-02                                                                                                                                                                                                                                                                                                                                                                                                                                                                                                                                                                                                                                                                                                                                                                                                                                            \n",
       "2 EEF1A1, RPS28                                                                                                                                                                                                                                                                                                                                                                                                                                                                                                                                                                                                                                                                                                                                                                                                                                                                                                   \n",
       "3 GAPDH   , EEF1A1  , RPS28   , EFCAB1  , IPO13   , FAM86FP , SLC35E2A, PRSS41                                                                                                                                                                                                                                                                                                                                                                                                                                                                                                                                                                                                                                                                                                                                                                                                                                    \n",
       "4 SLC35E2A, EFCAB1                                                                                                                                                                                                                                                                                                                                                                                                                                                                                                                                                                                                                                                                                                                                                                                                                                                                                                \n",
       "5 0.0284710795, 0.0103151630, 0.0079912261, 0.0066661709, 0.0017185105, 0.0006626312, -0.0008261443, -0.0016522565, NA, NA, NA, NA, NA, NA, NA, NA, NA, NA, NA, NA, NA, NA, NA, NA, NA, NA, NA, NA, NA, NA, NA, NA, NA, NA, NA, NA, NA, NA, NA, NA, NA, NA, NA, NA, NA, NA, NA, NA, NA, NA, NA, NA, NA, NA, NA, NA, NA, NA, NA, NA, NA, NA, NA, NA, NA, NA, NA, NA, NA, NA, NA, NA, NA, NA, NA, NA, NA, NA, NA, NA, NA, NA, NA, NA, NA, NA, NA, NA, NA, NA, NA, NA, NA, NA, NA, NA, NA, NA, NA, NA, NA, NA, NA, NA, NA, NA, NA, NA, NA, NA, NA, NA, NA, NA, NA, NA, NA, NA, NA, NA, NA, NA, NA, NA, NA, NA, NA, NA, NA, NA, NA, NA, NA, NA, NA, NA, NA, NA, NA, NA, NA, NA, NA, NA, NA, NA, NA, NA, NA, NA, NA, NA, NA, NA, NA, NA, NA, NA, NA, NA, NA, NA, NA, NA, NA, NA, NA, NA, NA, NA, NA, NA, NA, NA, NA, NA, NA, NA, NA, NA, NA, NA, NA, NA, NA, NA, NA, NA, NA, NA, NA, NA, NA, NA, NA, NA, NA, NA, NA, NA\n",
       "6 GAPDH   , EEF1A1  , EFCAB1  , FAM86FP , PRSS41  , RPS28   , SLC35E2A, IPO13   , Surv    , Surv    , Surv    , Surv    , Surv    , Surv    , Surv    , Surv    , Surv    , Surv    , Surv    , Surv                                                                                                                                                                                                                                                                                                                                                                                                                                                                                                                                                                                                                                                                                                              \n",
       "7 GAPDH  , EFCAB1 , RPS28  , IPO13  , FAM86FP                                                                                                                                                                                                                                                                                                                                                                                                                                                                                                                                                                                                                                                                                                                                                                                                                                                                     \n",
       "8 EEF1A1  , GAPDH   , SLC35E2A, EFCAB1  , RPS28   , IPO13   , FAM86FP                                                                                                                                                                                                                                                                                                                                                                                                                                                                                                                                                                                                                                                                                                                                                                                                                                             \n",
       "9 NA                                                                                                                                                                                                                                                                                                                                                                                                                                                                                                                                                                                                                                                                                                                                                                                                                                                                                                              \n",
       "  GSE11121                                                                                                                                                                                                                                                                                                                                                                                                                                                                                                                                                                                                                                                                                                                                                                                                                                                                                                         \n",
       "1                                                                                                                                                                                                                                                                                                                                                                                                                                                                                                                                                                                                                                                                                                                                                                                                                                                                                                                  \n",
       "2 AAAS, A2M                                                                                                                                                                                                                                                                                                                                                                                                                                                                                                                                                                                                                                                                                                                                                                                                                                                                                                        \n",
       "3 A4GALT, AAAS  , A2M   , AAGAB , AADAC , A1CF                                                                                                                                                                                                                                                                                                                                                                                                                                                                                                                                                                                                                                                                                                                                                                                                                                                                     \n",
       "4 AADAC, AAAS                                                                                                                                                                                                                                                                                                                                                                                                                                                                                                                                                                                                                                                                                                                                                                                                                                                                                                      \n",
       "5 1.917200e-02, 6.442290e-03, 3.527713e-03, 1.862265e-03, 6.000563e-04, -1.683833e-05, -4.799272e-03, -5.081845e-03, NA, NA, NA, NA, NA, NA, NA, NA, NA, NA, NA, NA, NA, NA, NA, NA, NA, NA, NA, NA, NA, NA, NA, NA, NA, NA, NA, NA, NA, NA, NA, NA, NA, NA, NA, NA, NA, NA, NA, NA, NA, NA, NA, NA, NA, NA, NA, NA, NA, NA, NA, NA, NA, NA, NA, NA, NA, NA, NA, NA, NA, NA, NA, NA, NA, NA, NA, NA, NA, NA, NA, NA, NA, NA, NA, NA, NA, NA, NA, NA, NA, NA, NA, NA, NA, NA, NA, NA, NA, NA, NA, NA, NA, NA, NA, NA, NA, NA, NA, NA, NA, NA, NA, NA, NA, NA, NA, NA, NA, NA, NA, NA, NA, NA, NA, NA, NA, NA, NA, NA, NA, NA, NA, NA, NA, NA, NA, NA, NA, NA, NA, NA, NA, NA, NA, NA, NA, NA, NA, NA, NA, NA, NA, NA, NA, NA, NA, NA, NA, NA, NA, NA, NA, NA, NA, NA, NA, NA, NA, NA, NA, NA, NA, NA, NA, NA, NA, NA, NA, NA, NA, NA, NA, NA, NA, NA, NA, NA, NA, NA, NA, NA, NA, NA, NA, NA, NA, NA, NA, NA, NA, NA\n",
       "6 A2M   , A4GALT, AADAC , AAAS  , A4GNT , AAGAB , AACS  , A1CF  , Surv  , Surv  , Surv  , Surv  , Surv  , Surv  , Surv  , Surv  , Surv  , Surv  , Surv  , Surv                                                                                                                                                                                                                                                                                                                                                                                                                                                                                                                                                                                                                                                                                                                                                     \n",
       "7 A2M   , A4GALT, AAAS  , AADAC                                                                                                                                                                                                                                                                                                                                                                                                                                                                                                                                                                                                                                                                                                                                                                                                                                                                                    \n",
       "8 A2M   , A4GALT, AAAS  , AADAC                                                                                                                                                                                                                                                                                                                                                                                                                                                                                                                                                                                                                                                                                                                                                                                                                                                                                    \n",
       "9 NA                                                                                                                                                                                                                                                                                                                                                                                                                                                                                                                                                                                                                                                                                                                                                                                                                                                                                                               \n",
       "  GSE96058                                                                                                                                                                                                                                                                                                                                                                                                                                                                                                                                                                                                                                                                                                                                                                                                                                                                                                         \n",
       "1                                                                                                                                                                                                                                                                                                                                                                                                                                                                                                                                                                                                                                                                                                                                                                                                                                                                                                                  \n",
       "2 A1BG, A1CF                                                                                                                                                                                                                                                                                                                                                                                                                                                                                                                                                                                                                                                                                                                                                                                                                                                                                                       \n",
       "3 A2MAS1 , A2ML1  , A2M    , A1BG   , A3GALT2, A1BGAS1, A2MP1  , A1CF                                                                                                                                                                                                                                                                                                                                                                                                                                                                                                                                                                                                                                                                                                                                                                                                                                              \n",
       "4 A2MP1  , A1BGAS1                                                                                                                                                                                                                                                                                                                                                                                                                                                                                                                                                                                                                                                                                                                                                                                                                                                                                                 \n",
       "5 0.0171934695, 0.0067665393, 0.0018198010, 0.0013261353, 0.0007693522, -0.0007945677, -0.0021641382, -0.0042535108, NA, NA, NA, NA, NA, NA, NA, NA, NA, NA, NA, NA, NA, NA, NA, NA, NA, NA, NA, NA, NA, NA, NA, NA, NA, NA, NA, NA, NA, NA, NA, NA, NA, NA, NA, NA, NA, NA, NA, NA, NA, NA, NA, NA, NA, NA, NA, NA, NA, NA, NA, NA, NA, NA, NA, NA, NA, NA, NA, NA, NA, NA, NA, NA, NA, NA, NA, NA, NA, NA, NA, NA, NA, NA, NA, NA, NA, NA, NA, NA, NA, NA, NA, NA, NA, NA, NA, NA, NA, NA, NA, NA, NA, NA, NA, NA, NA, NA, NA, NA, NA, NA, NA, NA, NA, NA, NA, NA, NA, NA, NA, NA, NA, NA, NA, NA, NA, NA, NA, NA, NA, NA, NA, NA, NA, NA, NA, NA, NA, NA, NA, NA, NA, NA, NA, NA, NA, NA, NA, NA, NA, NA, NA, NA, NA, NA, NA, NA, NA, NA, NA, NA, NA, NA, NA, NA, NA, NA, NA, NA, NA, NA, NA, NA, NA, NA, NA, NA, NA, NA, NA, NA, NA, NA, NA, NA, NA, NA, NA, NA, NA, NA, NA, NA, NA, NA, NA, NA, NA, NA, NA, NA\n",
       "6 A3GALT2, A2MP1  , A1CF   , A2MAS1 , A1BG   , A2ML1  , A2M    , A1BGAS1, Surv   , Surv   , Surv   , Surv   , Surv   , Surv   , Surv   , Surv   , Surv   , Surv   , Surv   , Surv                                                                                                                                                                                                                                                                                                                                                                                                                                                                                                                                                                                                                                                                                                                                  \n",
       "7 A2M   , A2MAS1, A2ML1                                                                                                                                                                                                                                                                                                                                                                                                                                                                                                                                                                                                                                                                                                                                                                                                                                                                                            \n",
       "8 A2M   , A2MAS1, A2ML1                                                                                                                                                                                                                                                                                                                                                                                                                                                                                                                                                                                                                                                                                                                                                                                                                                                                                            \n",
       "9 NA                                                                                                                                                                                                                                                                                                                                                                                                                                                                                                                                                                                                                                                                                                                                                                                                                                                                                                               \n",
       "  GSE7390                                                                                                                                                                                                                                                                                                                                                                                                                                                                                                                                                                                                                                                                                                                                                                                                                                                                                                           \n",
       "1                                                                                                                                                                                                                                                                                                                                                                                                                                                                                                                                                                                                                                                                                                                                                                                                                                                                                                                   \n",
       "2 AAAS , AAGAB                                                                                                                                                                                                                                                                                                                                                                                                                                                                                                                                                                                                                                                                                                                                                                                                                                                                                                      \n",
       "3 AAAS  , A4GNT , A2M   , AAGAB , A4GALT, AADAC , A1CF                                                                                                                                                                                                                                                                                                                                                                                                                                                                                                                                                                                                                                                                                                                                                                                                                                                              \n",
       "4 A2M  , A4GNT                                                                                                                                                                                                                                                                                                                                                                                                                                                                                                                                                                                                                                                                                                                                                                                                                                                                                                      \n",
       "5 0.0061383549, 0.0053188327, 0.0030106810, 0.0023756392, -0.0001742927, -0.0006423078, -0.0010880361, -0.0016418240, NA, NA, NA, NA, NA, NA, NA, NA, NA, NA, NA, NA, NA, NA, NA, NA, NA, NA, NA, NA, NA, NA, NA, NA, NA, NA, NA, NA, NA, NA, NA, NA, NA, NA, NA, NA, NA, NA, NA, NA, NA, NA, NA, NA, NA, NA, NA, NA, NA, NA, NA, NA, NA, NA, NA, NA, NA, NA, NA, NA, NA, NA, NA, NA, NA, NA, NA, NA, NA, NA, NA, NA, NA, NA, NA, NA, NA, NA, NA, NA, NA, NA, NA, NA, NA, NA, NA, NA, NA, NA, NA, NA, NA, NA, NA, NA, NA, NA, NA, NA, NA, NA, NA, NA, NA, NA, NA, NA, NA, NA, NA, NA, NA, NA, NA, NA, NA, NA, NA, NA, NA, NA, NA, NA, NA, NA, NA, NA, NA, NA, NA, NA, NA, NA, NA, NA, NA, NA, NA, NA, NA, NA, NA, NA, NA, NA, NA, NA, NA, NA, NA, NA, NA, NA, NA, NA, NA, NA, NA, NA, NA, NA, NA, NA, NA, NA, NA, NA, NA, NA, NA, NA, NA, NA, NA, NA, NA, NA, NA, NA, NA, NA, NA, NA, NA, NA, NA, NA, NA, NA, NA, NA\n",
       "6 A2M   , A4GNT , AAAS  , AACS  , AADAC , A4GALT, AAGAB , A1CF  , Surv  , Surv  , Surv  , Surv  , Surv  , Surv  , Surv  , Surv  , Surv  , Surv  , Surv  , Surv                                                                                                                                                                                                                                                                                                                                                                                                                                                                                                                                                                                                                                                                                                                                                      \n",
       "7 A4GNT, AAAS                                                                                                                                                                                                                                                                                                                                                                                                                                                                                                                                                                                                                                                                                                                                                                                                                                                                                                       \n",
       "8                                                                                                                                                                                                                                                                                                                                                                                                                                                                                                                                                                                                                                                                                                                                                                                                                                                                                                                   \n",
       "9 NA                                                                                                                                                                                                                                                                                                                                                                                                                                                                                                                                                                                                                                                                                                                                                                                                                                                                                                                \n",
       "  GSE9893                                                                                                                                                                                                                                                                                                                                                                                                                                                                                                                                                                                                                                                                                                                                                                                                                                                                                                           \n",
       "1                                                                                                                                                                                                                                                                                                                                                                                                                                                                                                                                                                                                                                                                                                                                                                                                                                                                                                                   \n",
       "2 RRM1, SLK                                                                                                                                                                                                                                                                                                                                                                                                                                                                                                                                                                                                                                                                                                                                                                                                                                                                                                         \n",
       "3 SLK   , GZMK  , UBN1  , RRM1  , MAGEE1, FRK                                                                                                                                                                                                                                                                                                                                                                                                                                                                                                                                                                                                                                                                                                                                                                                                                                                                       \n",
       "4 FRK , RRM1                                                                                                                                                                                                                                                                                                                                                                                                                                                                                                                                                                                                                                                                                                                                                                                                                                                                                                        \n",
       "5 0.0064663478, 0.0031084321, 0.0023449380, 0.0001446229, -0.0003021753, -0.0009966839, -0.0024012935, -0.0036003214, NA, NA, NA, NA, NA, NA, NA, NA, NA, NA, NA, NA, NA, NA, NA, NA, NA, NA, NA, NA, NA, NA, NA, NA, NA, NA, NA, NA, NA, NA, NA, NA, NA, NA, NA, NA, NA, NA, NA, NA, NA, NA, NA, NA, NA, NA, NA, NA, NA, NA, NA, NA, NA, NA, NA, NA, NA, NA, NA, NA, NA, NA, NA, NA, NA, NA, NA, NA, NA, NA, NA, NA, NA, NA, NA, NA, NA, NA, NA, NA, NA, NA, NA, NA, NA, NA, NA, NA, NA, NA, NA, NA, NA, NA, NA, NA, NA, NA, NA, NA, NA, NA, NA, NA, NA, NA, NA, NA, NA, NA, NA, NA, NA, NA, NA, NA, NA, NA, NA, NA, NA, NA, NA, NA, NA, NA, NA, NA, NA, NA, NA, NA, NA, NA, NA, NA, NA, NA, NA, NA, NA, NA, NA, NA, NA, NA, NA, NA, NA, NA, NA, NA, NA, NA, NA, NA, NA, NA, NA, NA, NA, NA, NA, NA, NA, NA, NA, NA, NA, NA, NA, NA, NA, NA, NA, NA, NA, NA, NA, NA, NA, NA, NA, NA, NA, NA, NA, NA, NA, NA, NA, NA\n",
       "6 UBN1  , GZMK  , AOC3  , RRM1  , OR3A3 , FRK   , MAGEE1, SLK   , Surv  , Surv  , Surv  , Surv  , Surv  , Surv  , Surv  , Surv  , Surv  , Surv  , Surv  , Surv                                                                                                                                                                                                                                                                                                                                                                                                                                                                                                                                                                                                                                                                                                                                                      \n",
       "7 NULL                                                                                                                                                                                                                                                                                                                                                                                                                                                                                                                                                                                                                                                                                                                                                                                                                                                                                                              \n",
       "8                                                                                                                                                                                                                                                                                                                                                                                                                                                                                                                                                                                                                                                                                                                                                                                                                                                                                                                   \n",
       "9 NA                                                                                                                                                                                                                                                                                                                                                                                                                                                                                                                                                                                                                                                                                                                                                                                                                                                                                                                \n",
       "  NKI                                                                                                                                                                                                                                                                                                                                                                                                                                                                                                                                                                                                                                                                                                                                                                                                                                                                                                              \n",
       "1 0.02044616                                                                                                                                                                                                                                                                                                                                                                                                                                                                                                                                                                                                                                                                                                                                                                                                                                                                                                       \n",
       "2 GREM2, SUHW2                                                                                                                                                                                                                                                                                                                                                                                                                                                                                                                                                                                                                                                                                                                                                                                                                                                                                                     \n",
       "3 SCARA5, GREM2 , SUHW2 , FGB   , NA2   , RAC1  , 39    , NA1                                                                                                                                                                                                                                                                                                                                                                                                                                                                                                                                                                                                                                                                                                                                                                                                                                                      \n",
       "4 39    , SCARA5                                                                                                                                                                                                                                                                                                                                                                                                                                                                                                                                                                                                                                                                                                                                                                                                                                                                                                   \n",
       "5 0.0280879035, 0.0088925282, 0.0035696601, 0.0026808322, 0.0004405421, -0.0010105883, -0.0017142906, -0.0028388344, NA, NA, NA, NA, NA, NA, NA, NA, NA, NA, NA, NA, NA, NA, NA, NA, NA, NA, NA, NA, NA, NA, NA, NA, NA, NA, NA, NA, NA, NA, NA, NA, NA, NA, NA, NA, NA, NA, NA, NA, NA, NA, NA, NA, NA, NA, NA, NA, NA, NA, NA, NA, NA, NA, NA, NA, NA, NA, NA, NA, NA, NA, NA, NA, NA, NA, NA, NA, NA, NA, NA, NA, NA, NA, NA, NA, NA, NA, NA, NA, NA, NA, NA, NA, NA, NA, NA, NA, NA, NA, NA, NA, NA, NA, NA, NA, NA, NA, NA, NA, NA, NA, NA, NA, NA, NA, NA, NA, NA, NA, NA, NA, NA, NA, NA, NA, NA, NA, NA, NA, NA, NA, NA, NA, NA, NA, NA, NA, NA, NA, NA, NA, NA, NA, NA, NA, NA, NA, NA, NA, NA, NA, NA, NA, NA, NA, NA, NA, NA, NA, NA, NA, NA, NA, NA, NA, NA, NA, NA, NA, NA, NA, NA, NA, NA, NA, NA, NA, NA, NA, NA, NA, NA, NA, NA, NA, NA, NA, NA, NA, NA, NA, NA, NA, NA, NA, NA, NA, NA, NA, NA, NA\n",
       "6 SCARA5, SUHW2 , RAC1  , FGB   , NA2   , GREM2 , 39    , NA1   , Surv  , Surv  , Surv  , Surv  , Surv  , Surv  , Surv  , Surv  , Surv  , Surv  , Surv  , Surv                                                                                                                                                                                                                                                                                                                                                                                                                                                                                                                                                                                                                                                                                                                                                     \n",
       "7 SCARA5                                                                                                                                                                                                                                                                                                                                                                                                                                                                                                                                                                                                                                                                                                                                                                                                                                                                                                           \n",
       "8 SCARA5                                                                                                                                                                                                                                                                                                                                                                                                                                                                                                                                                                                                                                                                                                                                                                                                                                                                                                           \n",
       "9 NA                                                                                                                                                                                                                                                                                                                                                                                                                                                                                                                                                                                                                                                                                                                                                                                                                                                                                                               \n",
       "  TCGA                                                                                                                                                                                                                                                                                                                                                                                                                                                                                                                                                                                                                                                                                                                                                                                                                                                                                                                 \n",
       "1                                                                                                                                                                                                                                                                                                                                                                                                                                                                                                                                                                                                                                                                                                                                                                                                                                                                                                                      \n",
       "2 C1orf112, TSPAN6                                                                                                                                                                                                                                                                                                                                                                                                                                                                                                                                                                                                                                                                                                                                                                                                                                                                                                     \n",
       "3 CFH     , TSPAN6  , FGR     , C1orf112, DPM1    , FUCA2                                                                                                                                                                                                                                                                                                                                                                                                                                                                                                                                                                                                                                                                                                                                                                                                                                                              \n",
       "4 SCYL3   , C1orf112                                                                                                                                                                                                                                                                                                                                                                                                                                                                                                                                                                                                                                                                                                                                                                                                                                                                                                   \n",
       "5 1.386722e-03, -3.169497e-05, -1.454768e-03, -1.981580e-03, -2.382248e-03, -2.796863e-03, -3.029928e-03, -3.161323e-03, NA, NA, NA, NA, NA, NA, NA, NA, NA, NA, NA, NA, NA, NA, NA, NA, NA, NA, NA, NA, NA, NA, NA, NA, NA, NA, NA, NA, NA, NA, NA, NA, NA, NA, NA, NA, NA, NA, NA, NA, NA, NA, NA, NA, NA, NA, NA, NA, NA, NA, NA, NA, NA, NA, NA, NA, NA, NA, NA, NA, NA, NA, NA, NA, NA, NA, NA, NA, NA, NA, NA, NA, NA, NA, NA, NA, NA, NA, NA, NA, NA, NA, NA, NA, NA, NA, NA, NA, NA, NA, NA, NA, NA, NA, NA, NA, NA, NA, NA, NA, NA, NA, NA, NA, NA, NA, NA, NA, NA, NA, NA, NA, NA, NA, NA, NA, NA, NA, NA, NA, NA, NA, NA, NA, NA, NA, NA, NA, NA, NA, NA, NA, NA, NA, NA, NA, NA, NA, NA, NA, NA, NA, NA, NA, NA, NA, NA, NA, NA, NA, NA, NA, NA, NA, NA, NA, NA, NA, NA, NA, NA, NA, NA, NA, NA, NA, NA, NA, NA, NA, NA, NA, NA, NA, NA, NA, NA, NA, NA, NA, NA, NA, NA, NA, NA, NA, NA, NA, NA, NA, NA, NA\n",
       "6 TSPAN6  , C1orf112, CFH     , FUCA2   , TNMD    , SCYL3   , FGR     , DPM1    , Surv    , Surv    , Surv    , Surv    , Surv    , Surv    , Surv    , Surv    , Surv    , Surv    , Surv    , Surv                                                                                                                                                                                                                                                                                                                                                                                                                                                                                                                                                                                                                                                                                                                   \n",
       "7 TSPAN6  , C1orf112, CFH                                                                                                                                                                                                                                                                                                                                                                                                                                                                                                                                                                                                                                                                                                                                                                                                                                                                                              \n",
       "8 TSPAN6  , C1orf112, CFH                                                                                                                                                                                                                                                                                                                                                                                                                                                                                                                                                                                                                                                                                                                                                                                                                                                                                              \n",
       "9 NA                                                                                                                                                                                                                                                                                                                                                                                                                                                                                                                                                                                                                                                                                                                                                                                                                                                                                                                   \n",
       "  GSE4922                                                                                                                                                                                                                                                                                                                                                                                                                                                                                                                                                                                                                                                                                                                                                                                                                                                                                                            \n",
       "1                                                                                                                                                                                                                                                                                                                                                                                                                                                                                                                                                                                                                                                                                                                                                                                                                                                                                                                    \n",
       "2 A2M   , A4GALT                                                                                                                                                                                                                                                                                                                                                                                                                                                                                                                                                                                                                                                                                                                                                                                                                                                                                                     \n",
       "3 AACS  , A4GALT, A4GNT , AAAS                                                                                                                                                                                                                                                                                                                                                                                                                                                                                                                                                                                                                                                                                                                                                                                                                                                                                       \n",
       "4 A4GNT , A4GALT                                                                                                                                                                                                                                                                                                                                                                                                                                                                                                                                                                                                                                                                                                                                                                                                                                                                                                     \n",
       "5 2.085775e-02, 7.497833e-03, 3.860348e-03, -2.488722e-05, -9.904943e-04, -2.336990e-03, -2.746563e-03, -6.452683e-03, NA, NA, NA, NA, NA, NA, NA, NA, NA, NA, NA, NA, NA, NA, NA, NA, NA, NA, NA, NA, NA, NA, NA, NA, NA, NA, NA, NA, NA, NA, NA, NA, NA, NA, NA, NA, NA, NA, NA, NA, NA, NA, NA, NA, NA, NA, NA, NA, NA, NA, NA, NA, NA, NA, NA, NA, NA, NA, NA, NA, NA, NA, NA, NA, NA, NA, NA, NA, NA, NA, NA, NA, NA, NA, NA, NA, NA, NA, NA, NA, NA, NA, NA, NA, NA, NA, NA, NA, NA, NA, NA, NA, NA, NA, NA, NA, NA, NA, NA, NA, NA, NA, NA, NA, NA, NA, NA, NA, NA, NA, NA, NA, NA, NA, NA, NA, NA, NA, NA, NA, NA, NA, NA, NA, NA, NA, NA, NA, NA, NA, NA, NA, NA, NA, NA, NA, NA, NA, NA, NA, NA, NA, NA, NA, NA, NA, NA, NA, NA, NA, NA, NA, NA, NA, NA, NA, NA, NA, NA, NA, NA, NA, NA, NA, NA, NA, NA, NA, NA, NA, NA, NA, NA, NA, NA, NA, NA, NA, NA, NA, NA, NA, NA, NA, NA, NA, NA, NA, NA, NA, NA, NA\n",
       "6 AACS   , A4GALT , A1CF82 , A2M    , AADAC  , AAAS   , AAGAB89, A4GNT  , Surv   , Surv   , Surv   , Surv   , Surv   , Surv   , Surv   , Surv   , Surv   , Surv   , Surv   , Surv                                                                                                                                                                                                                                                                                                                                                                                                                                                                                                                                                                                                                                                                                                                                    \n",
       "7 AACS                                                                                                                                                                                                                                                                                                                                                                                                                                                                                                                                                                                                                                                                                                                                                                                                                                                                                                               \n",
       "8                                                                                                                                                                                                                                                                                                                                                                                                                                                                                                                                                                                                                                                                                                                                                                                                                                                                                                                    \n",
       "9 NA                                                                                                                                                                                                                                                                                                                                                                                                                                                                                                                                                                                                                                                                                                                                                                                                                                                                                                                 "
      ]
     },
     "metadata": {},
     "output_type": "display_data"
    }
   ],
   "source": [
    "feature_selections"
   ]
  },
  {
   "cell_type": "markdown",
   "metadata": {},
   "source": [
    "# Prepare dataframes from features selections"
   ]
  },
  {
   "cell_type": "code",
   "execution_count": 28,
   "metadata": {},
   "outputs": [],
   "source": [
    "select_df = function(df, feature_selections){\n",
    "    fs = unlist(feature_selections)\n",
    "    if(class(fs)==\"numeric\"){\n",
    "        fs = names(fs)\n",
    "    }\n",
    "    df[,c(\"survival_time\", \"event\", fs)]\n",
    "}"
   ]
  },
  {
   "cell_type": "code",
   "execution_count": 13,
   "metadata": {},
   "outputs": [
    {
     "data": {
      "text/html": [
       "<style>\n",
       ".list-inline {list-style: none; margin:0; padding: 0}\n",
       ".list-inline>li {display: inline-block}\n",
       ".list-inline>li:not(:last-child)::after {content: \"\\00b7\"; padding: 0 .5ex}\n",
       "</style>\n",
       "<ol class=list-inline><li>7</li><li>8</li></ol>\n"
      ],
      "text/latex": [
       "\\begin{enumerate*}\n",
       "\\item 7\n",
       "\\item 8\n",
       "\\end{enumerate*}\n"
      ],
      "text/markdown": [
       "1. 7\n",
       "2. 8\n",
       "\n",
       "\n"
      ],
      "text/plain": [
       "[1] 7 8"
      ]
     },
     "metadata": {},
     "output_type": "display_data"
    }
   ],
   "source": [
    "FS = readRDS(\"../data/feature_selections.rds\")\n",
    "FS = FS[-c(7),]\n",
    "dim(FS)"
   ]
  },
  {
   "cell_type": "code",
   "execution_count": 14,
   "metadata": {},
   "outputs": [],
   "source": [
    "rownames(FS) =  c(\"Univariable_cox_filter\",\n",
    "                  \"RSF_variable_importance\", \"RSF_minimal_depth\", \"RSF_variable_hunting\",\n",
    "                  \"MSRS_RF_variable_importance\", \"mRMR\", \"SIS\")"
   ]
  },
  {
   "cell_type": "code",
   "execution_count": 15,
   "metadata": {},
   "outputs": [],
   "source": [
    "dfs_feature_selections = vector(\"list\", length(dfs))"
   ]
  },
  {
   "cell_type": "code",
   "execution_count": 45,
   "metadata": {},
   "outputs": [],
   "source": [
    "for (i in 1:length(dfs)){\n",
    "    df = dfs[[i]]\n",
    "    select_genes = purrr::partial(select_df, df = df)\n",
    "    dfs_feature_selections[[i]] = map(1:7, function(ind) select_genes(FS[[ind, i]])) \n",
    "}"
   ]
  },
  {
   "cell_type": "code",
   "execution_count": 46,
   "metadata": {},
   "outputs": [
    {
     "data": {
      "text/html": [
       "<ol>\n",
       "\t<li>7</li>\n",
       "\t<li>7</li>\n",
       "\t<li>7</li>\n",
       "\t<li>7</li>\n",
       "\t<li>7</li>\n",
       "\t<li>7</li>\n",
       "\t<li>7</li>\n",
       "\t<li>7</li>\n",
       "</ol>\n"
      ],
      "text/latex": [
       "\\begin{enumerate}\n",
       "\\item 7\n",
       "\\item 7\n",
       "\\item 7\n",
       "\\item 7\n",
       "\\item 7\n",
       "\\item 7\n",
       "\\item 7\n",
       "\\item 7\n",
       "\\end{enumerate}\n"
      ],
      "text/markdown": [
       "1. 7\n",
       "2. 7\n",
       "3. 7\n",
       "4. 7\n",
       "5. 7\n",
       "6. 7\n",
       "7. 7\n",
       "8. 7\n",
       "\n",
       "\n"
      ],
      "text/plain": [
       "[[1]]\n",
       "[1] 7\n",
       "\n",
       "[[2]]\n",
       "[1] 7\n",
       "\n",
       "[[3]]\n",
       "[1] 7\n",
       "\n",
       "[[4]]\n",
       "[1] 7\n",
       "\n",
       "[[5]]\n",
       "[1] 7\n",
       "\n",
       "[[6]]\n",
       "[1] 7\n",
       "\n",
       "[[7]]\n",
       "[1] 7\n",
       "\n",
       "[[8]]\n",
       "[1] 7\n"
      ]
     },
     "metadata": {},
     "output_type": "display_data"
    }
   ],
   "source": [
    "map(dfs_feature_selections, length)"
   ]
  },
  {
   "cell_type": "code",
   "execution_count": 55,
   "metadata": {},
   "outputs": [
    {
     "data": {
      "text/html": [
       "<ol>\n",
       "\t<li><style>\n",
       ".list-inline {list-style: none; margin:0; padding: 0}\n",
       ".list-inline>li {display: inline-block}\n",
       ".list-inline>li:not(:last-child)::after {content: \"\\00b7\"; padding: 0 .5ex}\n",
       "</style>\n",
       "<ol class=list-inline><li>681</li><li>384</li></ol>\n",
       "</li>\n",
       "\t<li><style>\n",
       ".list-inline {list-style: none; margin:0; padding: 0}\n",
       ".list-inline>li {display: inline-block}\n",
       ".list-inline>li:not(:last-child)::after {content: \"\\00b7\"; padding: 0 .5ex}\n",
       "</style>\n",
       "<ol class=list-inline><li>681</li><li>57</li></ol>\n",
       "</li>\n",
       "\t<li><style>\n",
       ".list-inline {list-style: none; margin:0; padding: 0}\n",
       ".list-inline>li {display: inline-block}\n",
       ".list-inline>li:not(:last-child)::after {content: \"\\00b7\"; padding: 0 .5ex}\n",
       "</style>\n",
       "<ol class=list-inline><li>681</li><li>3</li></ol>\n",
       "</li>\n",
       "\t<li><style>\n",
       ".list-inline {list-style: none; margin:0; padding: 0}\n",
       ".list-inline>li {display: inline-block}\n",
       ".list-inline>li:not(:last-child)::after {content: \"\\00b7\"; padding: 0 .5ex}\n",
       "</style>\n",
       "<ol class=list-inline><li>681</li><li>29</li></ol>\n",
       "</li>\n",
       "\t<li><style>\n",
       ".list-inline {list-style: none; margin:0; padding: 0}\n",
       ".list-inline>li {display: inline-block}\n",
       ".list-inline>li:not(:last-child)::after {content: \"\\00b7\"; padding: 0 .5ex}\n",
       "</style>\n",
       "<ol class=list-inline><li>681</li><li>200</li></ol>\n",
       "</li>\n",
       "\t<li><style>\n",
       ".list-inline {list-style: none; margin:0; padding: 0}\n",
       ".list-inline>li {display: inline-block}\n",
       ".list-inline>li:not(:last-child)::after {content: \"\\00b7\"; padding: 0 .5ex}\n",
       "</style>\n",
       "<ol class=list-inline><li>681</li><li>20</li></ol>\n",
       "</li>\n",
       "\t<li><style>\n",
       ".list-inline {list-style: none; margin:0; padding: 0}\n",
       ".list-inline>li {display: inline-block}\n",
       ".list-inline>li:not(:last-child)::after {content: \"\\00b7\"; padding: 0 .5ex}\n",
       "</style>\n",
       "<ol class=list-inline><li>681</li><li>26</li></ol>\n",
       "</li>\n",
       "</ol>\n"
      ],
      "text/latex": [
       "\\begin{enumerate}\n",
       "\\item \\begin{enumerate*}\n",
       "\\item 681\n",
       "\\item 384\n",
       "\\end{enumerate*}\n",
       "\n",
       "\\item \\begin{enumerate*}\n",
       "\\item 681\n",
       "\\item 57\n",
       "\\end{enumerate*}\n",
       "\n",
       "\\item \\begin{enumerate*}\n",
       "\\item 681\n",
       "\\item 3\n",
       "\\end{enumerate*}\n",
       "\n",
       "\\item \\begin{enumerate*}\n",
       "\\item 681\n",
       "\\item 29\n",
       "\\end{enumerate*}\n",
       "\n",
       "\\item \\begin{enumerate*}\n",
       "\\item 681\n",
       "\\item 200\n",
       "\\end{enumerate*}\n",
       "\n",
       "\\item \\begin{enumerate*}\n",
       "\\item 681\n",
       "\\item 20\n",
       "\\end{enumerate*}\n",
       "\n",
       "\\item \\begin{enumerate*}\n",
       "\\item 681\n",
       "\\item 26\n",
       "\\end{enumerate*}\n",
       "\n",
       "\\end{enumerate}\n"
      ],
      "text/markdown": [
       "1. 1. 681\n",
       "2. 384\n",
       "\n",
       "\n",
       "\n",
       "2. 1. 681\n",
       "2. 57\n",
       "\n",
       "\n",
       "\n",
       "3. 1. 681\n",
       "2. 3\n",
       "\n",
       "\n",
       "\n",
       "4. 1. 681\n",
       "2. 29\n",
       "\n",
       "\n",
       "\n",
       "5. 1. 681\n",
       "2. 200\n",
       "\n",
       "\n",
       "\n",
       "6. 1. 681\n",
       "2. 20\n",
       "\n",
       "\n",
       "\n",
       "7. 1. 681\n",
       "2. 26\n",
       "\n",
       "\n",
       "\n",
       "\n",
       "\n"
      ],
      "text/plain": [
       "[[1]]\n",
       "[1] 681 384\n",
       "\n",
       "[[2]]\n",
       "[1] 681  57\n",
       "\n",
       "[[3]]\n",
       "[1] 681   3\n",
       "\n",
       "[[4]]\n",
       "[1] 681  29\n",
       "\n",
       "[[5]]\n",
       "[1] 681 200\n",
       "\n",
       "[[6]]\n",
       "[1] 681  20\n",
       "\n",
       "[[7]]\n",
       "[1] 681  26\n"
      ]
     },
     "metadata": {},
     "output_type": "display_data"
    }
   ],
   "source": [
    "map(dfs_feature_selections[[1]], function(x) (dim(x)-2))"
   ]
  },
  {
   "cell_type": "markdown",
   "metadata": {},
   "source": [
    "## Save data"
   ]
  },
  {
   "cell_type": "code",
   "execution_count": 56,
   "metadata": {},
   "outputs": [],
   "source": [
    "saveRDS(dfs_feature_selections, paste(data_path,\"dfs_feature_selections.rds\"))"
   ]
  },
  {
   "cell_type": "markdown",
   "metadata": {},
   "source": [
    "## Export code"
   ]
  },
  {
   "cell_type": "code",
   "execution_count": 1,
   "metadata": {},
   "outputs": [],
   "source": [
    "system(\"python3 notebook2script.py 04_feature_selections.ipynb\")"
   ]
  },
  {
   "cell_type": "code",
   "execution_count": null,
   "metadata": {},
   "outputs": [],
   "source": []
  }
 ],
 "metadata": {
  "kernelspec": {
   "display_name": "R",
   "language": "R",
   "name": "ir"
  },
  "language_info": {
   "codemirror_mode": "r",
   "file_extension": ".r",
   "mimetype": "text/x-r-source",
   "name": "R",
   "pygments_lexer": "r",
   "version": "4.0.3"
  }
 },
 "nbformat": 4,
 "nbformat_minor": 4
}
