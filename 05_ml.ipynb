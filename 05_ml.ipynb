{
 "cells": [
  {
   "cell_type": "code",
   "execution_count": 1,
   "metadata": {},
   "outputs": [
    {
     "name": "stderr",
     "output_type": "stream",
     "text": [
      "Warning message:\n",
      "“package ‘survival’ was built under R version 4.1.1”\n"
     ]
    }
   ],
   "source": [
    "#export \n",
    "suppressMessages(source(\"exp/nb_04.R\"))"
   ]
  },
  {
   "cell_type": "code",
   "execution_count": 2,
   "metadata": {},
   "outputs": [
    {
     "name": "stderr",
     "output_type": "stream",
     "text": [
      "Loading required package: stabs\n",
      "\n",
      "\n",
      "Attaching package: ‘stabs’\n",
      "\n",
      "\n",
      "The following object is masked from ‘package:randomForestSRC’:\n",
      "\n",
      "    subsample\n",
      "\n",
      "\n",
      "The following object is masked from ‘package:mlr’:\n",
      "\n",
      "    subsample\n",
      "\n",
      "\n",
      "\n",
      "Attaching package: ‘mboost’\n",
      "\n",
      "\n",
      "The following object is masked from ‘package:tidyr’:\n",
      "\n",
      "    extract\n",
      "\n",
      "\n",
      "The following object is masked from ‘package:ggplot2’:\n",
      "\n",
      "    %+%\n",
      "\n",
      "\n"
     ]
    }
   ],
   "source": [
    "#export\n",
    "library(mboost)"
   ]
  },
  {
   "cell_type": "markdown",
   "metadata": {},
   "source": [
    "## Meta-Learner"
   ]
  },
  {
   "cell_type": "code",
   "execution_count": 3,
   "metadata": {},
   "outputs": [],
   "source": [
    "#export\n",
    "learning_algs =   c(\"Cox_PH_model\",\n",
    "                    \"Ridge\",\n",
    "                    \"Elastic_Net\",\n",
    "                    \"Lasso\",\n",
    "                    \"Gradient_Boosting_tree_based\",\n",
    "                    \"Gradient_Boosting_linear_model_based\",\n",
    "                    \"Random_Survival_Forests\",\n",
    "                    \"Maximally_selected_rank_statistics_Random_Forests\",\n",
    "                    \"Survival_Tree\"\n",
    "                   )"
   ]
  },
  {
   "cell_type": "code",
   "execution_count": 4,
   "metadata": {},
   "outputs": [],
   "source": [
    "#export\n",
    "learners = list(makeLearner(\"surv.coxph\",           id = learning_algs[[1]]),\n",
    "                makeLearner(\"surv.cvglmnet\",        id = learning_algs[[2]], alpha = 0,   nfolds=20),\n",
    "                makeLearner(\"surv.cvglmnet\",        id = learning_algs[[3]], alpha = 0.5, nfolds=20, s=\"lambda.min\"),\n",
    "                makeLearner(\"surv.cvglmnet\",        id = learning_algs[[4]], alpha = 1,   nfolds=20, s=\"lambda.min\"),\n",
    "                makeLearner(\"surv.gamboost\",        id = learning_algs[[5]], baselearner = \"bols\" ),\n",
    "                makeLearner(\"surv.gamboost\",        id = learning_algs[[6]], baselearner = \"btree\"),\n",
    "                makeLearner(\"surv.randomForestSRC\", id = learning_algs[[7]]),\n",
    "                makeLearner(\"surv.ranger\",          id = learning_algs[[8]]),\n",
    "                makeLearner(\"surv.rpart\",           id = learning_algs[[9]])\n",
    "               )\n",
    "names(learners) = learning_algs"
   ]
  },
  {
   "cell_type": "code",
   "execution_count": 5,
   "metadata": {},
   "outputs": [],
   "source": [
    "#export\n",
    "MetaLearner = function(df, learners){list(\n",
    "    resamplers  = map(learners, \n",
    "                      purrr::partial(mlr::resample,\n",
    "                                     task       = makeSurvTask(data = df, target = c(\"survival_time\", \"event\")),\n",
    "                                     resampling = makeResampleDesc(\"CV\", iters = 5),\n",
    "                                     show.info  = FALSE)))}"
   ]
  },
  {
   "cell_type": "code",
   "execution_count": 6,
   "metadata": {},
   "outputs": [],
   "source": [
    "#export\n",
    "MetaLearner = purrr::partial(MetaLearner, learners = learners)"
   ]
  },
  {
   "cell_type": "code",
   "execution_count": 7,
   "metadata": {},
   "outputs": [],
   "source": [
    "#export\n",
    "get_c_index = function(resampler){\n",
    "    #values below 0.5 are good antipredictiors: convert them into predictors\n",
    "    mean(abs(resampler$measures.test$cindex - 0.5) + 0.5, na.rm = TRUE)\n",
    "}"
   ]
  },
  {
   "cell_type": "code",
   "execution_count": 8,
   "metadata": {},
   "outputs": [],
   "source": [
    "#export\n",
    "get_c_index_for_algs = function(resampler){\n",
    "    l = map(resampler, get_c_index)\n",
    "    df = data.frame(matrix(unlist(l), ncol=length(l), byrow=FALSE),stringsAsFactors=FALSE)\n",
    "    names(df) = names(l)\n",
    "    df\n",
    "}"
   ]
  },
  {
   "cell_type": "code",
   "execution_count": 9,
   "metadata": {},
   "outputs": [],
   "source": [
    "#export\n",
    "complete_df = function(df){df[complete.cases(df), ]}"
   ]
  },
  {
   "cell_type": "code",
   "execution_count": 10,
   "metadata": {},
   "outputs": [],
   "source": [
    "add_col = function(df){\n",
    "    if(dim(df)[2]==3){\n",
    "        df$tmp = df[,3]\n",
    "        return(df)\n",
    "    }\n",
    "    else(return(df))\n",
    "}"
   ]
  },
  {
   "cell_type": "markdown",
   "metadata": {},
   "source": [
    "## Load data"
   ]
  },
  {
   "cell_type": "code",
   "execution_count": 11,
   "metadata": {},
   "outputs": [],
   "source": [
    "dfs_random             = readRDS(paste(data_path,\"dfs_random.rds\", sep=\"\"))\n",
    "dfs_signatures         = readRDS(paste(data_path,\"dfs_signatures.rds\", sep=\"\"))\n",
    "dfs_feature_selections = readRDS(paste(data_path,\"dfs_feature_selections.rds\", sep=\"\"))\n",
    "dfs_npi                = readRDS(paste(data_path,\"dfs_npi.rds\", sep=\"\"))\n",
    "\n",
    "dfs = dfs_random"
   ]
  },
  {
   "cell_type": "code",
   "execution_count": 12,
   "metadata": {},
   "outputs": [],
   "source": [
    "data_path = '../data/metalearners/'"
   ]
  },
  {
   "cell_type": "markdown",
   "metadata": {},
   "source": [
    "#### Remove rows with NAs in some dataframes:"
   ]
  },
  {
   "cell_type": "code",
   "execution_count": 13,
   "metadata": {},
   "outputs": [],
   "source": [
    "for (i in c(6,7)){\n",
    "    dfs_random[[i]]                 = map(dfs_random[[i]], complete_df)\n",
    "    dfs_signatures[[i]]             = map(dfs_signatures[[i]], complete_df)\n",
    "    dfs_feature_selections[[i]] = map(dfs_feature_selections[[i]], complete_df)\n",
    "    }\n",
    "dfs_npi[[6]] = complete_df(dfs_npi[[6]])"
   ]
  },
  {
   "cell_type": "markdown",
   "metadata": {},
   "source": [
    "#### A trick to make algs work with dfs "
   ]
  },
  {
   "cell_type": "code",
   "execution_count": 14,
   "metadata": {},
   "outputs": [],
   "source": [
    "for (i in 1:8) {dfs_signatures[[i]] = map(dfs_signatures[[i]], add_col)}"
   ]
  },
  {
   "cell_type": "markdown",
   "metadata": {},
   "source": [
    "### RUN"
   ]
  },
  {
   "cell_type": "code",
   "execution_count": 15,
   "metadata": {},
   "outputs": [],
   "source": [
    "ν = 1:length(dfs_npi)"
   ]
  },
  {
   "cell_type": "markdown",
   "metadata": {},
   "source": [
    "#### NPI"
   ]
  },
  {
   "cell_type": "code",
   "execution_count": 23,
   "metadata": {},
   "outputs": [
    {
     "name": "stdout",
     "output_type": "stream",
     "text": [
      "[1] 1\n",
      "[1] 2\n",
      "[1] 3\n",
      "[1] 4\n",
      "[1] 5\n",
      "[1] 6\n",
      "[1] 8\n"
     ]
    }
   ],
   "source": [
    "for (i in ν[-c(7)]){     #TCGA (i = 7) does not have NPIs!\n",
    "    print(i)\n",
    "    df = dfs_npi[[i]]\n",
    "    df$dummy = df$npi    #a workaround for using glmnet\n",
    "    ML = MetaLearner(df)\n",
    "    saveRDS(ML, paste(data_path,\"metalearners_npi_\",names(dfs)[[i]],\".rds\", sep=\"\"))\n",
    "}"
   ]
  },
  {
   "cell_type": "markdown",
   "metadata": {},
   "source": [
    "#### State-of-the-art selections"
   ]
  },
  {
   "cell_type": "code",
   "execution_count": 17,
   "metadata": {},
   "outputs": [],
   "source": [
    "df = dfs_feature_selections[[1]]"
   ]
  },
  {
   "cell_type": "code",
   "execution_count": 25,
   "metadata": {},
   "outputs": [],
   "source": [
    "for (i in ν){\n",
    "    print(i)\n",
    "    ML = map(dfs_feature_selections[[i]], MetaLearner)\n",
    "    saveRDS(ML, paste(data_path,\"metalearners_feature_selections_\",names(dfs)[[i]],\".rds\", sep=\"\"))\n",
    "}"
   ]
  },
  {
   "cell_type": "code",
   "execution_count": 26,
   "metadata": {},
   "outputs": [],
   "source": [
    "ML = map(dfs_feature_selections[[8]], MetaLearner)\n",
    "saveRDS(ML, paste(data_path,\"metalearners_feature_selections_\",names(dfs)[[i]],\".rds\", sep=\"\"))"
   ]
  },
  {
   "cell_type": "markdown",
   "metadata": {},
   "source": [
    "#### Random"
   ]
  },
  {
   "cell_type": "code",
   "execution_count": 27,
   "metadata": {},
   "outputs": [
    {
     "name": "stdout",
     "output_type": "stream",
     "text": [
      "[1] 1\n",
      "[1] 2\n",
      "[1] 3\n",
      "[1] 4\n",
      "[1] 5\n",
      "[1] 6\n",
      "[1] 7\n",
      "[1] 8\n"
     ]
    }
   ],
   "source": [
    "for (i in ν){\n",
    "    print(i)\n",
    "    ML = map(dfs_random[[i]], MetaLearner)\n",
    "    saveRDS(ML, paste(data_path,\"metalearners_random_\",names(dfs)[[i]],\".rds\", sep=\"\"))\n",
    "}"
   ]
  },
  {
   "cell_type": "code",
   "execution_count": 29,
   "metadata": {},
   "outputs": [
    {
     "data": {
      "text/html": [
       "<style>\n",
       ".list-inline {list-style: none; margin:0; padding: 0}\n",
       ".list-inline>li {display: inline-block}\n",
       ".list-inline>li:not(:last-child)::after {content: \"\\00b7\"; padding: 0 .5ex}\n",
       "</style>\n",
       "<ol class=list-inline><li>'METABRIC'</li><li>'GSE11121'</li><li>'GSE96058'</li><li>'GSE7390'</li><li>'GSE9893'</li><li>'NKI'</li><li>'TCGA'</li><li>'GSE4922'</li></ol>\n"
      ],
      "text/latex": [
       "\\begin{enumerate*}\n",
       "\\item 'METABRIC'\n",
       "\\item 'GSE11121'\n",
       "\\item 'GSE96058'\n",
       "\\item 'GSE7390'\n",
       "\\item 'GSE9893'\n",
       "\\item 'NKI'\n",
       "\\item 'TCGA'\n",
       "\\item 'GSE4922'\n",
       "\\end{enumerate*}\n"
      ],
      "text/markdown": [
       "1. 'METABRIC'\n",
       "2. 'GSE11121'\n",
       "3. 'GSE96058'\n",
       "4. 'GSE7390'\n",
       "5. 'GSE9893'\n",
       "6. 'NKI'\n",
       "7. 'TCGA'\n",
       "8. 'GSE4922'\n",
       "\n",
       "\n"
      ],
      "text/plain": [
       "[1] \"METABRIC\" \"GSE11121\" \"GSE96058\" \"GSE7390\"  \"GSE9893\"  \"NKI\"      \"TCGA\"    \n",
       "[8] \"GSE4922\" "
      ]
     },
     "metadata": {},
     "output_type": "display_data"
    }
   ],
   "source": [
    "names(dfs)"
   ]
  },
  {
   "cell_type": "markdown",
   "metadata": {},
   "source": [
    "#### Signatures aka gene lists"
   ]
  },
  {
   "cell_type": "code",
   "execution_count": 30,
   "metadata": {},
   "outputs": [],
   "source": [
    "#for (i in c(1,2,3,4,5,6,7,8)){ #not working: 6, 8\n",
    "#    tryCatch({\n",
    "#    print(i)\n",
    "#    ML = map(dfs_signatures[[i]], MetaLearner)\n",
    "#    saveRDS(ML, paste(data_path,\"metalearners_signatures_\",names(dfs)[[i]],\".rds\", sep=\"\"))\n",
    "#        }, error=function(e){})\n",
    "#}"
   ]
  },
  {
   "cell_type": "code",
   "execution_count": 16,
   "metadata": {},
   "outputs": [],
   "source": [
    "ML = map(dfs_signatures[[8]], MetaLearner)\n",
    "saveRDS(ML, paste(data_path,\"metalearners_signatures_\",names(dfs)[[8]],\".rds\", sep=\"\"))"
   ]
  },
  {
   "cell_type": "markdown",
   "metadata": {},
   "source": [
    "## Export code"
   ]
  },
  {
   "cell_type": "code",
   "execution_count": 11,
   "metadata": {},
   "outputs": [],
   "source": [
    "system(\"python3 notebook2script.py 05_ml.ipynb\")"
   ]
  },
  {
   "cell_type": "code",
   "execution_count": null,
   "metadata": {},
   "outputs": [],
   "source": []
  }
 ],
 "metadata": {
  "kernelspec": {
   "display_name": "R",
   "language": "R",
   "name": "ir"
  },
  "language_info": {
   "codemirror_mode": "r",
   "file_extension": ".r",
   "mimetype": "text/x-r-source",
   "name": "R",
   "pygments_lexer": "r",
   "version": "4.0.3"
  }
 },
 "nbformat": 4,
 "nbformat_minor": 4
}
