{
 "cells": [
  {
   "cell_type": "code",
   "execution_count": 2,
   "metadata": {},
   "outputs": [],
   "source": [
    "library(coxed)"
   ]
  },
  {
   "cell_type": "code",
   "execution_count": 3,
   "metadata": {},
   "outputs": [],
   "source": [
    "n = 365*10"
   ]
  },
  {
   "cell_type": "code",
   "execution_count": 4,
   "metadata": {},
   "outputs": [],
   "source": [
    "simdata = sim.survdata(N=1000, T=n, num.data.frames=1)"
   ]
  },
  {
   "cell_type": "code",
   "execution_count": 5,
   "metadata": {},
   "outputs": [
    {
     "data": {
      "text/html": [
       "<table class=\"dataframe\">\n",
       "<caption>A data.frame: 10 × 5</caption>\n",
       "<thead>\n",
       "\t<tr><th></th><th scope=col>X1</th><th scope=col>X2</th><th scope=col>X3</th><th scope=col>y</th><th scope=col>failed</th></tr>\n",
       "\t<tr><th></th><th scope=col>&lt;dbl&gt;</th><th scope=col>&lt;dbl&gt;</th><th scope=col>&lt;dbl&gt;</th><th scope=col>&lt;int&gt;</th><th scope=col>&lt;lgl&gt;</th></tr>\n",
       "</thead>\n",
       "<tbody>\n",
       "\t<tr><th scope=row>1</th><td>-0.35223828</td><td>-0.518324044</td><td> 0.08131158</td><td>1987</td><td>TRUE</td></tr>\n",
       "\t<tr><th scope=row>2</th><td>-0.48757470</td><td> 0.085498316</td><td> 0.68745302</td><td>2903</td><td>TRUE</td></tr>\n",
       "\t<tr><th scope=row>3</th><td> 0.02051198</td><td>-0.142413555</td><td>-0.66347612</td><td>1898</td><td>TRUE</td></tr>\n",
       "\t<tr><th scope=row>4</th><td> 0.15897273</td><td>-1.196602938</td><td> 0.71100519</td><td>2871</td><td>TRUE</td></tr>\n",
       "\t<tr><th scope=row>5</th><td> 0.52761330</td><td> 0.009251314</td><td>-0.09098412</td><td>1861</td><td>TRUE</td></tr>\n",
       "\t<tr><th scope=row>6</th><td> 0.49180182</td><td>-0.169474184</td><td>-0.22838663</td><td>2039</td><td>TRUE</td></tr>\n",
       "\t<tr><th scope=row>7</th><td>-0.43491300</td><td> 1.006058832</td><td> 0.15191942</td><td>2075</td><td>TRUE</td></tr>\n",
       "\t<tr><th scope=row>8</th><td>-0.19406636</td><td> 0.104316167</td><td> 0.34258774</td><td>3611</td><td>TRUE</td></tr>\n",
       "\t<tr><th scope=row>9</th><td>-0.21635406</td><td>-0.021979539</td><td>-0.24196922</td><td>2865</td><td>TRUE</td></tr>\n",
       "\t<tr><th scope=row>10</th><td> 0.12622593</td><td> 0.376498741</td><td> 0.09221119</td><td>2905</td><td>TRUE</td></tr>\n",
       "</tbody>\n",
       "</table>\n"
      ],
      "text/latex": [
       "A data.frame: 10 × 5\n",
       "\\begin{tabular}{r|lllll}\n",
       "  & X1 & X2 & X3 & y & failed\\\\\n",
       "  & <dbl> & <dbl> & <dbl> & <int> & <lgl>\\\\\n",
       "\\hline\n",
       "\t1 & -0.35223828 & -0.518324044 &  0.08131158 & 1987 & TRUE\\\\\n",
       "\t2 & -0.48757470 &  0.085498316 &  0.68745302 & 2903 & TRUE\\\\\n",
       "\t3 &  0.02051198 & -0.142413555 & -0.66347612 & 1898 & TRUE\\\\\n",
       "\t4 &  0.15897273 & -1.196602938 &  0.71100519 & 2871 & TRUE\\\\\n",
       "\t5 &  0.52761330 &  0.009251314 & -0.09098412 & 1861 & TRUE\\\\\n",
       "\t6 &  0.49180182 & -0.169474184 & -0.22838663 & 2039 & TRUE\\\\\n",
       "\t7 & -0.43491300 &  1.006058832 &  0.15191942 & 2075 & TRUE\\\\\n",
       "\t8 & -0.19406636 &  0.104316167 &  0.34258774 & 3611 & TRUE\\\\\n",
       "\t9 & -0.21635406 & -0.021979539 & -0.24196922 & 2865 & TRUE\\\\\n",
       "\t10 &  0.12622593 &  0.376498741 &  0.09221119 & 2905 & TRUE\\\\\n",
       "\\end{tabular}\n"
      ],
      "text/markdown": [
       "\n",
       "A data.frame: 10 × 5\n",
       "\n",
       "| <!--/--> | X1 &lt;dbl&gt; | X2 &lt;dbl&gt; | X3 &lt;dbl&gt; | y &lt;int&gt; | failed &lt;lgl&gt; |\n",
       "|---|---|---|---|---|---|\n",
       "| 1 | -0.35223828 | -0.518324044 |  0.08131158 | 1987 | TRUE |\n",
       "| 2 | -0.48757470 |  0.085498316 |  0.68745302 | 2903 | TRUE |\n",
       "| 3 |  0.02051198 | -0.142413555 | -0.66347612 | 1898 | TRUE |\n",
       "| 4 |  0.15897273 | -1.196602938 |  0.71100519 | 2871 | TRUE |\n",
       "| 5 |  0.52761330 |  0.009251314 | -0.09098412 | 1861 | TRUE |\n",
       "| 6 |  0.49180182 | -0.169474184 | -0.22838663 | 2039 | TRUE |\n",
       "| 7 | -0.43491300 |  1.006058832 |  0.15191942 | 2075 | TRUE |\n",
       "| 8 | -0.19406636 |  0.104316167 |  0.34258774 | 3611 | TRUE |\n",
       "| 9 | -0.21635406 | -0.021979539 | -0.24196922 | 2865 | TRUE |\n",
       "| 10 |  0.12622593 |  0.376498741 |  0.09221119 | 2905 | TRUE |\n",
       "\n"
      ],
      "text/plain": [
       "   X1          X2           X3          y    failed\n",
       "1  -0.35223828 -0.518324044  0.08131158 1987 TRUE  \n",
       "2  -0.48757470  0.085498316  0.68745302 2903 TRUE  \n",
       "3   0.02051198 -0.142413555 -0.66347612 1898 TRUE  \n",
       "4   0.15897273 -1.196602938  0.71100519 2871 TRUE  \n",
       "5   0.52761330  0.009251314 -0.09098412 1861 TRUE  \n",
       "6   0.49180182 -0.169474184 -0.22838663 2039 TRUE  \n",
       "7  -0.43491300  1.006058832  0.15191942 2075 TRUE  \n",
       "8  -0.19406636  0.104316167  0.34258774 3611 TRUE  \n",
       "9  -0.21635406 -0.021979539 -0.24196922 2865 TRUE  \n",
       "10  0.12622593  0.376498741  0.09221119 2905 TRUE  "
      ]
     },
     "metadata": {},
     "output_type": "display_data"
    }
   ],
   "source": [
    "head(simdata$data, 10)"
   ]
  },
  {
   "cell_type": "code",
   "execution_count": 6,
   "metadata": {},
   "outputs": [
    {
     "data": {
      "text/html": [
       "<table class=\"dataframe\">\n",
       "<caption>A data.frame: 10 × 3</caption>\n",
       "<thead>\n",
       "\t<tr><th></th><th scope=col>X1</th><th scope=col>X2</th><th scope=col>X3</th></tr>\n",
       "\t<tr><th></th><th scope=col>&lt;dbl&gt;</th><th scope=col>&lt;dbl&gt;</th><th scope=col>&lt;dbl&gt;</th></tr>\n",
       "</thead>\n",
       "<tbody>\n",
       "\t<tr><th scope=row>1</th><td>-0.35223828</td><td>-0.518324044</td><td> 0.08131158</td></tr>\n",
       "\t<tr><th scope=row>2</th><td>-0.48757470</td><td> 0.085498316</td><td> 0.68745302</td></tr>\n",
       "\t<tr><th scope=row>3</th><td> 0.02051198</td><td>-0.142413555</td><td>-0.66347612</td></tr>\n",
       "\t<tr><th scope=row>4</th><td> 0.15897273</td><td>-1.196602938</td><td> 0.71100519</td></tr>\n",
       "\t<tr><th scope=row>5</th><td> 0.52761330</td><td> 0.009251314</td><td>-0.09098412</td></tr>\n",
       "\t<tr><th scope=row>6</th><td> 0.49180182</td><td>-0.169474184</td><td>-0.22838663</td></tr>\n",
       "\t<tr><th scope=row>7</th><td>-0.43491300</td><td> 1.006058832</td><td> 0.15191942</td></tr>\n",
       "\t<tr><th scope=row>8</th><td>-0.19406636</td><td> 0.104316167</td><td> 0.34258774</td></tr>\n",
       "\t<tr><th scope=row>9</th><td>-0.21635406</td><td>-0.021979539</td><td>-0.24196922</td></tr>\n",
       "\t<tr><th scope=row>10</th><td> 0.12622593</td><td> 0.376498741</td><td> 0.09221119</td></tr>\n",
       "</tbody>\n",
       "</table>\n"
      ],
      "text/latex": [
       "A data.frame: 10 × 3\n",
       "\\begin{tabular}{r|lll}\n",
       "  & X1 & X2 & X3\\\\\n",
       "  & <dbl> & <dbl> & <dbl>\\\\\n",
       "\\hline\n",
       "\t1 & -0.35223828 & -0.518324044 &  0.08131158\\\\\n",
       "\t2 & -0.48757470 &  0.085498316 &  0.68745302\\\\\n",
       "\t3 &  0.02051198 & -0.142413555 & -0.66347612\\\\\n",
       "\t4 &  0.15897273 & -1.196602938 &  0.71100519\\\\\n",
       "\t5 &  0.52761330 &  0.009251314 & -0.09098412\\\\\n",
       "\t6 &  0.49180182 & -0.169474184 & -0.22838663\\\\\n",
       "\t7 & -0.43491300 &  1.006058832 &  0.15191942\\\\\n",
       "\t8 & -0.19406636 &  0.104316167 &  0.34258774\\\\\n",
       "\t9 & -0.21635406 & -0.021979539 & -0.24196922\\\\\n",
       "\t10 &  0.12622593 &  0.376498741 &  0.09221119\\\\\n",
       "\\end{tabular}\n"
      ],
      "text/markdown": [
       "\n",
       "A data.frame: 10 × 3\n",
       "\n",
       "| <!--/--> | X1 &lt;dbl&gt; | X2 &lt;dbl&gt; | X3 &lt;dbl&gt; |\n",
       "|---|---|---|---|\n",
       "| 1 | -0.35223828 | -0.518324044 |  0.08131158 |\n",
       "| 2 | -0.48757470 |  0.085498316 |  0.68745302 |\n",
       "| 3 |  0.02051198 | -0.142413555 | -0.66347612 |\n",
       "| 4 |  0.15897273 | -1.196602938 |  0.71100519 |\n",
       "| 5 |  0.52761330 |  0.009251314 | -0.09098412 |\n",
       "| 6 |  0.49180182 | -0.169474184 | -0.22838663 |\n",
       "| 7 | -0.43491300 |  1.006058832 |  0.15191942 |\n",
       "| 8 | -0.19406636 |  0.104316167 |  0.34258774 |\n",
       "| 9 | -0.21635406 | -0.021979539 | -0.24196922 |\n",
       "| 10 |  0.12622593 |  0.376498741 |  0.09221119 |\n",
       "\n"
      ],
      "text/plain": [
       "   X1          X2           X3         \n",
       "1  -0.35223828 -0.518324044  0.08131158\n",
       "2  -0.48757470  0.085498316  0.68745302\n",
       "3   0.02051198 -0.142413555 -0.66347612\n",
       "4   0.15897273 -1.196602938  0.71100519\n",
       "5   0.52761330  0.009251314 -0.09098412\n",
       "6   0.49180182 -0.169474184 -0.22838663\n",
       "7  -0.43491300  1.006058832  0.15191942\n",
       "8  -0.19406636  0.104316167  0.34258774\n",
       "9  -0.21635406 -0.021979539 -0.24196922\n",
       "10  0.12622593  0.376498741  0.09221119"
      ]
     },
     "metadata": {},
     "output_type": "display_data"
    }
   ],
   "source": [
    "head(simdata$xdata, 10)"
   ]
  },
  {
   "cell_type": "markdown",
   "metadata": {},
   "source": [
    "#### True coefficients"
   ]
  },
  {
   "cell_type": "code",
   "execution_count": 7,
   "metadata": {},
   "outputs": [
    {
     "data": {
      "text/html": [
       "<table class=\"dataframe\">\n",
       "<caption>A matrix: 3 × 1 of type dbl</caption>\n",
       "<tbody>\n",
       "\t<tr><td> 0.11982303</td></tr>\n",
       "\t<tr><td>-0.03529623</td></tr>\n",
       "\t<tr><td>-0.03066299</td></tr>\n",
       "</tbody>\n",
       "</table>\n"
      ],
      "text/latex": [
       "A matrix: 3 × 1 of type dbl\n",
       "\\begin{tabular}{l}\n",
       "\t  0.11982303\\\\\n",
       "\t -0.03529623\\\\\n",
       "\t -0.03066299\\\\\n",
       "\\end{tabular}\n"
      ],
      "text/markdown": [
       "\n",
       "A matrix: 3 × 1 of type dbl\n",
       "\n",
       "|  0.11982303 |\n",
       "| -0.03529623 |\n",
       "| -0.03066299 |\n",
       "\n"
      ],
      "text/plain": [
       "     [,1]       \n",
       "[1,]  0.11982303\n",
       "[2,] -0.03529623\n",
       "[3,] -0.03066299"
      ]
     },
     "metadata": {},
     "output_type": "display_data"
    }
   ],
   "source": [
    "simdata$betas"
   ]
  },
  {
   "cell_type": "code",
   "execution_count": 8,
   "metadata": {},
   "outputs": [
    {
     "data": {
      "text/html": [
       "<style>\n",
       ".dl-inline {width: auto; margin:0; padding: 0}\n",
       ".dl-inline>dt, .dl-inline>dd {float: none; width: auto; display: inline-block}\n",
       ".dl-inline>dt::after {content: \":\\0020\"; padding-right: .5ex}\n",
       ".dl-inline>dt:not(:first-of-type) {padding-left: .5ex}\n",
       "</style><dl class=dl-inline><dt>X1</dt><dd>0.159799606650445</dd><dt>X2</dt><dd>-0.0586664838949374</dd><dt>X3</dt><dd>0.015589476228758</dd></dl>\n"
      ],
      "text/latex": [
       "\\begin{description*}\n",
       "\\item[X1] 0.159799606650445\n",
       "\\item[X2] -0.0586664838949374\n",
       "\\item[X3] 0.015589476228758\n",
       "\\end{description*}\n"
      ],
      "text/markdown": [
       "X1\n",
       ":   0.159799606650445X2\n",
       ":   -0.0586664838949374X3\n",
       ":   0.015589476228758\n",
       "\n"
      ],
      "text/plain": [
       "         X1          X2          X3 \n",
       " 0.15979961 -0.05866648  0.01558948 "
      ]
     },
     "metadata": {},
     "output_type": "display_data"
    }
   ],
   "source": [
    "model <- coxph(Surv(y, failed) ~ X1 + X2 + X3, data=simdata$data)\n",
    "model$coefficients"
   ]
  },
  {
   "cell_type": "code",
   "execution_count": 9,
   "metadata": {},
   "outputs": [
    {
     "data": {
      "text/plain": [
       "Call:\n",
       "coxph(formula = Surv(y, failed) ~ X1 + X2 + X3, data = simdata$data)\n",
       "\n",
       "       coef exp(coef) se(coef)      z      p\n",
       "X1  0.15980   1.17328  0.06951  2.299 0.0215\n",
       "X2 -0.05867   0.94302  0.06596 -0.889 0.3738\n",
       "X3  0.01559   1.01571  0.06670  0.234 0.8152\n",
       "\n",
       "Likelihood ratio test=6.34  on 3 df, p=0.09609\n",
       "n= 1000, number of events= 901 "
      ]
     },
     "metadata": {},
     "output_type": "display_data"
    }
   ],
   "source": [
    "model"
   ]
  },
  {
   "cell_type": "code",
   "execution_count": 14,
   "metadata": {},
   "outputs": [
    {
     "data": {
      "text/plain": [
       "Call:\n",
       "concordance.coxph(object = model)\n",
       "\n",
       "n= 1000 \n",
       "Concordance= 0.5231 se= 0.01113\n",
       "concordant discordant     tied.x     tied.y    tied.xy \n",
       "    234139     213472          0       1471          0 "
      ]
     },
     "metadata": {},
     "output_type": "display_data"
    }
   ],
   "source": [
    "concordance(model)"
   ]
  },
  {
   "cell_type": "code",
   "execution_count": null,
   "metadata": {},
   "outputs": [],
   "source": []
  }
 ],
 "metadata": {
  "kernelspec": {
   "display_name": "R",
   "language": "R",
   "name": "ir"
  },
  "language_info": {
   "codemirror_mode": "r",
   "file_extension": ".r",
   "mimetype": "text/x-r-source",
   "name": "R",
   "pygments_lexer": "r",
   "version": "4.0.3"
  }
 },
 "nbformat": 4,
 "nbformat_minor": 4
}
